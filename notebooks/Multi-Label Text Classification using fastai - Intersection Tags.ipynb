{
 "cells": [
  {
   "cell_type": "code",
   "execution_count": 1,
   "metadata": {},
   "outputs": [],
   "source": [
    "# This Python 3 environment comes with many helpful analytics libraries installed\n",
    "# It is defined by the kaggle/python docker image: https://github.com/kaggle/docker-python\n",
    "# For example, here's several helpful packages to load in \n",
    "\n",
    "import numpy as np # linear algebra\n",
    "import pandas as pd # data processing, CSV file I/O (e.g. pd.read_csv)\n",
    "\n",
    "# Input data files are available in the \"../input/\" directory.\n",
    "# For example, running this (by clicking run or pressing Shift+Enter) will list the files in the input directory\n",
    "\n",
    "import os\n",
    "\n",
    "from pathlib import Path\n",
    "\n",
    "# this adds the CANOSP root to the path, so we can import from there\n",
    "import sys\n",
    "sys.path.append('../')\n",
    "\n",
    "# root of the repository\n",
    "canosp_root_path = Path(\"./..\")\n",
    "data_path = canosp_root_path/\"data\""
   ]
  },
  {
   "cell_type": "code",
   "execution_count": 2,
   "metadata": {},
   "outputs": [],
   "source": [
    "from fastai.text import *"
   ]
  },
  {
   "cell_type": "code",
   "execution_count": 3,
   "metadata": {},
   "outputs": [
    {
     "data": {
      "text/html": [
       "<div>\n",
       "<style scoped>\n",
       "    .dataframe tbody tr th:only-of-type {\n",
       "        vertical-align: middle;\n",
       "    }\n",
       "\n",
       "    .dataframe tbody tr th {\n",
       "        vertical-align: top;\n",
       "    }\n",
       "\n",
       "    .dataframe thead th {\n",
       "        text-align: right;\n",
       "    }\n",
       "</style>\n",
       "<table border=\"1\" class=\"dataframe\">\n",
       "  <thead>\n",
       "    <tr style=\"text-align: right;\">\n",
       "      <th></th>\n",
       "      <th>ticket_id</th>\n",
       "      <th>session</th>\n",
       "      <th>java</th>\n",
       "      <th>download</th>\n",
       "      <th>file</th>\n",
       "      <th>account</th>\n",
       "      <th>refresh</th>\n",
       "      <th>homepage</th>\n",
       "      <th>button</th>\n",
       "      <th>paste</th>\n",
       "      <th>...</th>\n",
       "      <th>reinstall</th>\n",
       "      <th>mac</th>\n",
       "      <th>youtube</th>\n",
       "      <th>image</th>\n",
       "      <th>toolbar</th>\n",
       "      <th>load</th>\n",
       "      <th>library</th>\n",
       "      <th>window</th>\n",
       "      <th>restore</th>\n",
       "      <th>title_content</th>\n",
       "    </tr>\n",
       "  </thead>\n",
       "  <tbody>\n",
       "    <tr>\n",
       "      <th>0</th>\n",
       "      <td>955006</td>\n",
       "      <td>0</td>\n",
       "      <td>0</td>\n",
       "      <td>0</td>\n",
       "      <td>0</td>\n",
       "      <td>0</td>\n",
       "      <td>0</td>\n",
       "      <td>0</td>\n",
       "      <td>0</td>\n",
       "      <td>0</td>\n",
       "      <td>...</td>\n",
       "      <td>0</td>\n",
       "      <td>0</td>\n",
       "      <td>0</td>\n",
       "      <td>0</td>\n",
       "      <td>0</td>\n",
       "      <td>0</td>\n",
       "      <td>0</td>\n",
       "      <td>0</td>\n",
       "      <td>0</td>\n",
       "      <td>&gt;</td>\n",
       "    </tr>\n",
       "    <tr>\n",
       "      <th>1</th>\n",
       "      <td>1066283</td>\n",
       "      <td>0</td>\n",
       "      <td>0</td>\n",
       "      <td>0</td>\n",
       "      <td>0</td>\n",
       "      <td>0</td>\n",
       "      <td>0</td>\n",
       "      <td>0</td>\n",
       "      <td>0</td>\n",
       "      <td>0</td>\n",
       "      <td>...</td>\n",
       "      <td>0</td>\n",
       "      <td>0</td>\n",
       "      <td>0</td>\n",
       "      <td>0</td>\n",
       "      <td>0</td>\n",
       "      <td>0</td>\n",
       "      <td>0</td>\n",
       "      <td>1</td>\n",
       "      <td>0</td>\n",
       "      <td>delete deleted</td>\n",
       "    </tr>\n",
       "    <tr>\n",
       "      <th>2</th>\n",
       "      <td>1233313</td>\n",
       "      <td>0</td>\n",
       "      <td>0</td>\n",
       "      <td>0</td>\n",
       "      <td>0</td>\n",
       "      <td>0</td>\n",
       "      <td>0</td>\n",
       "      <td>0</td>\n",
       "      <td>0</td>\n",
       "      <td>0</td>\n",
       "      <td>...</td>\n",
       "      <td>0</td>\n",
       "      <td>0</td>\n",
       "      <td>0</td>\n",
       "      <td>0</td>\n",
       "      <td>0</td>\n",
       "      <td>0</td>\n",
       "      <td>0</td>\n",
       "      <td>1</td>\n",
       "      <td>0</td>\n",
       "      <td>open new window letter n w right click menu mo...</td>\n",
       "    </tr>\n",
       "    <tr>\n",
       "      <th>3</th>\n",
       "      <td>1233322</td>\n",
       "      <td>0</td>\n",
       "      <td>0</td>\n",
       "      <td>0</td>\n",
       "      <td>0</td>\n",
       "      <td>0</td>\n",
       "      <td>0</td>\n",
       "      <td>0</td>\n",
       "      <td>0</td>\n",
       "      <td>0</td>\n",
       "      <td>...</td>\n",
       "      <td>0</td>\n",
       "      <td>0</td>\n",
       "      <td>0</td>\n",
       "      <td>0</td>\n",
       "      <td>0</td>\n",
       "      <td>0</td>\n",
       "      <td>0</td>\n",
       "      <td>0</td>\n",
       "      <td>0</td>\n",
       "      <td>web camera picture localhost 65 office picture...</td>\n",
       "    </tr>\n",
       "    <tr>\n",
       "      <th>4</th>\n",
       "      <td>1233348</td>\n",
       "      <td>0</td>\n",
       "      <td>0</td>\n",
       "      <td>0</td>\n",
       "      <td>1</td>\n",
       "      <td>0</td>\n",
       "      <td>0</td>\n",
       "      <td>0</td>\n",
       "      <td>0</td>\n",
       "      <td>0</td>\n",
       "      <td>...</td>\n",
       "      <td>0</td>\n",
       "      <td>0</td>\n",
       "      <td>0</td>\n",
       "      <td>0</td>\n",
       "      <td>0</td>\n",
       "      <td>0</td>\n",
       "      <td>0</td>\n",
       "      <td>0</td>\n",
       "      <td>0</td>\n",
       "      <td>firefox hang high cpu use try open local file ...</td>\n",
       "    </tr>\n",
       "  </tbody>\n",
       "</table>\n",
       "<p>5 rows × 129 columns</p>\n",
       "</div>"
      ],
      "text/plain": [
       "   ticket_id  session  java  download  file  account  refresh  homepage  \\\n",
       "0     955006        0     0         0     0        0        0         0   \n",
       "1    1066283        0     0         0     0        0        0         0   \n",
       "2    1233313        0     0         0     0        0        0         0   \n",
       "3    1233322        0     0         0     0        0        0         0   \n",
       "4    1233348        0     0         0     1        0        0         0   \n",
       "\n",
       "   button  paste  ...  reinstall  mac  youtube  image  toolbar  load  library  \\\n",
       "0       0      0  ...          0    0        0      0        0     0        0   \n",
       "1       0      0  ...          0    0        0      0        0     0        0   \n",
       "2       0      0  ...          0    0        0      0        0     0        0   \n",
       "3       0      0  ...          0    0        0      0        0     0        0   \n",
       "4       0      0  ...          0    0        0      0        0     0        0   \n",
       "\n",
       "   window  restore                                      title_content  \n",
       "0       0        0                                                  >  \n",
       "1       1        0                                     delete deleted  \n",
       "2       1        0  open new window letter n w right click menu mo...  \n",
       "3       0        0  web camera picture localhost 65 office picture...  \n",
       "4       0        0  firefox hang high cpu use try open local file ...  \n",
       "\n",
       "[5 rows x 129 columns]"
      ]
     },
     "execution_count": 3,
     "metadata": {},
     "output_type": "execute_result"
    }
   ],
   "source": [
    "train = pd.read_csv(data_path/\"final_train.csv\")\n",
    "train.head()"
   ]
  },
  {
   "cell_type": "code",
   "execution_count": 4,
   "metadata": {},
   "outputs": [],
   "source": [
    "train['title_content'] = train['title_content'].str.replace('([“”¨«»®´·º½¾¿¡§£₤‘’])', '')"
   ]
  },
  {
   "cell_type": "code",
   "execution_count": 5,
   "metadata": {},
   "outputs": [],
   "source": [
    "test = pd.read_csv(data_path/\"final_test.csv\")\n",
    "\n",
    "test_id = test['ticket_id']\n",
    "test['title_content'] = test['title_content'].str.replace('([“”¨«»®´·º½¾¿¡§£₤‘’])', '')"
   ]
  },
  {
   "cell_type": "code",
   "execution_count": 6,
   "metadata": {},
   "outputs": [
    {
     "data": {
      "text/html": [],
      "text/plain": [
       "<IPython.core.display.HTML object>"
      ]
     },
     "metadata": {},
     "output_type": "display_data"
    },
    {
     "data": {
      "text/html": [],
      "text/plain": [
       "<IPython.core.display.HTML object>"
      ]
     },
     "metadata": {},
     "output_type": "display_data"
    },
    {
     "data": {
      "text/html": [
       "<table border=\"1\" class=\"dataframe\">\n",
       "  <thead>\n",
       "    <tr style=\"text-align: right;\">\n",
       "      <th>idx</th>\n",
       "      <th>text</th>\n",
       "    </tr>\n",
       "  </thead>\n",
       "  <tbody>\n",
       "    <tr>\n",
       "      <td>0</td>\n",
       "      <td>valid xxunk xxunk xxunk xxunk xxbos firefox hang high cpu use try open local file mean try mean open local html file folder tab xxunk forever spin high cpu use unresponsive form xxunk kill task manager mean try include ff file open select html file ff use file : / / c : / window explorer context menu open &gt; firefox window explorer drag html file firefox address bar window</td>\n",
       "    </tr>\n",
       "    <tr>\n",
       "      <td>1</td>\n",
       "      <td>setting need people need xxbos add google play store app add on google account access google play store firefox browser instruct setting click account add google play find set firefox browser like xxunk exit xxbos firefox will open xxunk page take circle help firefox will open try refresh say run background delete will open reason xxunk troubleshoot page take xxunk circle need help know play xxunk user bring computer technology</td>\n",
       "    </tr>\n",
       "    <tr>\n",
       "      <td>2</td>\n",
       "      <td>xxunk hotmail transition beta way return xxunk attempt view email account mozilla xxunk sure hope able xxunk prefer use firefox xxunk xxbos flash player banner flicker scroll issue solve online radio be xxunk flash player webpage scroll flicker normal stop scroll flash banner forum hardware acceleration disable xxunk flicker restart ff safe mode issue try figure possible xxunk hardware acceleration flash player configuration xxunk option available option finally find solution</td>\n",
       "    </tr>\n",
       "    <tr>\n",
       "      <td>3</td>\n",
       "      <td>search thing like clipboard win 10 bing bing xxunk read xxunk problem help gratefully xxunk xxbos firefox upload bookmark datum recent relate article state description field remove user interface bookmark manager library xxunk information store bookmark description xxunk cloud collect xxunk xxunk imply description come xxunk xxunk forbid xxunk information long available html export xxbos firefox set clear cookie firefox set remember cooky select site erase cooky internet history close</td>\n",
       "    </tr>\n",
       "    <tr>\n",
       "      <td>4</td>\n",
       "      <td>os x specific test window ubuntu able copy multiple link problem file bug report zero activity response expect overnight 7 month nice xxunk problem real day roll xxunk xxbos xxunk info track protection understand basic xxunk track protection unable find answer specific question find documentation question answer section provide answer 1 need clear exist cooky remove xxunk site track turn track protection turn immediate filter exist cooky 2 turn track</td>\n",
       "    </tr>\n",
       "  </tbody>\n",
       "</table>"
      ],
      "text/plain": [
       "<IPython.core.display.HTML object>"
      ]
     },
     "metadata": {},
     "output_type": "display_data"
    }
   ],
   "source": [
    "data = (TextList.from_df(train, cols=\"title_content\")\n",
    "                .split_by_rand_pct(0.2)\n",
    "                .label_for_lm()  \n",
    "                .databunch(bs=48))\n",
    "data.show_batch()"
   ]
  },
  {
   "cell_type": "code",
   "execution_count": 7,
   "metadata": {},
   "outputs": [],
   "source": [
    "learn = language_model_learner(data, AWD_LSTM, drop_mult=0.3)"
   ]
  },
  {
   "cell_type": "code",
   "execution_count": 8,
   "metadata": {},
   "outputs": [
    {
     "data": {
      "text/html": [
       "\n",
       "    <div>\n",
       "        <style>\n",
       "            /* Turns off some styling */\n",
       "            progress {\n",
       "                /* gets rid of default border in Firefox and Opera. */\n",
       "                border: none;\n",
       "                /* Needs to be in here for Safari polyfill so background images work as expected. */\n",
       "                background-size: auto;\n",
       "            }\n",
       "            .progress-bar-interrupted, .progress-bar-interrupted::-webkit-progress-bar {\n",
       "                background: #F44336;\n",
       "            }\n",
       "        </style>\n",
       "      <progress value='4' class='' max='5', style='width:300px; height:20px; vertical-align: middle;'></progress>\n",
       "      80.00% [4/5 00:06<00:01]\n",
       "    </div>\n",
       "    \n",
       "<table border=\"1\" class=\"dataframe\">\n",
       "  <thead>\n",
       "    <tr style=\"text-align: left;\">\n",
       "      <th>epoch</th>\n",
       "      <th>train_loss</th>\n",
       "      <th>valid_loss</th>\n",
       "      <th>accuracy</th>\n",
       "      <th>time</th>\n",
       "    </tr>\n",
       "  </thead>\n",
       "  <tbody>\n",
       "    <tr>\n",
       "      <td>0</td>\n",
       "      <td>8.595420</td>\n",
       "      <td>#na#</td>\n",
       "      <td>00:01</td>\n",
       "    </tr>\n",
       "    <tr>\n",
       "      <td>1</td>\n",
       "      <td>8.585496</td>\n",
       "      <td>#na#</td>\n",
       "      <td>00:01</td>\n",
       "    </tr>\n",
       "    <tr>\n",
       "      <td>2</td>\n",
       "      <td>8.342802</td>\n",
       "      <td>#na#</td>\n",
       "      <td>00:01</td>\n",
       "    </tr>\n",
       "    <tr>\n",
       "      <td>3</td>\n",
       "      <td>7.531529</td>\n",
       "      <td>#na#</td>\n",
       "      <td>00:01</td>\n",
       "    </tr>\n",
       "  </tbody>\n",
       "</table><p>\n",
       "\n",
       "    <div>\n",
       "        <style>\n",
       "            /* Turns off some styling */\n",
       "            progress {\n",
       "                /* gets rid of default border in Firefox and Opera. */\n",
       "                border: none;\n",
       "                /* Needs to be in here for Safari polyfill so background images work as expected. */\n",
       "                background-size: auto;\n",
       "            }\n",
       "            .progress-bar-interrupted, .progress-bar-interrupted::-webkit-progress-bar {\n",
       "                background: #F44336;\n",
       "            }\n",
       "        </style>\n",
       "      <progress value='19' class='' max='20', style='width:300px; height:20px; vertical-align: middle;'></progress>\n",
       "      95.00% [19/20 00:01<00:00 10.1207]\n",
       "    </div>\n",
       "    "
      ],
      "text/plain": [
       "<IPython.core.display.HTML object>"
      ]
     },
     "metadata": {},
     "output_type": "display_data"
    },
    {
     "name": "stdout",
     "output_type": "stream",
     "text": [
      "LR Finder is complete, type {learner_name}.recorder.plot() to see the graph.\n"
     ]
    }
   ],
   "source": [
    "learn.lr_find()"
   ]
  },
  {
   "cell_type": "code",
   "execution_count": 9,
   "metadata": {},
   "outputs": [
    {
     "data": {
      "image/png": "[encoded data removed]",
      "text/plain": [
       "<Figure size 432x288 with 1 Axes>"
      ]
     },
     "metadata": {
      "needs_background": "light"
     },
     "output_type": "display_data"
    }
   ],
   "source": [
    "learn.recorder.plot()"
   ]
  },
  {
   "cell_type": "code",
   "execution_count": 10,
   "metadata": {},
   "outputs": [
    {
     "data": {
      "text/html": [
       "<table border=\"1\" class=\"dataframe\">\n",
       "  <thead>\n",
       "    <tr style=\"text-align: left;\">\n",
       "      <th>epoch</th>\n",
       "      <th>train_loss</th>\n",
       "      <th>valid_loss</th>\n",
       "      <th>accuracy</th>\n",
       "      <th>time</th>\n",
       "    </tr>\n",
       "  </thead>\n",
       "  <tbody>\n",
       "    <tr>\n",
       "      <td>0</td>\n",
       "      <td>7.710621</td>\n",
       "      <td>6.026213</td>\n",
       "      <td>0.140179</td>\n",
       "      <td>00:01</td>\n",
       "    </tr>\n",
       "    <tr>\n",
       "      <td>1</td>\n",
       "      <td>6.640988</td>\n",
       "      <td>5.468813</td>\n",
       "      <td>0.161548</td>\n",
       "      <td>00:01</td>\n",
       "    </tr>\n",
       "    <tr>\n",
       "      <td>2</td>\n",
       "      <td>6.060260</td>\n",
       "      <td>5.320247</td>\n",
       "      <td>0.171012</td>\n",
       "      <td>00:01</td>\n",
       "    </tr>\n",
       "    <tr>\n",
       "      <td>3</td>\n",
       "      <td>5.664231</td>\n",
       "      <td>5.268380</td>\n",
       "      <td>0.173512</td>\n",
       "      <td>00:01</td>\n",
       "    </tr>\n",
       "    <tr>\n",
       "      <td>4</td>\n",
       "      <td>5.390822</td>\n",
       "      <td>5.261236</td>\n",
       "      <td>0.173393</td>\n",
       "      <td>00:01</td>\n",
       "    </tr>\n",
       "  </tbody>\n",
       "</table>"
      ],
      "text/plain": [
       "<IPython.core.display.HTML object>"
      ]
     },
     "metadata": {},
     "output_type": "display_data"
    }
   ],
   "source": [
    "learn.fit_one_cycle(5, 1e-2, moms=(0.8,0.7))"
   ]
  },
  {
   "cell_type": "code",
   "execution_count": 11,
   "metadata": {},
   "outputs": [],
   "source": [
    "learn.save_encoder('fine_tuned_enc')"
   ]
  },
  {
   "cell_type": "code",
   "execution_count": 12,
   "metadata": {},
   "outputs": [
    {
     "data": {
      "text/plain": [
       "['session',\n",
       " 'java',\n",
       " 'download',\n",
       " 'file',\n",
       " 'account',\n",
       " 'refresh',\n",
       " 'homepage',\n",
       " 'button',\n",
       " 'paste',\n",
       " 'google',\n",
       " 'save',\n",
       " 'permission',\n",
       " 'reader',\n",
       " 'email',\n",
       " 'norton',\n",
       " 'pdf',\n",
       " 'freeze',\n",
       " 'search',\n",
       " 'microsoft',\n",
       " 'flash',\n",
       " 'log',\n",
       " 'website',\n",
       " 'aol',\n",
       " 'audio',\n",
       " 'facebook',\n",
       " 'attachment',\n",
       " 'sync',\n",
       " 'navigation',\n",
       " 'network',\n",
       " 'cache',\n",
       " 'uninstall',\n",
       " 'connection',\n",
       " 'shortcut',\n",
       " 'password',\n",
       " 'bookmark',\n",
       " 'history',\n",
       " 'yahoo',\n",
       " 'background',\n",
       " 'block',\n",
       " 'beta',\n",
       " 'downgrade',\n",
       " 'upload',\n",
       " 'keyboard',\n",
       " 'dialog',\n",
       " 'printer',\n",
       " 'setup',\n",
       " 'safari',\n",
       " 'enable',\n",
       " 'dropdown',\n",
       " 'popup',\n",
       " 'profile',\n",
       " 'slow',\n",
       " 'display',\n",
       " 'content',\n",
       " 'drag',\n",
       " 'theme',\n",
       " 'ubuntu',\n",
       " 'sign',\n",
       " 'send',\n",
       " 'install',\n",
       " 'upgrade',\n",
       " 'error',\n",
       " 'player',\n",
       " 'adobe',\n",
       " 'virus',\n",
       " 'certificate',\n",
       " 'restart',\n",
       " 'explorer',\n",
       " 'script',\n",
       " 'import',\n",
       " 'sound',\n",
       " 'scroll',\n",
       " 'username',\n",
       " 'speed',\n",
       " 'font',\n",
       " 'export',\n",
       " 'reset',\n",
       " 'icon',\n",
       " 'bank',\n",
       " 'javascript',\n",
       " 'form',\n",
       " 'exception',\n",
       " 'redirect',\n",
       " 'gmail',\n",
       " 'memory',\n",
       " 'format',\n",
       " 'launch',\n",
       " 'disable',\n",
       " 'security',\n",
       " 'copy',\n",
       " 'proxy',\n",
       " 'mouse',\n",
       " 'tab',\n",
       " 'outlook',\n",
       " 'private',\n",
       " 'frame',\n",
       " 'home',\n",
       " 'recover',\n",
       " 'ebay',\n",
       " 'open',\n",
       " 'sidebar',\n",
       " 'reboot',\n",
       " 'mail',\n",
       " 'startup',\n",
       " 'default',\n",
       " 'login',\n",
       " 'update',\n",
       " 'reload',\n",
       " 'bing',\n",
       " 'print',\n",
       " 'crash',\n",
       " 'play',\n",
       " 'cookie',\n",
       " 'plugin',\n",
       " 'video',\n",
       " 'connect',\n",
       " 'blank',\n",
       " 'zoom',\n",
       " 'reinstall',\n",
       " 'mac',\n",
       " 'youtube',\n",
       " 'image',\n",
       " 'toolbar',\n",
       " 'load',\n",
       " 'library',\n",
       " 'window',\n",
       " 'restore']"
      ]
     },
     "execution_count": 12,
     "metadata": {},
     "output_type": "execute_result"
    }
   ],
   "source": [
    "with open(canosp_root_path/\"candidate_tags/roland_edit_all_methods_intersection.txt\") as f:\n",
    "    candidate_tags = [line.strip() for line in f.readlines()]\n",
    "    \n",
    "# candidate_tags.remove(\"firefox\")\n",
    "    \n",
    "label_cols = candidate_tags\n",
    "label_cols"
   ]
  },
  {
   "cell_type": "code",
   "execution_count": 13,
   "metadata": {},
   "outputs": [
    {
     "data": {
      "text/html": [],
      "text/plain": [
       "<IPython.core.display.HTML object>"
      ]
     },
     "metadata": {},
     "output_type": "display_data"
    },
    {
     "data": {
      "text/html": [],
      "text/plain": [
       "<IPython.core.display.HTML object>"
      ]
     },
     "metadata": {},
     "output_type": "display_data"
    },
    {
     "data": {
      "text/html": [],
      "text/plain": [
       "<IPython.core.display.HTML object>"
      ]
     },
     "metadata": {},
     "output_type": "display_data"
    },
    {
     "data": {
      "text/html": [
       "<table border=\"1\" class=\"dataframe\">\n",
       "  <thead>\n",
       "    <tr style=\"text-align: right;\">\n",
       "      <th>text</th>\n",
       "      <th>target</th>\n",
       "    </tr>\n",
       "  </thead>\n",
       "  <tbody>\n",
       "    <tr>\n",
       "      <td>xxbos constant crash hello ! i xxunk xxunk use the browser anymore . it xxunk xxunk i keep it open in background xxunk xxunk 1 tab or xxunk xxunk xxunk it . this xxunk xxunk xxunk xxunk august 2017 xxunk year . i have xxunk the xxunk to this xxunk . thank you . - xxunk the xxunk one xxunk xxunk xxunk i have xxunk to open the browser xxunk</td>\n",
       "      <td>background;open;crash</td>\n",
       "    </tr>\n",
       "    <tr>\n",
       "      <td>xxbos work mozilla firefox xxunk xxunk xxunk xxunk xxunk xxunk log kill work xxunk authorize xxunk xxunk mainly xxunk xxunk etc xxunk xxunk hell xxunk force target xxunk xxunk xxunk xxunk authorize xxunk rule xxunk xxunk intentionally xxunk xxunk till present time 01 / xxunk / xxunk xxunk force alike xxunk mainly xxunk xxunk xxunk alike xxunk rule xxunk xxunk xxunk xxunk xxunk xxunk xxunk xxunk xxunk xxunk xxunk xxunk</td>\n",
       "      <td>error</td>\n",
       "    </tr>\n",
       "    <tr>\n",
       "      <td>xxbos firefox crash firefox crash time especially xxunk think video card go buy new video xxunk xxunk uninstalled firefox reinstall firefox disable addons disable hardware xxunk problem browser xxunk list submit crash report report would date xxunk xxunk xxunk 10 / 31 / 2019 8:42 xxunk xxunk xxunk xxunk xxunk 10 / 31 / 2019 8:42 xxunk xxunk xxunk xxunk 10 / 31 / 2019 8:42 pmbp xxunk xxunk xxunk</td>\n",
       "      <td>facebook;error;memory;crash;load</td>\n",
       "    </tr>\n",
       "    <tr>\n",
       "      <td>xxbos firefox crash start error show firefox developer edition update unsure restart update click firefox icon firefox process task manager time quit show window error message try enter safe mode press shift start firefox result process quit show dialog enter safe mode try uninstall install firefox result remove profile xxunk appdata% \\ mozilla \\ firefox \\ profiles \\ record window log start attempt &lt; event xxunk = window error report</td>\n",
       "      <td>error;crash</td>\n",
       "    </tr>\n",
       "    <tr>\n",
       "      <td>xxbos xxunk update v65 complex session invoke automatic refresh create old firefox datum folder desktop change firefox setting today xxunk update v65 complex session invoke automatic refresh create old firefox datum folder desktop change firefox setting window 10 pro 64-bit update present operation normal stable subject event minimize browser work email client thunderbird firefox default click link thunderbird normally xxunk come pass click click double click link xxunk xxunk xxunk</td>\n",
       "      <td>session;refresh;error;update</td>\n",
       "    </tr>\n",
       "  </tbody>\n",
       "</table>"
      ],
      "text/plain": [
       "<IPython.core.display.HTML object>"
      ]
     },
     "metadata": {},
     "output_type": "display_data"
    }
   ],
   "source": [
    "test_datalist = TextList.from_df(test, cols='title_content', vocab=data.vocab)\n",
    "\n",
    "data_clas = (TextList.from_df(train, cols='title_content', vocab=data.vocab)\n",
    "             .split_by_rand_pct(0.2)\n",
    "             .label_from_df(cols=label_cols , classes=label_cols)\n",
    "             .add_test(test_datalist)\n",
    "             .databunch(bs=32))\n",
    "\n",
    "data_clas.show_batch()"
   ]
  },
  {
   "cell_type": "code",
   "execution_count": 14,
   "metadata": {},
   "outputs": [],
   "source": [
    "learn_classifier = text_classifier_learner(data_clas, AWD_LSTM, drop_mult=0.5)\n",
    "learn_classifier.load_encoder('fine_tuned_enc')\n",
    "learn_classifier.freeze()"
   ]
  },
  {
   "cell_type": "code",
   "execution_count": 15,
   "metadata": {},
   "outputs": [
    {
     "data": {
      "text/html": [
       "\n",
       "    <div>\n",
       "        <style>\n",
       "            /* Turns off some styling */\n",
       "            progress {\n",
       "                /* gets rid of default border in Firefox and Opera. */\n",
       "                border: none;\n",
       "                /* Needs to be in here for Safari polyfill so background images work as expected. */\n",
       "                background-size: auto;\n",
       "            }\n",
       "            .progress-bar-interrupted, .progress-bar-interrupted::-webkit-progress-bar {\n",
       "                background: #F44336;\n",
       "            }\n",
       "        </style>\n",
       "      <progress value='2' class='' max='3', style='width:300px; height:20px; vertical-align: middle;'></progress>\n",
       "      66.67% [2/3 00:07<00:03]\n",
       "    </div>\n",
       "    \n",
       "<table border=\"1\" class=\"dataframe\">\n",
       "  <thead>\n",
       "    <tr style=\"text-align: left;\">\n",
       "      <th>epoch</th>\n",
       "      <th>train_loss</th>\n",
       "      <th>valid_loss</th>\n",
       "      <th>time</th>\n",
       "    </tr>\n",
       "  </thead>\n",
       "  <tbody>\n",
       "    <tr>\n",
       "      <td>0</td>\n",
       "      <td>0.738120</td>\n",
       "      <td>#na#</td>\n",
       "      <td>00:03</td>\n",
       "    </tr>\n",
       "    <tr>\n",
       "      <td>1</td>\n",
       "      <td>0.552306</td>\n",
       "      <td>#na#</td>\n",
       "      <td>00:03</td>\n",
       "    </tr>\n",
       "  </tbody>\n",
       "</table><p>\n",
       "\n",
       "    <div>\n",
       "        <style>\n",
       "            /* Turns off some styling */\n",
       "            progress {\n",
       "                /* gets rid of default border in Firefox and Opera. */\n",
       "                border: none;\n",
       "                /* Needs to be in here for Safari polyfill so background images work as expected. */\n",
       "                background-size: auto;\n",
       "            }\n",
       "            .progress-bar-interrupted, .progress-bar-interrupted::-webkit-progress-bar {\n",
       "                background: #F44336;\n",
       "            }\n",
       "        </style>\n",
       "      <progress value='10' class='' max='44', style='width:300px; height:20px; vertical-align: middle;'></progress>\n",
       "      22.73% [10/44 00:01<00:06 1.9537]\n",
       "    </div>\n",
       "    "
      ],
      "text/plain": [
       "<IPython.core.display.HTML object>"
      ]
     },
     "metadata": {},
     "output_type": "display_data"
    },
    {
     "name": "stdout",
     "output_type": "stream",
     "text": [
      "LR Finder is complete, type {learner_name}.recorder.plot() to see the graph.\n"
     ]
    }
   ],
   "source": [
    "learn_classifier.lr_find()"
   ]
  },
  {
   "cell_type": "code",
   "execution_count": 16,
   "metadata": {},
   "outputs": [
    {
     "data": {
      "image/png": "[encoded data removed]",
      "text/plain": [
       "<Figure size 432x288 with 1 Axes>"
      ]
     },
     "metadata": {
      "needs_background": "light"
     },
     "output_type": "display_data"
    }
   ],
   "source": [
    "learn_classifier.recorder.plot()"
   ]
  },
  {
   "cell_type": "code",
   "execution_count": 17,
   "metadata": {},
   "outputs": [
    {
     "data": {
      "text/html": [
       "<table border=\"1\" class=\"dataframe\">\n",
       "  <thead>\n",
       "    <tr style=\"text-align: left;\">\n",
       "      <th>epoch</th>\n",
       "      <th>train_loss</th>\n",
       "      <th>valid_loss</th>\n",
       "      <th>time</th>\n",
       "    </tr>\n",
       "  </thead>\n",
       "  <tbody>\n",
       "    <tr>\n",
       "      <td>0</td>\n",
       "      <td>0.577191</td>\n",
       "      <td>0.250084</td>\n",
       "      <td>00:03</td>\n",
       "    </tr>\n",
       "    <tr>\n",
       "      <td>1</td>\n",
       "      <td>0.238246</td>\n",
       "      <td>0.092836</td>\n",
       "      <td>00:03</td>\n",
       "    </tr>\n",
       "    <tr>\n",
       "      <td>2</td>\n",
       "      <td>0.142125</td>\n",
       "      <td>0.086829</td>\n",
       "      <td>00:04</td>\n",
       "    </tr>\n",
       "    <tr>\n",
       "      <td>3</td>\n",
       "      <td>0.105361</td>\n",
       "      <td>0.083484</td>\n",
       "      <td>00:04</td>\n",
       "    </tr>\n",
       "    <tr>\n",
       "      <td>4</td>\n",
       "      <td>0.089055</td>\n",
       "      <td>0.082392</td>\n",
       "      <td>00:03</td>\n",
       "    </tr>\n",
       "    <tr>\n",
       "      <td>5</td>\n",
       "      <td>0.080948</td>\n",
       "      <td>0.081908</td>\n",
       "      <td>00:03</td>\n",
       "    </tr>\n",
       "  </tbody>\n",
       "</table>"
      ],
      "text/plain": [
       "<IPython.core.display.HTML object>"
      ]
     },
     "metadata": {},
     "output_type": "display_data"
    }
   ],
   "source": [
    "learn_classifier.fit_one_cycle(6, 2e-2, moms=(0.8,0.7))"
   ]
  },
  {
   "cell_type": "code",
   "execution_count": 18,
   "metadata": {},
   "outputs": [
    {
     "data": {
      "text/html": [
       "<table border=\"1\" class=\"dataframe\">\n",
       "  <thead>\n",
       "    <tr style=\"text-align: left;\">\n",
       "      <th>epoch</th>\n",
       "      <th>train_loss</th>\n",
       "      <th>valid_loss</th>\n",
       "      <th>time</th>\n",
       "    </tr>\n",
       "  </thead>\n",
       "  <tbody>\n",
       "    <tr>\n",
       "      <td>0</td>\n",
       "      <td>0.081655</td>\n",
       "      <td>0.086486</td>\n",
       "      <td>00:03</td>\n",
       "    </tr>\n",
       "  </tbody>\n",
       "</table>"
      ],
      "text/plain": [
       "<IPython.core.display.HTML object>"
      ]
     },
     "metadata": {},
     "output_type": "display_data"
    }
   ],
   "source": [
    "learn_classifier.freeze_to(-2)\n",
    "learn_classifier.fit_one_cycle(1, slice(1e-2/(2.6**4),1e-2), moms=(0.8,0.7))"
   ]
  },
  {
   "cell_type": "code",
   "execution_count": 19,
   "metadata": {},
   "outputs": [
    {
     "data": {
      "text/html": [
       "<table border=\"1\" class=\"dataframe\">\n",
       "  <thead>\n",
       "    <tr style=\"text-align: left;\">\n",
       "      <th>epoch</th>\n",
       "      <th>train_loss</th>\n",
       "      <th>valid_loss</th>\n",
       "      <th>time</th>\n",
       "    </tr>\n",
       "  </thead>\n",
       "  <tbody>\n",
       "    <tr>\n",
       "      <td>0</td>\n",
       "      <td>0.078552</td>\n",
       "      <td>0.082323</td>\n",
       "      <td>00:04</td>\n",
       "    </tr>\n",
       "  </tbody>\n",
       "</table>"
      ],
      "text/plain": [
       "<IPython.core.display.HTML object>"
      ]
     },
     "metadata": {},
     "output_type": "display_data"
    }
   ],
   "source": [
    "learn_classifier.freeze_to(-3)\n",
    "learn_classifier.fit_one_cycle(1, slice(5e-3/(2.6**4),5e-3), moms=(0.8,0.7))"
   ]
  },
  {
   "cell_type": "code",
   "execution_count": 20,
   "metadata": {
    "scrolled": false
   },
   "outputs": [
    {
     "data": {
      "text/html": [
       "<table border=\"1\" class=\"dataframe\">\n",
       "  <thead>\n",
       "    <tr style=\"text-align: right;\">\n",
       "      <th>text</th>\n",
       "      <th>target</th>\n",
       "      <th>prediction</th>\n",
       "    </tr>\n",
       "  </thead>\n",
       "  <tbody>\n",
       "    <tr>\n",
       "      <td>xxbos crash xxunk report xxunk build:{applicationid:{ec8030f7-c20a-464f-9b0e-13a3a9e97384}applicationname firefoxarchitecture x86 xxunk xxunk xxunk true}partner:{distributionid nulldistributionversion nullpartnerid nulldistributor nulldistributorchannel xxunk xxunk ha xxrep 4 s e3hassse4_1hassse4_2hasavxhasavx2hasaes]}os:{name xxunk en xxunk mtfddak256mbf-1an15abharevision xxunk mtfddak256mbf-1an15abharevision xxunk mtfddak256mbf-1an15abharevision xxunk xxunk xxunk xxunk xxunk xxunk hd graphic xxunk nulldriver xxunk xxunk xxunk xxunk xxunk xxunk 8 xxunk xxunk xxunk xxunk xxunk xxunk xxunk xxunk xxunk xxunk xxunk xxunk xxunk xxunk truee10senabled xxunk falselocale en xxunk releaseenabled trueautodownload true}userprefs:{browser.search.widget.innavbar</td>\n",
       "      <td>account;log;startup;crash</td>\n",
       "      <td></td>\n",
       "    </tr>\n",
       "    <tr>\n",
       "      <td>xxbos bing google will load say connection secure give follow xxunk use invalid security certificate certificate trust issuer certificate unknown server send appropriate xxunk certificate additional root certificate need import error code xxunk peer certificate issuer recognize http strict transport security true http public key pin false certificate chain xxrep 5 - begin certificate xxrep 5 - xxunk xxunk xxunk xxunk xxunk xxunk xxunk xxunk + xxunk xxunk xxunk xxunk</td>\n",
       "      <td>google;connection;certificate;security;bing</td>\n",
       "      <td></td>\n",
       "    </tr>\n",
       "    <tr>\n",
       "      <td>xxbos suspicious firefox survey mozilla would 3 inane questions win free iphone ask credit card pay $ 1 xxunk fee xxunk investigate xxunk firefox survey highly suspicious ask 3 inane question like use firefox use xxunk xxunk free iphone x display suppose xxunk email xxunk joy xxunk wonderful gift come quickly mail ask would address e mail credit card info request authorize $ xxunk payment cover ship xxunk xxunk xxunk</td>\n",
       "      <td>content</td>\n",
       "      <td></td>\n",
       "    </tr>\n",
       "    <tr>\n",
       "      <td>xxbos firefox 71 work window 7 laptop hello similar problem mention discussion solution give help afraid use firefox automatic update switch 3 system 2 window 7 1 window 10 firefox update 71 3 system window 10 installation go xxunk 2 window 7 system problem resolve unfortunately update window 7 laptop go firefox unusable system firefox 71 update firefox keep crash time try run show window error box state firefox stop</td>\n",
       "      <td>error;startup;update;crash</td>\n",
       "      <td></td>\n",
       "    </tr>\n",
       "    <tr>\n",
       "      <td>xxbos disable update xxunk go shit board option restore xxunk care policy file xxunk care way think xxunk go response kindly suck shoot xxunk xxunk miss absolutely reason checkbox go absolutely reason edit xxunk json file xxunk party text editor prevent checkbox right configure xxunk xxunk bloat ram xxunk suck software program xxunk xxunk fire xxunk xxunk suggest implement bug fix want update window xxunk quit window edit xxunk restart</td>\n",
       "      <td>upgrade;disable;default;update;restore</td>\n",
       "      <td></td>\n",
       "    </tr>\n",
       "    <tr>\n",
       "      <td>xxbos firefox crash hello get error message xxunk tab xxunk help choose restore tab reload page update firefox safe mode error keep happen crash report i d report would date xxunk xxunk xxunk xxunk 22 / 10 / 2019 xxunk xxunk xxunk xxunk 22 / 10 / 2019 xxunk xxunk xxunk xxunk xxunk 22 / 10 / 2019 xxunk bp xxunk xxunk xxunk xxunk 22 / 10 / 2019 xxunk</td>\n",
       "      <td>beta;error;tab;crash;restore</td>\n",
       "      <td></td>\n",
       "    </tr>\n",
       "    <tr>\n",
       "      <td>xxbos delete history need real email address explain xxunk xxunk xxunk xxunk old learn disable xxunk visit have ditch pc screw xxunk get big screen imac away source xxunk permission time xxunk imac geek install call xxunk speed dial allow xxunk frequently website xxunk time leave site similar xxunk speed dial pop show site invoke non geek mac firefox friend say problem xxunk site go history follow prompt select xxunk</td>\n",
       "      <td>email;history</td>\n",
       "      <td></td>\n",
       "    </tr>\n",
       "    <tr>\n",
       "      <td>xxbos firefox xxunk esr work ok xxunk fail render xxunk xxunk wikipedia work box .css issue question ask try solution adblock disable cooky cache clear theme set default config option tweak default specific example wikipedia site xxunk xxunk xxunk image fail render appear briefly disappear flash plugin disable default .css file alter check note ff menu tool page info medium show xxunk image fine click blank screen image right click</td>\n",
       "      <td>cache;error;load</td>\n",
       "      <td></td>\n",
       "    </tr>\n",
       "    <tr>\n",
       "      <td>xxbos ok xxunk not sign xxunk force second device xxunk loose xxunk xxunk okay let try fire fox will not let sign currently phone lose not will not xxunk loose xxunk device like problem lose phone okay need file xxunk problem xxunk xxunk bad lose phone xxunk change try stuff trust pass word ahead tell 16 xxunk xxunk pass word xxunk not be xxunk xxunk like child company want numb</td>\n",
       "      <td>password;sign;send;login</td>\n",
       "      <td></td>\n",
       "    </tr>\n",
       "    <tr>\n",
       "      <td>xxbos long time xxunk repeat question u make un need change link question ask support ignore xxunk ignore response thread thread lock question make xxunk firefox need note xxunk change people want force use like xxunk tab address bar example attempt lock change get frustrate firefox xxunk try find new way block ability customize firefox way people want look act ie remove junk need want xxunk bookmark toolbar etc move</td>\n",
       "      <td>restore</td>\n",
       "      <td>search</td>\n",
       "    </tr>\n",
       "    <tr>\n",
       "      <td>xxbos play youtube video 1080p 60fps drop frame install firefox quantum time youtube video play 1080p 60fps drop frame work day past month problem will away play video 1080p xxunk 60fps 1080p 60fps drop frame issue recently improve internet play video xxunk wait xxunk minute late version firefox 64.0 try disable hardware acceleration suggest guess bite well drop 50 frame accord youtube xxunk xxunk say alter firefox configuration try firefox</td>\n",
       "      <td>play;youtube</td>\n",
       "      <td>video;youtube</td>\n",
       "    </tr>\n",
       "    <tr>\n",
       "      <td>xxbos access facebook content block late firefox upgrade resolve problem hello upgrade late version firefox today happy new security setting find access facebook content completely block website appear fine screenshot facebook group follow attach spend hour try figure new security setting enable access facebook include switch block work xxunk firefox use microsoft edge give perfect access xxunk use microsoft edge log firefox support firefox tell cooky enable check permission ensure</td>\n",
       "      <td>facebook;content;upgrade;security</td>\n",
       "      <td></td>\n",
       "    </tr>\n",
       "    <tr>\n",
       "      <td>xxbos problem beta outlook email xxunk happen user repeat issue state close day ago 2 experience exact problem use outlook email change beta try scroll check email list screen keep xxunk email impossible scroll low one take away option switch xxunk have exact problem start exact time original note xxunk 2018 outlook permanently change service previously xxunk beta step mozilla troubleshoot step 1 6 + resolve frustrate behavior open case</td>\n",
       "      <td>email;beta;outlook</td>\n",
       "      <td></td>\n",
       "    </tr>\n",
       "    <tr>\n",
       "      <td>xxbos news site ad blocking want charge xxunk remove try follow instruction instance morning national post say look free page ad block limit xxunk disable ad block disable ad block unable figure follow instruction instruction typical site notification firefox private browse track protection shield icon display leave firefox address bar track protection block ad display 1 click shield icon leave address bar 2 select disable protection session 3 click close</td>\n",
       "      <td>popup;disable</td>\n",
       "      <td></td>\n",
       "    </tr>\n",
       "    <tr>\n",
       "      <td>xxbos firefox log enter login information firefox account use sync device able sync completely log device primary reason use firefox log device exit firefox today open firefox device 100 certain log yesterday find bookmark bookmark bar add ons visible active add ons log verify firefox sync login screen show log firefox account log usual credential xxunk log remain visible follow firefox instruction view log xxunk log go directory find log</td>\n",
       "      <td>log;sync;login</td>\n",
       "      <td></td>\n",
       "    </tr>\n",
       "    <tr>\n",
       "      <td>xxbos firefox xxunk recently website function amazon home xxunk xxunk longer work fine chrome week notice issue website firefox xxunk experience 1 local newspaper site xxunk freeze second click story eventually release xxunk message board xxunk xxunk use message board software xxunk use drop xxunk compose message add photo link xxunk usually non responsive xxunk attempt log xxunk account past sign screen return error message enter valid email address password</td>\n",
       "      <td>website;home</td>\n",
       "      <td></td>\n",
       "    </tr>\n",
       "    <tr>\n",
       "      <td>xxbos happen firefox preference xxunk sync ff beta 67 new add ons xxunk fix roll today restart ff 67 mac beta update channel xxunk ff xxunk customization xxunk xxunk ball load tab favorite bar go text font default etc message profile helpful sign firefox xxunk box open ff password xxunk firefox usual ff ff 66 restore ff environment xxunk sync device ff install want laptop ff share secure thing old</td>\n",
       "      <td>sync;beta</td>\n",
       "      <td></td>\n",
       "    </tr>\n",
       "    <tr>\n",
       "      <td>xxbos copy multiple link medium tab page info window os x open page info window medium tab link asset give page select multiple item copy item clipboard copy option grey context menu main xxunk dropdown xxunk keyboard shortcut xxunk c disable copy single link time copy function stop work multiple item select simply like copy list link text editor able copy link base early question go xxunk archive xxunk os</td>\n",
       "      <td>shortcut;copy;tab;window</td>\n",
       "      <td></td>\n",
       "    </tr>\n",
       "    <tr>\n",
       "      <td>xxbos firefox set clear cookie firefox set remember cooky select site erase cooky internet history close browser site outside whitelist act cooky disable give enable cooky attempt log etc require log xxunk site xxunk browser course run ccleaner deletion log list xxunk firefox cooky great site visit month apparently firefox store cooky option work glitch work period appear user store cooky store delete 1 firefox save cooky matt preference glitch</td>\n",
       "      <td>save;history;cookie</td>\n",
       "      <td></td>\n",
       "    </tr>\n",
       "    <tr>\n",
       "      <td>xxbos xxunk content loading problem xxunk tab hello make switch firefox try work xxunk hopefully advise website xxunk firefox trouble load tab image image open maybe 20 tab content page gray require manual refresh happen chrome sure able reproduce computer screenshot attach plenty memory 16 gb i7 xxunk window 7 ultimate reproduce search tag xxunk like car example open 20 tab xxunk tab content pretty occur time randomly edit 9</td>\n",
       "      <td>memory</td>\n",
       "      <td></td>\n",
       "    </tr>\n",
       "    <tr>\n",
       "      <td>xxbos google sign page break button work move issue have login page google break way 2 google account xxunk youtube xxunk work youtube break page try sign youtube account tell forget account leave sign page login button click happen page accept account exist try quick select load forever sign open browser private mode problem want use private browser use history search thing lot try clear cache cooky try reinstall firefox</td>\n",
       "      <td>button;google;log;youtube</td>\n",
       "      <td></td>\n",
       "    </tr>\n",
       "    <tr>\n",
       "      <td>xxbos firefox account let use firefox send keep say go wrong suggest try firefox send know log firefox account allow update profile xxunk change password allow support site find allow use firefox send successful get firefox send twice different day past time persist log xxunk take screen upload file xxunk gb believe different let different sign button link choose xxunk default browser say xxunk content block policy strict little screen</td>\n",
       "      <td>account;content;send</td>\n",
       "      <td></td>\n",
       "    </tr>\n",
       "    <tr>\n",
       "      <td>xxbos xxunk xxunk firefox 90 xxunk rotate ubuntu 18.04 xxunk firefox xxunk use custom web application function allow print label label configure size label printer 3 printer label size print label pdf file print dialogue print file output correct xxunk size content produce print label pdf viewer label printer output correct print directly firefox label printer output rotate 90 xxunk label label print software xxunk print correctly window issue print</td>\n",
       "      <td>pdf;ubuntu</td>\n",
       "      <td>print</td>\n",
       "    </tr>\n",
       "    <tr>\n",
       "      <td>xxbos lose bookmark etc upgrade 67 ask similar question different platform suggestion work appropriate setup understand non xxunk operate high sierra 10.13.6 migrate firefox 67 lose previous setup try set previous profile default error message launch old version firefox give quit new profile option xxunk simple solution xxunk level xxunk allow restore exist bookmark password xxunk deep process understand input lot line xxunk feel like take car fill xxunk tell</td>\n",
       "      <td>profile;upgrade;default;update;crash;mac</td>\n",
       "      <td></td>\n",
       "    </tr>\n",
       "    <tr>\n",
       "      <td>xxbos firefox crash try drag n drop multiple file hello like point drag n drop feature firefox good linux distribution face problem day start linux think firefox team notice work report bug problem stay problem try drag file file manager nautilus xxunk xxunk xxunk xxunk file manager linux instantly pop drag file support website example try upload file xxunk drag drop multiple time get work happen chromium wrong try drag</td>\n",
       "      <td>beta;drag;crash</td>\n",
       "      <td></td>\n",
       "    </tr>\n",
       "    <tr>\n",
       "      <td>xxbos control firefox restart restore crash os window 10 pro firefox xxunk restore restart crash crash firefox xxunk home version option restart restore certain tab urls win 10 pro firefox 69.0.3 automatically restore xxunk virus site lock system xxunk old version os firefox task manager end firefox away restart window come option site url want reload list tab restore xxunk xxunk site let rest xxunk new os win 10 pro</td>\n",
       "      <td>restart;crash;restore</td>\n",
       "      <td>restore</td>\n",
       "    </tr>\n",
       "    <tr>\n",
       "      <td>xxbos flash work appear plug in option hello follow single help article provide firefox enable shockwave flash restart browser 3 time restart computer twice clear cache cooky multiple time 75 website use daily xxunk load single object xxunk flash exist chrome firefox opus web browser try download yes current update adobe flash install computer yes uninstalled install adobe flash 6 time computer internet useless use flash plug access 75 internet</td>\n",
       "      <td>flash;enable;adobe;update</td>\n",
       "      <td></td>\n",
       "    </tr>\n",
       "    <tr>\n",
       "      <td>xxbos change tab color different bookmark toolbar color mac firefox automatically update imac v. 65 move thing change color able community forum tab bookmark toolbar sense tab color background address bar guess call bookmark toolbar previous version tab slightly dark xxunk select tab light easily tab go look theme add ons work want simple xxunk browser page easily visible tab current theme call xxunk xxunk xxunk color fine need way</td>\n",
       "      <td>theme;tab;update;mac;toolbar</td>\n",
       "      <td></td>\n",
       "    </tr>\n",
       "    <tr>\n",
       "      <td>xxbos firefox log delete preference time leave program hey xxunk install firefox week want work ditch chrome ) xxunk 2 thing happen test xxunk log account time x firefox window mac go sleep morning come log xxunk log restore bookmark preference bookmark toolbar password save auto fill etc basic info run xxunk xxunk try xxunk firefox xxunk account sync xxunk extension save xxunk board xxunk install keep get ditch give</td>\n",
       "      <td>account;log;security;mac;window</td>\n",
       "      <td></td>\n",
       "    </tr>\n",
       "    <tr>\n",
       "      <td>xxbos xxunk screen freeze firefox firefox cursor open link remove xxunk dead firefox freeze display obvious phishing screen tell microsoft ps : / / xxunk / en / ? xxunk xxrep 5 0 # 0 reboot close ff open ff bring link freeze edge google tip open ff ff safe mode lose link reopen ff view history find bad link time remove history question bad link work make search run</td>\n",
       "      <td>freeze;virus;security;crash</td>\n",
       "      <td></td>\n",
       "    </tr>\n",
       "    <tr>\n",
       "      <td>xxbos tab reload add ons forget setting stop work try tab reload add ons forget setting stop work add behave way suspect ff setting cause xxunk 25 tab open want 6 reload 15 30 60 minute plenty memory system run xxunk add ons try tab xxunk xxunk fine add ons wish setting individual tab stay place include close ff turn desktop restart day instead disappear tab stop reload ff 62.0</td>\n",
       "      <td>tab</td>\n",
       "      <td></td>\n",
       "    </tr>\n",
       "    <tr>\n",
       "      <td>xxbos firefox tab hang start have problem tab hang firefox happen xxunk site user input happen tab background long brand new tab open attach screenshots tab show facebook new tab site load happen xxunk process 100 cpu solution kill process see different computer work home usage pattern different firefox sync try delete profile xxunk xxunk ~ / .mozilla / help try safe mode reproduce error crash happen twice day hard</td>\n",
       "      <td>profile;reset;tab;crash</td>\n",
       "      <td></td>\n",
       "    </tr>\n",
       "  </tbody>\n",
       "</table>"
      ],
      "text/plain": [
       "<IPython.core.display.HTML object>"
      ]
     },
     "metadata": {},
     "output_type": "display_data"
    }
   ],
   "source": [
    "learn_classifier.show_results(rows=1000)"
   ]
  },
  {
   "cell_type": "code",
   "execution_count": 21,
   "metadata": {},
   "outputs": [],
   "source": [
    "ticket_dict = {}\n",
    "\n",
    "with open(data_path/\"mturk_tickets.json\", \"r\") as f:\n",
    "    tickets = json.loads(f.read())[\"tickets\"]\n",
    "    for ticket in tickets:\n",
    "        ticket_dict[str(ticket[\"ticket_id\"])] = ticket"
   ]
  },
  {
   "cell_type": "code",
   "execution_count": 48,
   "metadata": {},
   "outputs": [
    {
     "data": {
      "text/plain": [
       "dict_keys(['ticket_id', 'title', 'content', 'timestamp', 'tags'])"
      ]
     },
     "execution_count": 48,
     "metadata": {},
     "output_type": "execute_result"
    }
   ],
   "source": [
    "ticket_dict[\"808689\"].keys()"
   ]
  },
  {
   "cell_type": "code",
   "execution_count": 57,
   "metadata": {},
   "outputs": [
    {
     "data": {
      "text/html": [],
      "text/plain": [
       "<IPython.core.display.HTML object>"
      ]
     },
     "metadata": {},
     "output_type": "display_data"
    }
   ],
   "source": [
    "import csv\n",
    "\n",
    "pred_threshold = 0.2\n",
    "\n",
    "preds, target = learn_classifier.get_preds(DatasetType.Test, ordered=True)\n",
    "labels = preds.numpy()"
   ]
  },
  {
   "cell_type": "code",
   "execution_count": 58,
   "metadata": {},
   "outputs": [],
   "source": [
    "# create CSV writer\n",
    "csv_file = open(data_path/\"final_class_output.csv\", \"w\", newline=\"\")\n",
    "csv_writer = csv.writer(csv_file, delimiter=\",\")\n",
    "\n",
    "# write the CSV header\n",
    "# ticket_id end_time judgement_id start_time tagger_id tags\n",
    "csv_columns = [\"ticket_id\", \"title\", \"content\", \"pred_tags\"]\n",
    "csv_writer.writerow(csv_columns)\n",
    "\n",
    "for i in range(len(test_datalist.items)):\n",
    "    ticket_id = str(test_id[i])\n",
    "    tags = []\n",
    "    for j in range(len(candidate_tags)):\n",
    "        if labels[i][j] > pred_threshold:\n",
    "            tags.append(candidate_tags[j])\n",
    "            \n",
    "#     print(\"ID:\", ticket_id)\n",
    "#     print(\"Title:\", ticket_dict[ticket_id][\"title\"])\n",
    "#     print(\"Content:\", ticket_dict[ticket_id][\"content\"])\n",
    "#     print(\"Tags:\", \", \".join(tags))\n",
    "#     print()\n",
    "    \n",
    "    csv_row = [ticket_id, ticket_dict[ticket_id][\"title\"], ticket_dict[ticket_id][\"content\"], \",\".join(tags)]  \n",
    "    csv_writer.writerow(csv_row)\n",
    "            \n",
    "csv_file.close()"
   ]
  },
  {
   "cell_type": "code",
   "execution_count": 56,
   "metadata": {},
   "outputs": [
    {
     "data": {
      "text/html": [
       "<div>\n",
       "<style scoped>\n",
       "    .dataframe tbody tr th:only-of-type {\n",
       "        vertical-align: middle;\n",
       "    }\n",
       "\n",
       "    .dataframe tbody tr th {\n",
       "        vertical-align: top;\n",
       "    }\n",
       "\n",
       "    .dataframe thead th {\n",
       "        text-align: right;\n",
       "    }\n",
       "</style>\n",
       "<table border=\"1\" class=\"dataframe\">\n",
       "  <thead>\n",
       "    <tr style=\"text-align: right;\">\n",
       "      <th></th>\n",
       "      <th>ticket_id</th>\n",
       "      <th>title</th>\n",
       "      <th>content</th>\n",
       "      <th>pred_tags</th>\n",
       "    </tr>\n",
       "  </thead>\n",
       "  <tbody>\n",
       "    <tr>\n",
       "      <th>0</th>\n",
       "      <td>1277462</td>\n",
       "      <td>DOM is not updated properly for Angular web ap...</td>\n",
       "      <td>&lt;p&gt;&lt;a href=\"https://www.educatingkids.com.au/\"...</td>\n",
       "      <td>error,update</td>\n",
       "    </tr>\n",
       "    <tr>\n",
       "      <th>1</th>\n",
       "      <td>1277474</td>\n",
       "      <td>Export console hxr responses</td>\n",
       "      <td>&lt;p&gt;I'm trying to automate a part of my daily w...</td>\n",
       "      <td>error,update</td>\n",
       "    </tr>\n",
       "    <tr>\n",
       "      <th>2</th>\n",
       "      <td>1277490</td>\n",
       "      <td>can i transfer passwords from 1 pc to another</td>\n",
       "      <td>&lt;p&gt;I have very basic computer skills and due t...</td>\n",
       "      <td>login,update</td>\n",
       "    </tr>\n",
       "    <tr>\n",
       "      <th>3</th>\n",
       "      <td>1277553</td>\n",
       "      <td>firefox keeps going back to previous page rand...</td>\n",
       "      <td>&lt;p&gt;i have the same OS and all else is same, bu...</td>\n",
       "      <td>error,tab,update</td>\n",
       "    </tr>\n",
       "    <tr>\n",
       "      <th>4</th>\n",
       "      <td>1277566</td>\n",
       "      <td>Parts of Ancestry.co.uk no longer working with...</td>\n",
       "      <td>&lt;p&gt;I have consistently used Firefox as my brow...</td>\n",
       "      <td>error,update</td>\n",
       "    </tr>\n",
       "    <tr>\n",
       "      <th>...</th>\n",
       "      <td>...</td>\n",
       "      <td>...</td>\n",
       "      <td>...</td>\n",
       "      <td>...</td>\n",
       "    </tr>\n",
       "    <tr>\n",
       "      <th>95</th>\n",
       "      <td>1280240</td>\n",
       "      <td>I downloaded a english dictionary for spellche...</td>\n",
       "      <td>&lt;p&gt;I downloaded a english dictionary for spell...</td>\n",
       "      <td>download,file,error,print,video</td>\n",
       "    </tr>\n",
       "    <tr>\n",
       "      <th>96</th>\n",
       "      <td>1280265</td>\n",
       "      <td>The quick save bookmark star (to 3 dots) went ...</td>\n",
       "      <td>&lt;p&gt;Earlier today I noticed on my Firefox 72.0....</td>\n",
       "      <td>tab,update,restore</td>\n",
       "    </tr>\n",
       "    <tr>\n",
       "      <th>97</th>\n",
       "      <td>1280314</td>\n",
       "      <td>Can someone help me with the PR_END_OF_FILE_ERROR</td>\n",
       "      <td>&lt;p&gt;I am facing this PR_END_OF_FILE_ERROR probl...</td>\n",
       "      <td>website,error,update</td>\n",
       "    </tr>\n",
       "    <tr>\n",
       "      <th>98</th>\n",
       "      <td>1280327</td>\n",
       "      <td>Firefox 73.0.1 was working fine, suddenly all ...</td>\n",
       "      <td>&lt;p&gt;Have been using Firefox heavily (as usual) ...</td>\n",
       "      <td>error,update,crash</td>\n",
       "    </tr>\n",
       "    <tr>\n",
       "      <th>99</th>\n",
       "      <td>1280348</td>\n",
       "      <td>If there are any videos playing, firefox takes...</td>\n",
       "      <td>&lt;p&gt;Starting about 6-8 months ago (whatever ver...</td>\n",
       "      <td>error,update,video,youtube</td>\n",
       "    </tr>\n",
       "  </tbody>\n",
       "</table>\n",
       "<p>100 rows × 4 columns</p>\n",
       "</div>"
      ],
      "text/plain": [
       "    ticket_id                                              title  \\\n",
       "0     1277462  DOM is not updated properly for Angular web ap...   \n",
       "1     1277474                       Export console hxr responses   \n",
       "2     1277490      can i transfer passwords from 1 pc to another   \n",
       "3     1277553  firefox keeps going back to previous page rand...   \n",
       "4     1277566  Parts of Ancestry.co.uk no longer working with...   \n",
       "..        ...                                                ...   \n",
       "95    1280240  I downloaded a english dictionary for spellche...   \n",
       "96    1280265  The quick save bookmark star (to 3 dots) went ...   \n",
       "97    1280314  Can someone help me with the PR_END_OF_FILE_ERROR   \n",
       "98    1280327  Firefox 73.0.1 was working fine, suddenly all ...   \n",
       "99    1280348  If there are any videos playing, firefox takes...   \n",
       "\n",
       "                                              content  \\\n",
       "0   <p><a href=\"https://www.educatingkids.com.au/\"...   \n",
       "1   <p>I'm trying to automate a part of my daily w...   \n",
       "2   <p>I have very basic computer skills and due t...   \n",
       "3   <p>i have the same OS and all else is same, bu...   \n",
       "4   <p>I have consistently used Firefox as my brow...   \n",
       "..                                                ...   \n",
       "95  <p>I downloaded a english dictionary for spell...   \n",
       "96  <p>Earlier today I noticed on my Firefox 72.0....   \n",
       "97  <p>I am facing this PR_END_OF_FILE_ERROR probl...   \n",
       "98  <p>Have been using Firefox heavily (as usual) ...   \n",
       "99  <p>Starting about 6-8 months ago (whatever ver...   \n",
       "\n",
       "                          pred_tags  \n",
       "0                      error,update  \n",
       "1                      error,update  \n",
       "2                      login,update  \n",
       "3                  error,tab,update  \n",
       "4                      error,update  \n",
       "..                              ...  \n",
       "95  download,file,error,print,video  \n",
       "96               tab,update,restore  \n",
       "97             website,error,update  \n",
       "98               error,update,crash  \n",
       "99       error,update,video,youtube  \n",
       "\n",
       "[100 rows x 4 columns]"
      ]
     },
     "execution_count": 56,
     "metadata": {},
     "output_type": "execute_result"
    }
   ],
   "source": [
    "class_results = pd.read_csv(data_path/\"final_class_output.csv\")\n",
    "class_results"
   ]
  },
  {
   "cell_type": "code",
   "execution_count": 29,
   "metadata": {},
   "outputs": [
    {
     "name": "stdout",
     "output_type": "stream",
     "text": [
      "{'', 'extra', 'signup', 'vpnerror', 'Wikipedia', 'correction', 'autoscrolling', 'ticker', 'uninstall/install', 'future-version', 'favorite', 'dries', 'qr', 'avast', 'help', 'tex', 'sunsetting', 'webrender', 'nonfunctional', 'frames', 'favicon', ' recover', 'iframes', 'ff67', 'website-contains-content', 'choppy', 'b&w', 'viewing', 'button', 'resetting', 'no-error', 'recurring', 'firefox65', 'cash', 'gsm', 'uploads', 'debued', 'unsecureconnection', 'barff', 'webpage-refreshing', 'system.', 'primary', 'outline', 'regional', 'etc', 'pain', 'bold', 'bugzilla', 'way', 'instruct', 'setup', 'multi-dispaly', 'dissapear', 'clenup', ' pinned', 'whats', 'cord', 'feature', 'technical', 'zibbet.com', 'ios12', 'searchbar', 'tabbox', 'Windows-10', 'world', 'marker', 'new-tab', 'rss', 'tracking', 'legacy', 'loop', 'music', 'profil', 'noob', 'respond', 'esr', 'playback', 'launching', 'glitch', 'may', 'browsing.', 'vanish', 'safeless', 'verify', ' add-on', 'hd', 'stopsloadingpages', 'wordpress', 'external applications', 'firefoxautoplay', 'partial', 'complaint', 'web-address', 'compted', 'unmute', ' network', 'dev-tools', 'major', 'youtubeoutdated', 'installieren', 'checkmark', 'integration', 'losche', 'expire', 'html5', 'rehabilitation', 'sv', 'laser', 'blind', 'second', 'initial', 'content', 'amazon', 'noticket', 'representative', 'constanterror', 'notworking', 'ssh', 'refuse', '63+', 'ringcentral', 'title-bar', 'anysearchmanager', 'prefer', 'junk', 'changecolor', 'unrelated', 'restrictions', 'dashline', 'page-loading', 'UX', 'mask', 'initiate', '(weather)', 'saves-login', 'firefox-67.0.3', 'sync-doesnt-include-aboutconfig', 'payment-methods', 'not-showing-up', 'attacks', 'appcrash', 'seconds', 'directory', 'exposed', 'identity', '.gov', 'submitted', 'springs', 'attribute', 'clarification', 'range', 'Firefox-70.0.1', 'contrast', 'control-panel', 'hijacked', 'Constant-event', 'f7355', 'svg', '\"checking', 'instruction', 'development', 'print-pdfs', 'enhancedtrackingprotection', 'youtube-livestream', 'tricky', 'push', 'pinned', 'firefox-quantum', 'color', 'version72.0.1(64-bit)', 'wont-connect', 'minimal', 'customizatio', 'bushwack', 'purple-shield', 'macbookpro', 'used', 'Update', 'touch-screen-functionality', 'autograb', 'Top-sites', 'f10', 'sentences', 'family', 'disappear', 'preferences', 'corruted', 'reseted', 'reporter', 'engime', 'difficultly', 'textbox', 'Thunderbird', 'little', 'chat', 'transfers', 'translation.', 'Windows-option-button', 'communit', 'unstable', 'step-by-step', 'angy', 'perfromance', 'bottoms', 'changing', 'downloaded', 'tsn', 'swtich', 'wikimedia', 'huge', 'antivirus', 'rtcmulticonnection', 'apps', 'identify', 'step', 'Bing', 'ok', 'tiles', 'title', 'two-ff', 'erased', ' gmail', 'fixme', 'united', 'notafirefoxproblem', 'nav', 'phones', 'saturday', 'quad-core', 'gmail', ' file', ' 70.01', 'settings.', 'pbm', 'since', 'expired', 'stopswitching', 'mqtt', 'bypass', 'assistance', 'changelog', 'bookmark-bug', 'retaining', '\"reader\"', 'weak', 'prompted', 'resend', 'timed', 'two-step', 'version66.0.3.', 'browing', ' extensions', 'volunteers', 'rewind', 'dataloss', 'defualt', 'adp', 'currently', 'ff71.0', 'emptycachedoesntwork', 'whenever', '72.0.1', 'heading', 'theme', 'hsts', \"boa's\", 'paste', \"amazon's\", 'hide/show', 'firefox-updates', 'alphabetical', 'backslash', 'slowly', 'v67', 'upload-thumbnail-size', 'brother', 'mennu', 'access-data', 'pdf-control', 'ignore', 'nothappy', 'whitelist', 'Firefox-71.0b3', 'transforming', 'attch', 'sensitive', 'tabs-wont-load', 'Custom-Scaling', 'maintain', 'might', 'implementation', 'secutiry', 'bookmark-folders', 'proper', 'readable', 'symbols', 'stopped', '5th', 'computer', 'disappearing', 'adjustments', 'decided', 'always', 'asus', ' overlay', 'firefoxintereactivepage', 'ukraine', 'selectiton', 'wiped', 'copying', 'restoredoesntwork', 'bookmarklets', 'transfering', 'proxies', 'gifs', 'safemode', \"'open\", 'openingnewtab', 'unreadable', 'resources', 'inoptions', 'jquery', 'socks', 'windows.old', 'cant-login-to-developer-account', 'distortion', 'action', '4', 'deploy', 'bp-b4b6e4e0-08a1-4644-94b6-0202f0180921', 'tab-toolbar\\n', 'explanation', 'standby', 'googleaccount', 'awscloud9', 'slowing', 'untrackable', 'sec_error_unknown_issuer', 'firefox-70.01', 'livestream', 'gettimezoneoffset', 'along', 'internet', 'improvement', 'result', 'bug1602526', 'dot', 'jave', 'advertisement', 'stayonpageorleave', 'crawl', 'malayalam', 'newurl', 'Recommendation-icon', 'sumo', '10.15.2', 'mqttcloud', 'editing-styles', 'preference', 'unsupported-customizations', 'baydin', 'malicious', 'sold', 'bundledsearchengines', 'vmedia', 'sam', 'constant-event-errors', 'tool-compatability?', 'look-alike-domains', 'unsupportedhacks', 'network.trr.mode', 'vfs', 'foxnews.com', 'content-blocker', '72.0.2', 'ui-help', 'banking-website', 'blog', 'tab-toolbar', 'downgrade', 'firefox72.01', 'browser', '.zip', 'safely', 'payment', 'new-windows', 'thinks', 'adope', 'retrieval', 'seauence', 'javascript', 'coloured', 'user', 'longer', 'simple', 'binary', 'colourblind', 'links-from-external-apps', 'printers', 'idle', 'fire', 'unreadeable', 'not-running', 'cant-download', '70.0-upgrade', 'all-platforms', 'curved', 'sub-menu', 'bing.com', 'banner', 'www.runningbare.com.au', 'returned', 'showing-up', ' logitech', 'external-links', 'works-in-chrome', 'fidelity', 'current', 'complex', 'bff', 'firefox-74', 'webrtc', 'firefox-68.1.0-esr', 'reddit', 'telemetryenvironment', 'visual', 'uk', 'New-tab-button', 'prompt', 'october', 'misspelled', 'infinite', 'shell', 'installation', 'about:support', 'firmware', '6gb', 'quit', 'get', \"account's\", 'prefix', ' updates', 'lockedout', 'solid', 'costco', ' debian', 'win2018', 'bbc', 'china', '64.0', 'agree', 'passoword', 'centos-7', 'pop-up', 'bookmark-toolbar', 'dragon', 'savedbookmarks', 'Windows 10', 'amd-hd-4200', 'tickets', 'unsorted', 'ff66', 'title:', 'dialog', 'rightclickmenu', 'hdcp', 'portal', 'missings', 'pad', '.png', 'typing', 'froze', '9.8mb', 'passwordautofill', 'gps', 'extensions', 'navigate', 'differ', '.fits', 'unexpected', 'wunderground', 'widows10', 'falsecrash', ' button', 'pdfadobe', 'reset-password-link', 'disable-searching-address', 'win104', 'gif', 'dire', 'made', 'unsuscefully', 'webloc', 'firefoxquantum', 'view', '2-fa', 'newsite', 'logged', 'reproducing', 'endoffile', 'sync', 'lg125', 'sidebars', 'automation', 'convert', \"doesn'tknow\", 'pinterest', 'prior', 'address-bar', 'middle-click', 'scams', 'sashes', 'weather', 'packages', 'removecookie', 'documents', 'grey', 'description', 'peut', 'password-input-field-not-highlighted', 'old-search', '\"www.\"', 'reenter', 'logitech-webcam', 'tooltips', 'won´t', 'placed', 'dialogue', 'crossdomain', 'scroll', 'unistall', 'ss1', ' shrunk horizontally.', 'no-more-title-bar', 'nortonantivirus', 'double-windows', 'iphone,ios,sync', 'titu.power', ' tablet', 'inet\\\\mozilla', 'found', 'seems', 'Homepage', '60', 'clean', 'w1803', 'problem.', 'transferring', 'shutdown', 'end', '67.0.4', 'Addon', 'inkjet', 'highsierra', 'needcopyvideocommand', 'appears', 'on-start-error', 'HTML5', 'history', 're-install', 'pro', 'help.', 'app.', 'bar', 'mac-os-catalina', 'look', 'locked', 'gray', 'reinstall', 'profiles.ini', 'data-loss', 'study', 'customer', 'firefox70.0', 'slowdown', 'configure-privacy', 'tls', 'forward', 'soundcard', 'propertly', 'acccount', '\"k\"', 'shot', 'WebGL', 'discontinued', 'profile-manager', 'cisco', 'disc', 'reappear', 'Fireforx-68.2', 'policy', 'popup', 'Mac-Os', 'working', 'overwriting', 'submission', 'enhanser', 'Restore', 'certificate', 'labels', 'move-nav-bar', 'longtime', 'go-back-to-previous', 'autosave', 'nenu', 're-installation', 'whatsapp', 'nothing', 'denied', 'works', 'move', 'get-rid-of-whats-new-button', 'contents', 'debian-10', 'auto-login', 'shuts', 'macOS-Catalina', 'consumer', 'freezing', 'uncheck', 'enhanced', 'webgl', 'security.ocsp.require', 'website_server_error', 'big-download', 'second-account', 'multiple-devices', 'config', 'save&exit', 'submit', 'tracks', 'connected', ' windows', 'geeksquad', 'login-automatically', 'private', 'meet', ' flash', 'tools', 'master', 'gone', 'incognito-filter', 'notifications', 'format', 'smartphone', 'installtime', 'recomendation', 'auto-updated', 'items', 'linking', 'print-page', 'Adobe', 'instaled', 'ice', 'webdev', 'http:&https', 'rows', 'disabling', 'drop/drag', 'valid', 'command', 'home', ' opens Firefox', '60.7.2esr', 'version', 'customizeui', 'firefox-', '.catalog', 'shared-device', ' workflow', 'upon', 'scan', 'accesibility', 'v56.0.2', 'extention', 'lts', ' webpage', 'tabs-bottom', 'firefoxvschrome', 'access-website', ' commerce', ' content-blocking', ' user agent', 'unresolved', 'autocorrect', ' tab not responding', 'number', 'run', 'diagram', '63.0.3', 'revisted', 'virus', '1607', 'chain', 'savepassword', 'cleanup', 'Forced-redirection', 'revoked', 'searchtest1-1385989445921-yahoo-us-white', 'cookies?', ' spell checker', 'webplayer', 'experimental', 'setting', 'hardware', 'libreoffice', 'locations', 'tempfiles', 'var', 'restore-last-session', 'imacv.65', 'foward', 'covered', ' website', 'switching', 'bbciplayerdownloads', 'firefox-77', '10.15.1', 'comodo', 'box', 'screen-reader', 'reach', 'www.youtube.com', 'squad', 'overriding', 'read', 'timeout', 'desactivation', 'firefox66.0.2', 'contributor', 'file-size', 'New-version', '\\nfirefox', 'fixed73', 'shift-clicking', 'image', 'intuittax2020.com', 'vanguard', 'funny', 'tube', 'wont-resize-shape', 'ios', 'morge', 'locking', 'mails', 'browserconfig-properties', 're-start', 'sectigo', 'inaccessible.\"', 'visits', '21:9', 'mobile-website-instead-of-desktop-website', 'mycroft', 'mac-os-100.14.6', 'ping-pong', 'security', 'sccounr', 'pinned-tabs', 'comparison', 'insecure', 'unfound', 'fouc', 'ctrl', 'far-right', '32-bit', 'menu\"', 'logon', 'platformen', 'custom-scaling', 'apps\"', 'pages', 'Firefox-68.2', 'address', 'statistic', 'green-security', 'disabring', ' certificate', 'disability', 'moz_use_xinput2=1', 'rid', 'general', 'repeating', 'high-cpu-usage', 'hacker', 'history\\n', 'Language', 'imports', 'page?', 'highlights', 'signing-in', '60.9.0', 'https://localhost', 'stop', 'worked-with-other-browser', 'injket', 'actual', 'certain', 'recover-deleted-profile', 'ancient', 'gst', 'mobile-mode', 'copy-paste', 'connectionhasreset', 'trackingprotection', 'make', 'functional', 'early', 'initialize', 'Bookmarks', 'pressing', 'resent', 'chorme', 'imap.charter', 'session', 'auto-reload', 'provider', 'shortcut', 'pdfs', 'detected', 'sleep', 'drm/cdm', 'service', 'project', ' search bar', 'getting', 'status', 'blank', 'locate', 'PiP', 'cento0s-7', 'front-page', 'mimics', 'n/a', 'shown', 'conexant', 'googgle', 'ubuntu', 'defaultset', 'alpine', 'messenger', 'non-english', 'foxfire', 'repeat', 'ui', ' mobile', 'fine', 'quotes.', 'windo', 'spreadsheets', 'reminder', 'backward', 'shows', '运行时在', 'crash', 'bookmarks-visible', 'firefoxcookie', 'properly', 'fastness', 'TV', 'o/s', 'taskmanager', 'ebay', 'builtin', 'engines', 'hangouts', 'switch', 'jagged', 'windows8', 'accounting', 'blacking', 'unsupported-firefox-version', 'turn-off-recently-bookmarked', 'persistent', 'visually', 'remembers', 'marketplace', 'deleted', 'sony', 'Firefox-70.0', 'bindings.xml+chrome.css', 'glich', 'recommend', 'national', 'cant-connect', 'mistyped', 'factor', 'unhappy', '70.0', 'allow_zooming=true', 'Address-bar', 'preferred', 'fifrefox-70', 'needed', 'switch-versions', 'scammers', 'dismiss', 'noscripts', 'select-password', 'id', 'version71', 'non-private', 'garbage', 'personnas', 'browser-chrome', 'speed', 'hijack', 'guce', 'applicable', 'default-profile', 'dato', 'size)', 'remove', 'rules', 'Printers', 'after-windows-update', 'decades', 'myway', 'network', ' ETP', 'surface', 'submissons', \"i've\", 'puzzle', 'hacking', 'incognito', 'signed-in', 'splashtop', 'stoped', 'allowed', 'end-of-word', 'listed', 'relaunch', ' loss', 'utf8', 'Firefox-69.0.3', 'osx-10-15-1', 'recycle-bin', 'console', 'multilingual', 'upgrade', 'edition', 'browser-storage', 'codecs', 'every', 'panasonic', 'webcam\\n', 'onetab', ' thunderbird', 'userchrome', 'filling', 'togglekeys', 'autoscrollinwg-file-explorer', 'x64火狐版本', 'one', 'download)', 'top', 'prevent-add-on-uninstall', 'insufficient', 'ctrl-shift-tab', 'duplicated', 'slowness', 'picture-in-picture', ' accessibility', 'WordPress', 'anymore', 'purchases', 'payments', 'supportt', 'exe', 'Windows-XP', 'quad9', '32bits', 'reinstallation', 'submenuserrors', 'firewalls', 'cell', 'interfere', 'visually-impaired', 'ctt', 'password-dataloss', 'expectation.', 'programs', 'storie', 'insight', 'writing', 'samsung', 'light', 'firefox-69.0.3', 'plug-in', 'alexa', 'shorcuts', 'Second-user', 'swedish', 'cache/cookies', 'disconnecting', 'tabs/pages', 'story', 'data.', 'page-lag', 'firefoxsync', 'auto-scrolling', 'wfm', 'reports', 'page-info-icon-removed', 'no-sound', 'livekernelevent', 'ctrld', 'rebootneeded', 'doubt', 'jenkins', 'visualerror', 'bp-a9883836-847f-4a6c-8987-5b5540190210bp-652fa857-4d57-4918-8e29-fe3160190210', 'rotated', 'immediately', 'ago', ' enhancement', 'bug571913\\n', 'photshop', 'works-with-chrome', 'subfolder', '\"element', 'bp-f0725278-a6b8-4c33-bf0a-b2b9b0190213', ' themes', 'client', 'menus', 'sectigo-limited-signed-certificate', 'borders', 'Setting', 'dual', 'chromebook', 'buffers', 'reviews', 'firefoxaddon', 'apllication', 'developer', 'glyphs', 'roboform', 'generate', 'due', 'basicui', 'mackbook', 't450', 'folders', 'problem', 'engine', 'resize', 'firefox68.2', 'printinbinaryformat', 'rmb', 'suspended', 'rename', 'support-page', 'glabels', 'battlefield', 'occurred', 'Big-download', 'ancestry', 'desktop', ' 70', 'keystrokes-lagging', 'aol', 'shift-delete', 'previously-saved', 'firefox-64.0', 'ultra', 'included', 'filtered', 'fails', 'reformatting', 'withedgeicanwork', 'randomly', 'v62.0.2', 'restarted', 'url', 'connecting', 'flashing', 'delete-data', 'dattto', 'asean', 'respect', 'disallow', 'ff720', 'save', 'firefox', 'dos', 'thought', 'internal', 'supports', 'catalog', 'dialoge', 'content-blocking', 'doubleclick', 'tfortab', 'forced-redirect', 'frequently', 'month', 'creating', 'installerexe', 'notebook', 'server.reference', 'visualbug', 'resuming', 'retry', 'isnt', 'appear', 'recommendations', 'secured', 'windows7', 'adds', 'boolean', 'small', 'touch', 'token', 'deleted-data', 'safe', 'css', 'jaimalayalam.com', 'ghanged', 'add-ons', 'boardgamegeek.com', 'hog.', 'retain', 'disable-tracking-protection', 'aitomatically', 'dll', 'site-icon', 'translating.', 'os', '62.0', 'jsonlz4', 'Gmail', 'see', 'shut', 'inadvertantly', 'osx-10.14.6', 'required', 'rv325', 'pornhub', 'forget', ' securite', 'savedbookmark', 'recuva', 'event', 'maximum', 'causing', 'death', 'splitscreen', 'mozillacfg', 'synced-accounts', 'websitetab', 'restart-restore', 'password.', 'enhaced', 'top.sites', \"developer's\", 'browser.rtomasj', 'questionmarks', 'aes', 'webgl2-bug', 'bandwidth', 'rectangles', 'firefox8', 'handshake', 'ff70-does-not-crash', 'exclusion', 'protonmail', 'export', 'went', 'customizing', 'opening', 'printer', 'success', 'laggy', 'v70.0.1', 'IE', 'fram', '\\n', 'recommendation', 'changed', 'ff-profileges', 'images', ' keyboard shortcut', 'after-crash', '.webp', 'elements', 'xubuntu', 'repeatable', 'understand', 'synchrd', ' webcam settings', 'vpncompatability', 'spaces', 'sec_error_bad_signature', 'quantumfresh', 'try', ' restore', 'window', 'stopped-saving', 'maximized', 'outdated', 'list.', 'microphone', 'task', 'left-frame', \"what's\", 'osx', 'server:msg', 'www.nytimes.com', 'frozen', 'shoot', 'caps', 'adobe-flash-player', 'new-feature-suggestion', 'icon', 'searches', 'plugin', 'disable-search', 'areas', 'bookmarks\"', 'url-area-change', 'cross', 'shipping', 'device', 'closing', 'moves', ' question', 'ff72', 'name', 'installs', 'convenience', 'portaldetected', 'checking', 'facebook', 'stop/pause', 'titles', 'breached', 'company', 'homepage', 'checkout', 'edmunds...', ' passwrod manager', 'a4', \"can't\", 'v70b7', 'firefoxremeberpassword', 'opened', 'progress', 'amd', '70.1', 'Facebook-Container', 'fraud', 'ms-word', 'floating', 'ublock', 'files', 'network-device', 'clans', 'shape', 'automatically', 'clipboard', 'diverts', 'uses', 'left', 'suggestion', 'mousewheel', 'clairifcation', ' ad', 'Important-news', 'auto-logout\\n', 'conflict', 'book', 'battlescreen', 'authorized', 'high', 'www.', 'control-firefox', 'password', 'diverted', 'esr68.2.0', 'homebanking', 'computation', 'pictures', 'advice', 'bookarks', 'word', 'cannot-open-firefox', 'v63+', 'old-style', 'border', 'credential', '(+)', 'firefox-60.9.0-esr', 'restores', 'libatomic.so', 'screen reader', 'ff70', 'www.ancestry.com', 'appdata', 'support-forum', 'pc-suspended', 'renders', 'tabbed', 'endless', 'password-recover', 'firefox-profiles', 'tabmixplus', 'updating-firefox', 'standard', 'attack.', ' settings', 'specific', 'saved-passwords-being-replaced', 'style', 'site.', 'launch', 'unrecognizable', 'migrated', '文件夹下无限创建*-wal和*-shm文件', 'firefoxpages', 'falsebrowser', 'removal', 'asking', 'autoopen', 'h.264level5.2', 'link-color', 'barcode', 'bookmarkbar', 'doesnt-display', 'snap', 'mac-os', 'duck', 'autologin', 'object', ' pdf viewer', 'certification', 'loggin', 'after-update', 'instructions', 'stored', 'synchronization', 'suspend', 'videostreaming', 're-sync', '72.0', 'unsigned', 'lost-passwords', 'cpu-100%', 'requiring', 'noaa', 'lockbox', 'thems', 'tan', 'servers', 'cutomize', 'scrips', 'kinds', 'mqttcloud.ir', 'abandon', 'mozbackup', 'wont-download', 'forbidden', 'cant-find', 'search-sound', 'Amazon-connection', 'reinstalling', 'marked', 'switched', 'desactivate', 'amo', 'nytimes.com', 'disconnect', 'instead', 'www.amazon.com', 'mobilemode', 'settings', 'adblocking', 'jquery-', 'off-topic', 'attachmentsdoesntwork', 'ghostly', 'unable', 'mac-os-x-10.9', 'open-source', 'prevention', 'topsite', 'opening-documents', 'sign-on', 'tampermonkey', 'hotkey', 'syntax', 'office365', 'entered', 'lagging', 'bookmarks-empty', 'feature:', 'aborted', 'hyperlink-color', 'scam', 'windoes', 'streaming.', 'presses', 'm3u8', 'u.s.', 'print', 'macintosh', 'windows-settings', 'voicesoftware', ' dom', 'trackingerror', 'autodownloaded', 'connections', 'series', 'pop-out', 'drop', 'between-computers', 'csd', 'star', 'Windows 7', 'particular', 'placing', 'scrolls', 'probably-not-a-firefox-problem', 'handling', 'fordward', '73.0b2', 'host', 'yahoo-search', 'wrong', 'subject', 'untrusted', '\"rss', 'failed', 'error.', 'corner', 'login\"', 'customized', 'datto-rmm', 'c:drive', 'diaply', 'crypto', 'broken-page', 'responding', ' ads', '67.0.3', 'launching-external-apps', 'pop-unders', 'alt', 'mute', 'battlelog', 'captcha', 'vista', 'mozila', 'password\"', 'cinnamon', 'Security', 'complete', 'conecctions', 'extensioncord', 'serve', 'yougov', 'organization', 'portfolio', 'thin', 'expand', 'completely', 'snapped', 'tab', 'flashplayer', 'faint', 'advices', 'regular-way', 'shrunk-horizontally', 'hit', 'slow', 'private-browser', ' maximized', '.com', 'pop3', 'merge', 'other-bookmarks', 'buy', 'account', 'uninstalldoesntwork', 'ports', 'possibility', 'Firefox 70', 'diagnostic', 'pair', 'cut-off', '65.0.2', 'fields', 'dark-mode', ' master password', 'non-actionable', 'cancelled', 'search-button', 'firefox68', 'anti-virus', 'unsync', 'captive', 'dificculty', 'UAS', '60.5.2esr', 'unsecure', 'mixing', 'nagscreen', 'old', 'search-bar', '10not', '0x87e10bc6', 'cursor-focus', 'users', 'firefox-only', 'netlix', 'shielderror', 'chrone', 'effect', 'not-showing', 'bookmarking', 'reenable', 'taskbar', 'auto-refresh', '10.11.06', 'reject', 'v62.0', 'authorize', 'logger', 'communication', 'firefox-profile', 'Browser-storage', 'webcam-options', 'CPU', 'typeform', ' ', 'tweaks', 'keystroke-lag', 'fresh', 'voicemeter', 'facetime', 'private-browser-mode', 'browser?', ' pageload', 'newfolder', 'calendar', ' download dialog', 'incredibly', 'spot', 'ver71.0', ' crash', 'peut-être', 'multiple-profiles', 'ï¿½ï¿½', 'sometimes', 'jump', ' refresh', 'webgl2', 'got', 'unurl', ' synnc', 'keep-getting', 'static', 'budgie', 'adobe', 'country', 'previously', 'load', 'anti-tracking', 'finnish', 'el-capitan', 'banners', '52.9', 'recording-asterisks', 'certifciate', '(32-bit)', 'iconsnotuniques', 'js', 'worked-in-other-browser', 'beamer', 'web extensions', 'following', '(see', 'Account-sync', 'nordvpn', 'sharing', '18.10', 'crash:reports', 'column', 'overload', 'advertising', 'viewer', 'element', 'forum', 'web-page', 'gb', 'string', 'macOSX-capitan-10.11.6', '68', 'stackhash', 'firefox73', 'Safe-mode', 'cant-load-instagram', 'giving', 'sitesaccountsfirefox', 'selecting', 'path', 'mobile', 'information', 'reroute', 'email', 'bios', 'remove-all-cookies', 'certificateerro', 'repeadly', 'suffer', 'never', 'user-accounts', 'safe-mode', 'useragent', 'english', 'passworsa', 'Enhanced-Tracking-Protection', 'web', 'exporter', 'webextensions', 'worksonsafariandchrome', 'update1809', 'limit', 'window.clipboard', 'mod', 'kb', 'boa', 'ssd', 'picker\"', 'multi-user', 'solutions', 'football', 'search-suggestions', 'ff56', 'multi', ' toolbar', 'padlock', 'infront', '68.2', 'age', 'videosource', 'Extensions', 'bookamarks', 'demand', ' event', 'society', 'nightly', 'migrating', 'autofill-email', 'banking', 'personas', 'v-67', 'either', 'dilog', 'logging-in', 'forced', 'blue', 'plasma', 'dch', 'repair', 'bp-74f92cba-0ebf-43ba-a7bc-2a1871171126', 'unavailable', 'gift', 'hotkeys', 'question', 'storedrv.submission.exception:outboundspamexception', 'recall', 'admin', '64.0.2', 'working.', 'unblock-cookies', 'responde', 'minimizar', 'sub-menus', 'about:addons', 'know', 'arrows', 'dhc', 'ai', 'linuxmint', 'window-options', 'chrome://browser/content/preferences/cookies.xul', 'back-up', 'episodes', 'acceleration', 'photoshop', '67b17', 'log', 'received', 'helping', 'force', 'resume', 'purpose', 'dont', 'supported', 'postage', 'disappers', 'helper', 'moderator', 'firefox-68', 'daily', 'unpleasant', 'code.', 'pocket', '4.9.13', 'operate-correctly', \"doesn't\", 'unabe', 'wont', 'soanish', 'signout', 'worked-on-other-browser', 'Enhanced Tracking Protection', 'ui-bug', 'firefox.exe', 'administrador', 'firefox!', '45.0.0', 'shield', 'mac-os-10.14.6', 'stackoverflow', 'accident', 'multiple', 'investigate', 'https+++', 'version57', 'win', 'signing', 'recovery', 'go', 'sorted', 'sourse', ' filesystem', 'http://prntscr.com/pmkvhe', ' lockwise', 'avg', '62.0.2', 'safari', 'private-mode', 'fox', 'senders', 'avatar', 'highlight', 'searchtest', 'linesbelow', 'deactivate', 'mess', 'bookmarked', 'windows8.1', 'dont-open', ' unknown device', 'partially', 'functionality', ' crashing', 'stock', '71', '  algorithm', 'devide', 'topic', 'v66.0.2', 'preserved', 'picker', 'webp', 'acrobat', 'keybord-functionality', 'jar', 'popups', ' email', 'bookmarklet', 'personalize', 'gesture', 'right-click-print', 'youtube-thumbnails', ' selected text', 'new-computer', 'factory', 'happens', 'faiil', 'werfault.exe', 'clash', 'mint', 'unnoticed', 'toolbarcolor', 'bookmakers', 'bundled-search-engines', 'win7', 'awesome', 'orange-screen', 'add-website', 'lg', 'tab-session', 'Restart', 'lagged', 'opml', 'corporate', '.............', 'firefox-accounts', 'standout', 'siable', 'lost-everything', 'today', 'bot', 'u-block', 'unchecked', 'app', 'protected', 'codes', 'tuner', 'logging', 'module', 'lgmonitor', 'connection', 'connectivity', 'print-preview', 'followed', 'suggest', 'antiphishing', 'hide', 'protetion', ' options', 'need', '(ksod)', 'emoticon', 'mark', 'tabtitle', 'norton', 'instal', '72', 'thunderbird', 'blockingerror', 'google-search', 'scotia', 'solaris', '10.11.6.1', 'stamp', 'styles', 'block', 'clickpath', 'fxa', 'chronology', 'thepetitionsite.com', 'true', 'addresses', 'hyperlinks', 'firefox-68.2', 'firefox-72.0.1', 'bloatware', 'identification', 'impaired', 'driver', 'two-finger', 'hamburguer', 'lost-cookies', '8.5', 'Personnas', 'cups2.27', 'mac-os-10.12.6', 'Browse-history', 'logged-out', ' new tab', 'unclear-question', 'aspera', 'javascript:function', 'readability', 'delay', 'add-ons-feature-request', 'windows10/64', 'scorll', 'add-ins', 'amazonuk', 'amazon-search', 'unsuspend', 'big', ' webloc', 'MacOS', 'empty', 'blocking', 'ultimate-social-media-icons-plus', 'window7', 'two-windows', 'duckduckgo.com', 'websiteerror', 'finance', 'favorites', 'leechblock', 'no-longer-available', 'rds', 'side', 'coding', 'install', 'loading', 'automate', 'selection', 'ver.', 'websites:', 'two-tabs', 'french', 'Pinned-tab', 'flat', 'distord', 'permanent', 'channel', 'firefox-72.0', '63.0.1', 'smart', 'making', 'debian', 'netflix', ' provider', 'badger', ' web compatibility', 'undeletion', 'person', 'av', 'Cookies', 'history-disabled', 'good', 'netzero', 'polling', 'answer', '\"other', 'website-blocked', ' keystrokes', 'cpu', 'us-cert', 'ids', 'subfolders', 'popunder', 'input-text-not-visible', 'length', 'Firefox72', ' accounts', 'wont-accept-password', 'uninstaller', ' security', 'coookies', 'ctrlr', 'ignored', 'mojave', 'firefox72.0.1', 'extension', 'messages', 'manual', 'non-international', 'bounce', 'windows-8.1', 'firefox-62', 'Fire-fox', 'spellcheck', 'version72.0.1', 'xfinity', 'developer-account', 'associated', 'tdbank', 'disguise', 'unnecessary', 'bushwhack', '2gb', 'f12', 'cloud', 'loaded', 'web-page-accessing', 'cam', 'incompatible', 'hen', 'colors', 'cookie', 'right-click', 'existing', 'tabs', 'secure', 'proxy', 'privious', 'ff-color', 'greyed', 'password-manager', 'deselects', 'acess', 'searching', 'about', 'message:not', '2FA', 'vendor', 'forever', 'clipper', 'message', 'kickstarter', 'retrieve', '\"agree\"', 'saving', 'avoid', 'malfunction', 'studies', 'equations', 'capitan', 'update', 'firefox-77.0', 'not-visible', 'doesnt-sync', 'zomato', 'transfer', 'firefox74.0a1', 'distorted-search-menu', 'bookmarkl', 'badkeyboard', 'na.wargaming.net', 'bing', 'surfing', 'scheme', '68.0.2', 'earthlink', 'predefined', 'dark', 'clicked', 'autoplay', '67.0.x', 'unplug', 'certs', 'present-location', 'extensoins', 'interpreter', ' redirect', 'hovering', 'caption', 'uni', 'milibris', 'lag', 'built-in', 'buying', 'returning', 'autocompletion', 'tags', 'multiscreen', 'filters', 'dedication', 'seach', 'fully', 'browser.places', 'churns', 'absolutely', 'exception', 'synced', 'lastpass', 'defect', 'fiirefox', 'replace', 'smaller', ' customize', 'separated', 'customizations', 'opens', ' profiles', 'government', 'respawn', 'active', 'underlying', '.php', 'marks', 'spell', 'available', ' peripherals', 'catalinafirefox', 'ext4', 'old-computer', 'library', 'lose', 'download', 'disk', 'heart', '\"disagree\"?', 'turned', '66.0.2', 'enhancedtracking', 'loggers', 'capi.grammarly.com', 'redirect', 'several', ' top sites', 'beta', 'relocate', 'edit', 'train', ' deletion', 'bias', 'io', 'settingserror', 'addonerror', 'utf', 'highlight-color', 'single', 'recognition', 'libraries:', 'firefox-68.2esr', 'npapi', 'decice', 'non-english\\n', 'menuwizard', 'invoked', 'firefox-69', 'works-in-safari', 'phonenumber', 'wish', 'tips', 'mapsnow.com', 'signed', 'windows-8', 'windows7-pro', \"i'd\", '4th', 'erasure', 'objectstore', 'middle', 'tally', 'scroll-bar', 'autoconfig', 'faulting', 'firefox-developer', 'dictornisry', '\\n69', 'services', 'autoupdate', 'synchronise', 'navigationbar', 'autoplayconfig', 'ssafe', 'crashes', 'visuals', 'maintenance', 'original', '60esr', 'Windows10', 'administration', 'suddenly', 'firefoxexe', 'not-updating', 'sophos', 'generated', 'terminate', ' ux', ' encryption', 'no-response', 'removed', 'pattern', 'suspicious', 'function', 'unstyled-website', 'disable', 'offline', 'foxit', 'riwayat', 'exporting-bookmarks', 'startup-crash', 'Secure-connection', 'encryption', 'font', 'tax', 'shareongab', 'keyword', 'non-functioning', 'disabled', 'display', 'addons', 'clear', 'forbidding', 'delete-ssl', 'debugging', 'wunderground.com', 'week', 'great', 'june', 'sing', 'outbound', 'phising', 'nelligan', 'washintonpost', 'crashid', 'guide', 'freezes', 'arrange', \"can''t\", \"i'm\", 'unverified', 'reminders', 'yahoo.com', 'peripherals', 'facebookcontainer-feature-request', 'hours', 'suddently', 'email-doesnt-work', 'bookmark-wont-load-from-gmail', 'zibbet', 'onw', 'survey', 'Mac-catalina-10.15.2', 'customisation', 'ancestry.co.uk', 'mainpage', 'editing', 'firefox66.00.05', 'overrinding', 'reason', 'ibm', 'email-addresses', 'checkbox', 'falling', 'searchv.dolanbaross', 'autocomplete', '(and', 'recognize', 'depot', 'cachewall', 'home-page', 'streaming', '6.9.0.3', 'not-secure', 'Firefox-ESR', '120%', 'interface', 'package', 'extend', 'amazon-logo', 'disappearing.', 'stating', 'meldungen', 'register', 'lottery', 'notices', '\"google', 'microsoftteam', 'v71', 'request', 'preferencessearch', 'lighter', 'transfer-data', 'bookmark-location', ' local', 'FlashPlayer', 'imgur', 'failure', 'malware', 'placement', 'realplayer', 'documentation', 'fedora31', 'exporting', 'mexico', 'together', 'api', 'gamestop', 'UTF-8', 'code', 'wiki', 'ctd', 'version72.0', 'remains', 'partition', 'up.', 'recent', 'stream', 'processes', 'feature-request', 'highlighted', 'control', 'pastying', 'canada', 'authentification', 'flicker', 'blacklist', ' full screen', 'words', 'validation', 'bakup', 'yakuza', 'lumia', 'tool', 'firefoxstartup', 'renamed', 'dashes', 'finland', 'sidebar', 'computer-locked', \"sam's\", 'screenshot', 'browder', 'nvda', 'new', 'connect', '1903', ' store', '69.0.2', 'changecontext', 'dpi', 'version69.03', 'dropdown', 'washington', 'debugger', 'date', 'weekly-updates', 'unsafe', 'called', 'browser-history', 'standardization', 'boxed', 'spontaneously', 'samsunggalaxy', 'yahoo', 'res', 'quantum', 'emblemsareallthesame', 'attack', 'weblock', 'ctrl+f', 'clearing-cache', 'touchpad', 'add-on', 'slow-performance', 'monitor', 'signin', 'ignores', 'v68', 'without', 'desktopsite', 'FxA', '\\nmac-os', ' subfolders', 'facebooks', 'muted', 't-mobile', 'x540la', 'firefox71', 'crtl+d', 'reversed', 'horizontal', 'fingerprinters', 'recommentations', \"df_new = df.rename(columns={'A': 'a'}, index={'ONE': 'one'})\", 'banks', ' stale', 'listing', 'showed', 'drop-down', 'breaks-keyboard', 'enhanced-tracking-protection', 'omission', 'exists', 'waterfox', 'process', 'master-password', 'downloading', 'loaderror', 'unrecognised', 'macbook', 'returns', 'happen', 'not-relevant\\n', 'quantam', 'prevented', 'injection', 'utf-8', 'dom.ipc.processcount', 'scrolling.', 'compatibiliy', 'evening', 'advertiser', 'authentication', 'passwork', 'organisation', 'multirow', 'lot', 'rafau', 'when?', 'pdf-viewer', 'bugzilla.mozilla', 'csr', 'posting', 'web-camera', 'isolate', 'sticky', 'ststem', 'comment', '54.0.2', 'anjalifont', 'da', 'grammar', ' blocked', 'prompt.', 'notclickablefirefox', 'various', 'menubar', 'malvertisement', 'reverse', 'print-window', 'saved.\"', 'launching-exernal-apps', 'attendance', 'tls-certificate', 'possible-add-on-issue', 'operating', ' browsing', 'bolded', 'downloads', 'discrete', 'fullscreen', 'account-activation', 'Background', 'computer-crashed', 'appstore', 'quantum64', 'tb', 'isp', 'loses', 'two-factor', 'cant-find-printers', 'navigating', 'cheer', 'will-not-start', 'profile.ini', 'slow-performancebookmarks', 'probably-not-a-firefox-proble\\n', 'interruption', 'compact', 'visibility', 'kubuntu', 'unistalled', 'not-installed', 'newproblem', 'playing', ' disable', 'sierra', 'layout', 'instantly', 'extensionlist', 'temp', 'customcssforfx', 'keyboard-shortcuts', 'forgets', '3rd', 'sreen', 'additional', 'scripts', 'audiopick', 'video', 'boxes', 'ipad', 'spanish', 'windows-vista', 'scrolling', 'asks', ' autofill', 'avastissue', 'save-data-to-server', 'square', 'history-dataloss', 'fixed', 'dom-', 'originaldefault', 'nag', 'hxr', '2nd', 'paste\"', 'newtab', 'origin?', 'multi-account', 'homepages', 'ask', 'doesnt-work', 'synched', 'authority', 'exceptions', 'usability', 'flickers', 'effective', 'teamviwer', ' extension', 'free', 'win7ff:', 'google', 'Recaptcha', 'issues.setttings', 'method', 'ecommerce-bug', 'opens-in-new-tab', 'live', 'key4.db', 'aspera-connect', 'saver', 'file/send', 'Private-browser-mode', 'whole', 'coub.com', 'keystroke', '.jsonlz4', 'allocate', 'shrink', 'modify', 'Password-manager', 'faultyupdate', 'onscreen', 'deactivated', 'phishing', ' webcompat', 'detection', 'node-webcl', 'programmes', 'media', 'private-browsing', 'booted', 'crazy', 'chromium', 'firefox:', 'newtabpage', 'restore-bookmarks', '\\n71', ' credentials', 'textboxes', 'calls', 'space', 'assigned', 'important', 'cookies', 'google/bing', 'context', 'doesnt', 'ons', 'permision', 'developer-edition', 'closed', 'everyday', 'cpanel', '73.0', 'tries', 'firefo-57.0', 'social', 'u2f', 'included-crash-report', 'configured', 'cant-switch-language', 'ram-usage', 'usermistake', 'autobuffering', 'vpn', 'screen.', 'work', 'nonrelavent', 'sink', 'message\"', 'window-cut-off', 'sofware', ' prompt', '72.0.2(64-bit)', 'support.mozilla', 'unlock', 'fingerprint', 'expect-ct', 'linesabove', 'descriptions', 'character', 'execution', 'bubblingbut', 'intended', '52.9.0', 'restore', 'howto', 'version66.0.3', 'webpage', 'tour', 'nanocloud', 'automatic', 'hp', 'download-manager', 'trouble', ' interface', 'flash-player', '73.0.1', 'misspell', 'said', 'computers', 'External-link', 'starting', 'played', 'recording', 'edit-bookmars', ' printers', 'impossible', 'recommendation-address-bar', 'missing', ' update', 'sony.ru', 'lockwise', 'issuer', 'collecting', 'darktheme', 'website.', 'dock', 'protocols', ' 72', 'individual', 'shortcuts', 'educational', 'enter', 'firefox-70.0.1', '3rdparty-software\\n', 'backup', 'temporary', 'corruption', 'reader', 'blocker', 'duckduckgo', 'pickup', 'instalation', 'hostingcloudscience', 'Firefox-69.03', 'slidebar', 'ruined', 'gmail-problem', 'postings', 'wifi', 'accounts', 'alert', 'Remove-button', ' firefox', ' menu', 'photos', 'songtradr', 'zoom', 'record', 'viewed', 'caches', 'yoyrube', 'archives', 'association', 'linkedin', 'google.com', 'apache', 'loadtime', 'atrair', 'sync-not-working', 'ask.com', 'ctrl+shift+p', 'unexpected-behavior', 'concern', 'stopping', 'chambers', 'mozilla', 'runningbare', 'adblocker', 'unclear', 'email-address', 'cleartype', 'slow-motion', '\"this', 'reverted', 'import/export', 'angular', 'copy-and-paste', 'difference', 'firefox64', 'tunnel', 'complaint.', 'bookmarks.', 'air', 'fatdog64', 'handle', 'error-message', 'pb-mode', 'nightly72.0', 'another', 'experian', 'drm', 'premium', 'transfer-passwords', 'Spam-email', 'everywhere', 'harmful', 'bsod', 'yahoo-search-instead-of-google-search', 'addressbar', 'subdomain', 'modem', 'protocal', 'cmd', 'GUI', 'chinese', 'windows-10', 'brake', 'pops', 'firefox52.9.0', 'days', 'robo', 'applet', 'elementor', 'click', 'opencl', 'moved', 'where', 'pr', '(with', 'gaming', 'notes', 'draw', 'alternate', 'normally', '70.', 'youtube', 'bots', 'disappeas', 'note', 'macos', 'secondary-email', ' file explorer', 'swapfile', ' keyboard', 'edit-autofill', 'confrence', 'arch', 'locked-out', 'spam', 'appearance', 'features', 'adding', 'targeted', 'lists', 'iran', 'spanisch', 'TLS', ' pbm', '\"cut', 'sessions', 'touch-pad', 'mohave', 'foundfirefox', 'embedded', 'ancestory', 'restore-site-icon', 'login-suggestions-probably-not-a-firefox-problem', 'personalized', 'graphics', 'deal', 'tiscali.it', 'containers', 'user.js', 'permissions', 'screen-size', 'consuming', 'soace', 'Icon', 'login.', 'link', 'matrix', 'ticks', 'page', 'customize', 'picture', 'accept', 'excessive', 'openbox', 'iframe', 'v65', 'irregular', 'bird', 'firefox\\\\firefox-65.0a1.ru.win64\\\\firefox\"', '25%', 'xfce', 'Gamil-icon', 'low', 'hang', 'wont-work', 'prompts', '66.0.3', 'watch', 'none', 'unpinning', 'improve', 'windows-explorer', 'server', 'cutting', 'random', 'gui', 'firefoxvpn', 'username', 'Saved-login', 'nicely', 'storage', 'mac-os-10.9.5', 'hotmail', '4gb.', 'boot', 'compatibility', 'pr_end_of_file_error', 'touchscreen', 'printing', 'inacessible', 'tabbar', 'ux-change', 'libre', 'store-cookies', 's10+', 'Screengrab!', 'double-click', 'search', 'webpage-interactive-feature', 'excel', 'upgrading', 'routing', ' nesting', 'phyton', 'adobe-flash', 'related', 'moving', 'adaware', 'refelctivity', 'add-person', 'flow', 'virus?', 'keylock', 'newfirefoxwalkthrough', '\"bookmark', 'malformed', 'ui-issue', 'Resize', 'searchengines', 'yocto', 'taobao', 'arrow', 'boomerang', 'emailing', 'wont-update', 'dveloper-edition', 'could', 'item', 'People-icon', 'clock', 'toggle', 'lane', 'sluggish', 'stylus', 'print-letter', 'heavy.com', 'check', '60fps', 'shadow', 'firefox-crashed', 'use', 'freeze', ' open', 'firefox-monitor', 'ad', 'middle-button', 'attention', 'replaced', 'query', 'disappearance', 'pulse', ' 70, catalina', 'open-new-window', 'stops', 'COMODO', 'post', 'divert', 'sites', 'content-hidden', 'tattoo', 'start-up', 'customise', 'dropped', 'vdi', 'cleared', '69.0', 'webcompat', 'Input-text', 'online', 'nighty', 'speed-up', 'kickstart', 'functionality-of-non-firefox-website', 'windows7(64-bit)', 'e-mail', 'chashed', 'play', 'new-search', 'capture', 'salesforce', 'audio', 'protection', 'in.', 'cant-get-back', 'chinese-input', 'inappropriate', 'zillow', 'Okular-PDF', 'onscreencontrol', 'complexity', 'ff71', 'disable-flash', 'developers', 'homes', 'killer', 'firefox-72.0.01', 'four', 'keys', 'visited-links', 'interval', 'activated', 'el', 'sustomize', ' login', 'black-white', 'dev', 'sessionstore', 'software', 'firefox-65', 'serach-bar', 'thanks', 'chrome', 'stuttering', 'navigation', 'updgrade', 'load.', 'linus', 'screen-flashes', 'relevant', 'Windows-7', 'transient', 'research', 'blinking', 'file-explorer', 'multitask', 'browse', 'autodelete', 'forums', 'breaks-it', 'defaults', 'large-download', 'cryptography', 'uploaded', 'mba', 'ii', 'anything', 'chart', 'outgoing', 'constantly', 'providers', 'telemetry', 'modes', 'ssr', 'yahoo!', 'prevent-all', 'stay', 'mail.net', 'correctly', 'Search-bar', 'return', 'ecommerce', 'usa', 'deskot', 'dontshow', 'windows10', 'rebooting', 'completely-disable-enhanced-tracking-protection', 'exports', 'expressvpn', 'hangout', 'paper', '67.0.1', 'new-download', 'espn', 'stop-firefox-saving-every-site', 'reformat', 'firefows', 'windows10(1803)latest', '67b15', 'looks', 'loginproblem', 'kalw.org', 'pin', 'newtabhijack', 'mavericks', 'duolingo', 'installing', 'blockers', 'intrusive', ' auto-fill', 'shrunk', 'bundle', 'errorid', 'tapufind', 'login-autofill', ' sound', 'overlay', 'webcontent', 'extract', 'webcl', 'etp-broken\\n', 'saveform', 'Tabs', 'setting-deleted', 'powerball', 'autostart', 'club', 'cap', 'entries', 'narrow', ' etp', 'tracking_protection_shield', 'colorful', 'radiobutton', 'frequency', 'uid', 'outlook.office365.com', 'recognising', 'hidden', '71.0.0.7275', 'cloudfaredds', 'gfactor', 'Evernote', '2-ff...programs', 'startuo', 'problems', 'passaword', 'errorautoplay', 'scratchpad', 'yahooemail', 'McAfee', 'links', 'plus', 'blocked', 'osx-keyboard-shortcuts', 'width', 'java6', 'net', 'website', 'devcices', 'updates.', '\"inactive\"', 'websocket', 'animation', 'safe mode', 'ctrl-tab', 'fast', 'folder', 'ustomize', 'desktopmode', 'differentproblems', 'processing', 'navi', 'mac68.0', 'half-screen', '69.0.1', '64bit', 'err1100', 'show', 'foxnews', 'welcome', 'a485', 'noenter', 'change', 'verified', ' search suggestions', '.zim', 'url-box', 'memory', 'external-apps', 'cant-unblock-cookies', 'accidentally', 'via', 'bearbeitet', 'add-feature', 'formatted', 'title-in-titlebar-missing', 'delivery', 'rtmp', 'context-menu', 'userchrome.css', 'vanished', 'linus-debian', 'New-tab', 'windows7pro', 'window-info', 'algorithm', 'youtubedifferentversion', 'wiping', 'softenings', 'circles', 'workaround', 'NVDA', 'can´t', '\\n70', '68.0.2.64', 'pick', 'programatically', 'firefox-accounts ', 'bars', ' password', 'about:home', 'firefox-crashes', 'misplaced', 'hacked', 'magnifying', 'retina', 'svp', 'prevent-any', 'revision?', 'Firefox-69.0.1', 'mediafire', 'trusted-certificates', 'intalled', 'issue\\n', 'contentdocument', '10.13.6', 'storedrv', 'screenshots', 'launcher', ' ultimate social media icons plus', 'hovered', 'spotty', 'screenreader', 'history-broken', 'mining', 'download-gets-stuck', 'backuprestore', 'despite', 'ghostery', 'acount', '(orange', 'filesystem', 'override', 'display-glitch\\n', 'adult', 'bolder', 'https://pastebin.com/zsjyr8pj', 'sparkassen', 'manually', \"vpn's\", '99%', 'support', 'known', 'strane', 'pinned-tab', 'pinned-tabs-snc', 'pagine', 'medium.com', 'native', 'handlers.json', 'ctrlleft', '1st', 'recommended', 'notice', 'nuance', 'relevent', 'incorrect', 'ssd=))inf:\"d:\\\\6', 'sections', 'unpin', 'menu', 'vídeos', 'human', 'firefox-63.0', 'thermal', 'firefox64.0.2.', '7.2', 'screenshoto', '56', 'old-search-bar', 'tab-tall', 'red', ' ui', 'file', 'ctrl+mouse', 'webpage-interactive', ' sync', 'surf', 'huffpost', 'postimg.cc', 'pre-setup', 'disapeared', 'php', 'packing', 'slider', 'revert', 'network printers', 'personalization', 'Outlook', 'older', 'cloud9', 'recycle-bin-emptied', 'overwritten', 'sleepmode', ' log-in', 'procedures', 'youtube-ads', 'new-email', '\"fill', 'reintstall', 'grid', 'invisible', 'performance', 'auth', 'ou', \"wan't\", '65.0', 'possible', 'cloudflare', 'visited', 'scrounge', 'drop-down-list', 'restarts', 'Sync', 'changes', 'nofirefoxsupport', 'uploading', 'sharepoint', 'newbutton-tab', 'reCAPTCHA', 'malfunctioning', 'roaming', 'deleted-profile', 'resolve', 'consumption', 'combo', 'cli', \"web's\", 'zooming', 'alternative', 'logged-off', 'thicket', 'geography', 'one-click-search', 'beyond', 'firefox-dev-edition', 'domains', 'ctl-d', 'certificate-not-trusted', 'mcafee', 'version67', 'stable', 'nowhere', 'duplicate-bookmarks', ' block images', 'mac-os-mojave', 'custome', 'skinny', 'unblock', 'simplified', '66.0b2', 'refuse-password', 'found.', 'countries', 'advertise', 'not-clear', 'urls', 'website-stopped', 'macbook.', 'destroyed', 'hand', 'login/passwords', 'everything', 'profile-backup', 'bp-fd692a96-a5d3-4bc0-90a7-824350190129', 'firefox-73', 'adds-on', 'tutorials', 'mpl', 'unknown', 'updating', 'sparc', 'away', 'page-info-icon', 'plugins', 'whitemenus', 'Crash', 'twitch', 'recognised', ' address', 'reinnstall', 'choswe', 'version9', 'devices', 'ss2', 'russian langauge', 'recovered', 'kaspersky', 'passwords', 'games', '.json', 'confirm', 'change-email', 'indicator', 'booting', 'keyboard', 'portable', 'secureline', 'legit', 'enables', 'downgrading', 'ajax', 'annoying', 'accessible', 'blocked-content', 'compatability', ' navigation', 'widget', 'off-guardian.org', 'ff&de', 'responsive', 'automatically-crashes', 'kurdo', 'max_resumed_crashes', 'explorer', 'ie', 'expiration', 'tub', 'add-on-updates-broen', 'dns-over-https', '18.01', 'centurylink', 'discontinuation', 'google-homepage', 'Firefox-52.9ESR', 'Firefox-71.0', 'lbrowser', 'colours', ' config', 'emoji', 'restoring', 'widows', 'move-url-bar', 'signinaddons', 'firefox-71', 'scale', 'automatic-log-in', 'werfault', 'backspace', 'allows', 'ubunt', ' lagging', 'firefox70.0.1', 'ssl', 'disconnects', 'version72.0-64bit', 'goes', 'plan', 'videocapture', 'noaudio', 'ahead', ' web extension', 'test', '(sometimes)', 'how-to-download-firefox', 'sec', 'encrypt', 'extentions', 'Tabbar', 'spotify', 'across', 'wizard', 'public', 'search-engines', 'remembered', '.css', 'log-ins', 'breach', 'zone', 'comprehensive', 'print-screen', 'dom', 'inbox', 'temporarily', 'unknown-device', 'using', 'tolls', 'room', 'advise', 'not-working', 'send', 'scaling', ' backup', 'one-click', 'solve', 'sponsored', 'tab-down', '73', 'chroe', 'savedlogin', 'station', 'adblocksplus', 'glitched', 'extraction', 'booksmarks', 'permanently', 'arabic', 'continously', 'recover', 'restarting', 'isnot', 'mime', 'costco.com', 'firewall', 'forecast', 'deutsch', 'located', 'add-self-signed', 'no-remote', 'share', 'insistent', 'Right-click', 'vault', 'removing', 'cross-origin', 'webgl.force-enabled', 'attached-logs', 'être', 'internetexplorer', 'perform', 'fireofx', 'website-doesnt-work', 'manquant', 'restore-session', 'tokens', 'safemoney', 'finger', 'broken-site', 'article', 'tab\"', 'Antivirus', 'warning', 'amazon.com', 'shutting', 'rollback', 'Fireforx-70', 'inferior', 'webpages-glitch', ' mac', 'troubleshooting', 'trojan', 'adblockplus', 'gbp', 'audio-broken', 'version72.0.2', 'editions', 'barely-audible', '10.14.6', 'rendering', 'bookmards', 'ff-icon', ' icon', '\"rlls64.dll\"', ' cookies', 'filed', 'idea', 'managed', 'bevorzuge', 'self', 'whats-new', ' information-question', ' 71', ' video', 'uninstall', 'align', 'logs-off', 'grammar-check', 'backed-up', 'faliure', 'wired', ' search', 'height', 's10', 'pconly', 'containing', 'shopper', 'aboutconfig', 'portableapps', 'editor', 'lotsoferrors', 'ghosterly', 'searcher', 'bitwarden', 'blank-window', 'colour', 'lock', 'unsave', 'covering', 'incompatibility', 'fan', 'chronw', 'MacOS-10.14.6', 'except', 'exit', 'ff68', 'list', 'develop', 'prgram', 'banco', 'forefox', 'power', 'repulsive', 'file\"', 'accepting', 'na', 'cellphone', 'ups', 'lenovo', 'firevox', 'ircs', 'user-error', 'different', 'dom2', 'Shockwave', 'firefox-68.2.0', 'startup', 'packets', 'v52', 'est', 'bookmarks', 'track', 'non-saved', 'cached', 'renaming', 'policies.json', 'displays', 'wrror', 'volume', 'login-details', 'overlap', 'reload\\n', 'hardcopy', 'upgrades', 'utologin', 'animations', 'asterisks', 'unsupported', 'buottons', 'environment', 'third-party', 'advertisements', 'punctuation', 'eingestellt', 'lockwisee', 'how-to', 'Password', 'intuittax', 'question\\n', 'become', 'numerous', 'stream-tv', 'windowsserver2003', 'userscript', 'protections', 'ad-block', 'resets', 'three', 'ascii', 'png', 'i7', ' download', 'chargé.', 'field', 'bare', 'comments', 'Firefox-70', 'important-news', 'blackground', 'focus', 'german', ' form fill', 'custom', 'hangs', 'firefox-62.0.3', 'tracking_protection_enabled', 'workplace', 'local', 'works-on-osx\\n', 'software-download', 'Logging', 'applications', '64-bit', ' bookmarks', 'mozilla.org', 'black', 'distorted', 'fingerprinting', 'image)', 'recyclebin', 'addon\\n', 'strict', 'resource', ' user library', 'allow', 'non-maximized', 'activate', 'investing', 'courses.edx.org', 'management-of-individual-cookies', 'toolbar', 'logs', 'done', 'warner', 'fingerpringing', 'sub', 'radio', 'let', 'mailbox', 'profile-corruption', 'newbrowser', 'camera', '\\n72', 'unopen', 'flagging', 'tile', 'migration', 'outlook.live.com', 'asus-xonar-dX', 'looking', 'evernote-clipper', 'condition', 'happening', 'restrict', 'adaptive', 'filled-in', 'blankpage', 'mouse3', 'worddrop', '2fa', 'mojaveos', 'resort', 'receiving', 'redirection', 'telephone', 'tvguide', ' livestream', '1024mb', 'purchase', 'doesnt-load', 'faster', 'firefox-69.03', 'mx', '10.9.5', 'restored', 'letting', 'bookmarkfolder', 'leftmost', 'firefox.', 'diable', 'short', 'google-related', 'soapee', 'nmute', '0xc00005', 'confirmation', 'works-everywhere-else', 'share-button', 'credit', 'disconnected', 'weeks', 'unaesthetics', 'live.com', 'bp-784b0fa2-5909-4257-9729-3ab160181209', 'Email', 'platform', 'Print', 'auto-upgrade', 'displayed', '\"1', '3weeks', 'restriction', 'want', 'numbers', ' history', 'random-websites', 'toolkit', 'minimize', 'accesing', '64.0b5', 'message:0xc06d007e', 'added', ' bug', 'complain', 'nonresponsive', 'dictionary', 'saved', 'recieving', 'user-agent', 'auto-suggest', 'under-responsiviness', ' crash report', 'quick', 'activation', 'etp', ' Windows 10', 'easily', 'bookmark', 'determine', 'Default-profile', 'capital', 'old-look', 'enlarge', 'udated', 'compat', '68.0', 'form', 'improving', 'omit', 'refreshing', 'autoscroll', 'howtouseavastwithfirefox', 'sets', 'components', ' shrinking', 'container', 'mozzilla', ' Catalina', 'disappeared', 'unusability', 'successpage', 'drag', 'compromised.', 'foreground', \"url's\", 'pop-unders?', 'trackers', 'administrator', 'reconnecting', 'pixels', 'partnered', 'portion', 'limited', 'webs', 'reflect', 'firefox-safe-mode', 'videos/episodes', 'user-library', 'maindrive', 'cloudfare', 'select', 'galaxy', ' preferences', 'version65', 'url-bar', 'ticketmaster', 'sms', 'quicktime', ' addresses', 'shopping', 'evenig', 'overflow', ' MDN', 'ctrlq', 'userinterface', ' empty', 'deleting', 'MacOSX-10.9.5', 'gaps', 'fingerprinter', 'glass', 'importation', 'improperly', 'feed', 'arent', 'unerlying', 'move-history', 'extist', 'time', 'chromeos', 'coordinates', 'inability', 'Search-engine', 'behaviour', 'header', '67.0', 'esc', 'singin', 'smooth', 'instances', 'frequent', 'browser.newtabpage.activity-stream.topsitescount', 'potential-security-issue', 'sollution', 'secondary', 'mail.', 'audio-device', 'fx71', 'showing', 'videoplayers', 'methods', 'discord', 'decoy', 'adressline', 'war', 'advanced', 'updated', ' firefox refresh', 'mailto', 'drive', 'pc', 'version(68.0.1)', 'statusbar', 'dragging', 'il', 'activity', 'protocol', 'non-mozilla', 'autodesk', 'ccertificae', 'based', 'bug', 'execute', 'saved-information', 'backgroun', 'lock-out', 'open', 'deselected', ' Mozilla developer account', 'version55', 'session-restore', 'disable-add-ons', ' troublehooting-details-missing\\n', 'selections', 'letter', 'DELETED', 'gmails', 'unlocking', 'invalid', 'datto', 'reloads', 'Firefox-71', 'options', 'windows-xp', 'privacy', 'recognizing', 'file-manager', 'type', 'kde5/linux', 'thing', ' sync-broken', 'wake', 'info', 'states', 'router', 'fb', 'inspect', '1.149mb', 'scanning', 'tab.close.button.transparent.background', 'fedora', 'circle', 'managing', 'downoad', 'acsess', ' render', 'new\"tab\"', 'former', 'slow-cursor-focus', 'search-engine', 'bookmaks', 'zip', 'alternating', 'encryption\\n', 'aids', 'cable', 'day', 'cant-login', ' ff71', 'whitebar', 'logins', 'sign', 'exception_access_violation_read', 'remove-phone-number', 'cookied', 'self-signed', 'find', 'yesterday', 'v62', 'about:config', 'gateway', 'cancel', 'importing-bookmarks', 'inside', 'ff73', 'understoond', 'deletion', ' external', 'night', 'computer.', 'akamaihd.net', 'plasma-discover', 'pode', ' desktop', 'laptops', 'script', 'uninstalled', 'last', 'accessing', 'texts', 'please', 'unvisited', 'pound', 'v66.0.5', 'dead', 'block-images', 'writes', 'seperate', 'like', 'auto-update', ' privacy', 'macosx', 'developing', 'separate', 'constant', 'cleaner', 'prevent', 'visit.', 'googlemail', 'ram', 'instagram-not-loading', 'no-longer-works', 'detectportal', 'quantrum', 'pins', 'topsites', 'webcam', ' menus', 'special', 'seasonly', 'Firefox70', 'guys', 'fedex', 'cyberghost', 'youtubeneedtobeupgraded', 'encryptions', 'lmb', 'published', 'reload', 'topphat', 'chrome/usercontent.css', 'kde', \"there's\", 'write', 'data', 'surfacebook', 'visible', 'flashes', 'global', 'request.', 'still', 'ublock-origin', 'trigger', 'about:protections', 'firefox-68.2-esr', 'keep', 'Ubuntu', 'windows10(64-bit)', 'deletecookie', 'Custom-css', 'thank', 'blancoctt.ptt', 'reversion', 'visual-gui-bug', 'mac', ' web page', 'logot', 'version?', 'update-install', 'clip-to', 'nsfw-ads', 'first', 'trr', 'FTP', '54.0', 'midnight', \"aren'tprinting\", 'bookmakrs', 'isolated', 'msn.com', 'weird', ' content', 'highlighting', 'release', 'match', 'doubts', 'addblockplus', 'cryptomining', 'eventid5', 'irc', 'jaws', 'forms', 'pw', 'pack', 'mac-os-10.11.6', 'youtubemusic', 'block-image', 'issues', ' page elements', 'https', 'metal', 'safety-search', 'steps', 'live-person', 'firfox', 'procedure', 'default', 'opera', 'easyweb.td.com', 'blocks', 'updates', 'transport', 'fail', 'program', 'recover, profile', 'snapvideos', 'lint', 'iis8', 'msmediapack', '62', 'correct', 'start', 'multi-screen', 'linux-mint', 'unchanged', 'document', '63.', 'parental', ' signing', 'UK', 'off topic', 'search-engine-hijack', 'sequence', 'cold', 'issue', 'autofill', 'hard', \"didn't\", \"don't\", 'bringing', 'ff-monitor', ' duplicate', 'bit', 'Computer-crash', ' websites', 'twitter', 'delay-loading', 'useful', 'hulu', 'old-version', 'Favorites', 'stack', 'version71.0.1', 'colorblind', 'interfering', 'retrieving', 'dislpay', 'lost-credentials', 'pics', 'causes', 'threat', 'killed', 'newly', 'pclinuxos', 'numerical', 'direct', 'escape-key', ' synchronization', 'clearing', 'trusted', ' user', 'shield-icon', 'deleted-logins', 'ctrl+q', 'install\"', 'Downgrade', 'traffic', 'import', 'multiple-user-accounts\\n', ' udgrade', 'mac-os-10.15.2', 'included-images', 'w10', 'webpages', 'auto-generated', 'permits', 'selector', 'times', 'blob', 'Refresh', 'hanging', 'compose', ' impeach.org', 'system', 'organize', ' purchase', '69', ' upgarde', 'searchline', 'pinning', ' freeze', 'continuosly', 'llinux', '\"=\"', 'longupdate', 'versions', '65.0.2.', 'choose', 'profille', 'turning', 'websites', ' defaults', 'preview', 'mon2', 'private browsing', 'ff', 'battlefield4', 'reverting', 'level', 'windows', 'Firefox-Quantum', ' Sectigo', 'reading', 'image-upload', 'checker', 'le', 'aseprite', 'registry', 'bottom', 'inspiron', '56.0.2', ' captcha', 'basics', 'third-party-software', 'player', 'firefoxcompatability', 'ultimate', 'flickersdata', '63.0.03', 'certified', 'programme', ' hardware', 'awful', 'moziila', 'others', 'handlers', 'yahoomailcrash', 'firefox-70', 'white', 'works-in-internet-explorer', 'secure-connection-failed', 'pane', 'http://www.aatw.com/tv/clubland/', 'fake', 'installement', 'version73.0', 'sizes', 'ffdeveloper', 'light-mode', ' scroll', 'lately', '18.04', 'events', 'warming', 'firefox65.0.2', 'swipe', 'duplicating', 'showtierupgrade', 'google.it', 'long', 'spell-check', 'addon', 'decoration', 'keybind', 'dell', 'only-works-in-private-browsing', 'reader-version', 'lack', 'mac-os-10.6.8', 'deselect', 'xfinity-email', 'speaks', 'detail', 'ugraded', 'credentials', 'part', 'cables', 'privacidade', 'prefereces', 're-directed', 'merged', 'office', 'appearing', 'label', 'analytics', 'installed', 'webmail', 'version68.0.2', 'spinning', 'people', 'duplicate', 'userChrome', 'unresponsive', 'finances', 'buffering', 'dl', 'gp', 'stripping', 'javascriptfirefox', 'laptop', 'distort', 'ad-blocker', 'stretches', 'delimited', 'Recover', 'linux18', 'source', '13.1', 'reCAPTCHA-not-working', 'upate', 'ff63', 'startpage', 'comma', 'linksnotsecure', 'quantom', 'useless', 'math', 'costumer', 'migrate', 'profile', 'firefox63', 'ccleaner', 'bookmarks-toolbar', 'permanente.org', ' wikimedia', 'redownload', ' notification', 'upper', 'unplugged', 'stories', 'screensaver', 'upgraded', 'probabaly-not-a-firefox-problem', 'twinui', 'autorefresh', 'background', 'design', 'quantum?', 'apple', 'whitepages.com', 'Flash', 'fileerror', 'webcam-compatability', 'css3', 'f11', 'raksmeysan', 'deletes', 'lost-history', 'feature request', 'gui-bug', 'beep', '70', 'fontawesome', 'toolstip', 'automaticelly', 'how-to-use-firefox', 'gigabytes', 'firefox72.0', 'erase', 'crashreport', 'right', 'Star-icon', 'sudden', ' javascript', 'ff62', 'medium', 'maverick', 'localhost', 'windows-dialog', 'securitykey', 'new-feature', '32bit', 'stopped-working', 'mozillafirefox', 'notfound', 'cpu/ram', 'keeps', 'unusable', 'raw', '63', 'mbps', 'blackboard', 'compurer', 'Firefox', 'ms', 'migrate\\n', '67', 'comparability', 'plans', 'minimized', 'html', 'theres', 'functioning', 'hijacking', 'platforms', 'gmail-icons', 'density', 'ftp', 'contact', 'encryption-algorithm', ' performance', '10.6.8', ' web', 'unknown-application', 'heavy', 'docking', 'first-launch', 'shift', 'landscape', 'code:', 'edited', 'seedr.cc', 'messagepopup', 'mixed', 'ctrl+t', 'Windows', 'hosting', 'vision', 'lags', 'bundled', 'functions', 'edge', 'imac', 'mac-os-10.12', 'fence', 'mail.net.sa', 'differently', 'fslogix', 'redirecting', 'crashreporter', 'detecting', 'devtools', 'lines', 'views', 'pixiv.net', 'pcversion', 'ubuntu19', 'open-ftp', 'devicesync', 'imdb', 'syncing', 'which', 'Whats-new-button', 'rightmouse', 'rhs', 'analytic', '100%', 'logout', 'touch-screen', 'already', 'unusuable', 'watching', 'cant-remove', 'symbol', 'outlook', 'game', 'steps.', 'spacebar', 'corrupt', 'new-profile', 'https://www.imdb.com/title/tt4575576', 'shared', 'site', 'xending', 'continue', 'look-alike', 'tooltip', 'york', '1.22.4', 'choice', 'transfer-passwords-between-macines', 'login', 'onlyawindow', 'fonts', 'intermittent', 'notresponding', 'photographs', 'bluelines', 'generation', ' Xfinity', 'ticketfailure', 'LeechBlock', 'rejected', '68.2.0', 'margin', 'iphone', 'replacement', ' search hijacking', 'Lockwise', 'accessing\"', 'crashed', 'eliminated', 'ie11', 'lm19.22ff', '256-bit', 'difficulty', 'filename', \"won't\", 'rearrange', 'safety', 'ruassian', 'details', 'fingerprinted', 'restart', 'shotcut', 'infect', 'graphic', 'v73', 'new window', 'loading-sites-slowly', 'reconnect', 'yellow', 'slower', 'urlbar', '\"le', 'begin', 'eliminate', 'emc', 'mix', 'blue)', 'www.windowsxlive.net', 'printerest', 'accesible', 'monthly', 'screengrabi', 'displaying', 'pull', 'error:0xc06d007e', 'multiple-password-suggetions-from-subdomains', 'browsers', 'pass', 'xero', 'resolved', 'community', 'jira', 'dissappear', 'error', 'accessibility', 'dashboard', 'newest', 'www.tiscali.it.', 'panel', ' print', 'web-page\\n', 'equal', 'interaction', 'megamillions', 'a11y', 'cursor', 'Refresh-button', 'press', 'firefox69.0', 'elcapitain', 'equivalent', 'don´t', 'wikipedia', ' broder', 'Mac-10.14.6', 'database', 'emails', 'creation', 'popping', 'tenant', 'cannot-download-files', 'attachedimage', 'unwanted', 'phone', 'paypal', 'mac-os-10.15', 'upload', 'report', 'read.policies(etc)', 'ksod', 'disable-flash-when-inactive', 'wheel', 'scrollbar', 'clicking', 'keypair', 'ui-design', 'miaapelled', 'utility', 'configuração', 'gmail-sluggish', 'gestures', 'preventing', 'subscriber', 'videos', 'uninstalling', 'minutes', 'verification', 'drivers', 'ads', 'parameters', 'authy', 'commands', 'xp', '66.0', 'unaccessable', 'successful', 'max', 'resizing', 'off', 'click\"', 'key', 'json', 'dates', 'very-slowly', 'false', 'edinborough', 'onetouch', 'detailed', 'icloud', 'chose', 'siteloads', 'www', 'nokey', 'assign', 'devicecontrolbox', 'aminito', 'deleted-history', '320p', 'screengrab', 'circle-logo', 'version72.01', 'sounds', 'javascript.enable', 'ip', 'auto-filler', 'movement', 'imported', 'screens', 'diamond', 'revertback', 'exportation', 'reopen', 'mouse', 'forgot', 'photo', 'characters', 'nokia', 'routers', 'installations', 'autosuggestion', 'visual-error', 'something', 'disagree', 'matching', 'msword', 'ditty', 'aws', 'bookmark-descriptions', 'auot-dated', 'non-loading', 'many-sites', ' Windows 7', 'fiddling', 'cant-sync', 'id-check', 'configuraions', ' cert', 'compatible', ' recently bookmarked', 'corrupted', 'offset', 'strings', 'mirror', 'windows 7', 'emoticons', 'Page-corrupt', 'editbookmark', 'de', 'mac-catalina', 'directed', 'backups', 'non-spam', 'install?', 'abnormalshutdown', 'rerouting', 'primary-email', 'cannot', 'edmunds', 'cost', 'bitcoin', ' readermode', 'one-profile', 'protocolx', 'requests', 'certificates', 'hides', 'adware', 'dozen', 'sessionstore-backups', 'old-email', 'remote', 'spots', 'cannot-write-bookmarks', 'adjust', 'breaking', 'double-post', 'trap', 'auto', 'Content-blocking', 'twice', 'CSS', 'prime', 'selecion', ' system', 'autofilling', 'online-pharmacy', 'blocklist', 'deceptivecontent', \"isn't\", 'tv', 'about-config', 'modal', 'webextension', ' quicklaunch', \"bookmark's\", 'adblock', 'place', ' graphics', 'search-token', 'ability', 'broke', 'pl', ' speed', 'city', 'website-access', 'conference', 'rhspanels', 'normal', 'acpkcs211.dll', 'stalls', 'pb', 're-open', 'Clipper', '60.5.0esr', 'doesnt-sync-pinned-tabs', 'nanocloud.com', 'aon.com', 'mail', 'Firefox-Extension', 'geek', 'short-cut', 'chrome?', 'third-party-apps', 'present', 'university', 'FlashPlaye', 'profiles', 'ssl_error_rx_malformed_server_hello', 'preinstalled', 'cached-location', 'dashlane', 'firefoxupdated', 'tab?', 'bp-f945571e-799b-446f-9e4f-cc00a0200121', 'installer', 'periferals', 'breaks', 'ookla', 'get-rid', 'repulsive-to-women', 'linuxmint18.3', 'Hacking', 's-id-check', 'deep', 'investments', 'oldversion', 'refreshin', 'osx-catalina', 'receive', 'shockwave', 'sound', 'option', 'UI', 'also', 'attachment', 'expires', 'firefoxerror', 'cypher', ' shortcut', 'firefoz', 'next.js', 'silences', 'non-issue', 'two', 'input', 'leftover', 'android', 'remenber', 'encoding', 'render', 'order', 'cause', '\"show', 'unmovable', 'as...', 'accounts-hacked', 'ux', 'jsf', 'kpre57', 'typed', 'questionmark', 'canadian', 'docs', 'applets', 'mabook', 'unabletoaccess', 'chip', 'probably-not-a-firefox-problem\\n', 'unused', 'version73', 'reloading', 'formatting', 'risky', 'sync-password', 'chrome.', 'youtubeseemold', 'synchronizing', ' suggestions', 'Third-party-app', 'size', 'learn', 'not-detecting-trackers', 'deemed', '62.0.3', 'open-new-tab', 'tablwt', ' laptop', 'firebox', 'face', 'cards', 'appstream', 'accepted', '8th', 'msnbc', 'printer-compatability', 'hear', 'close', ' file system', 'Privacy-permission', 'remote.autostart', 'auto-fill', '10.7.5', 'possum', 'keystrokes', 'rainbow', 'access', 'firefox-beta', 'Volume', 'Tabs-width', 'destination', 'hdd', 'mode', 'application', 'virtual', 'adaware-search', 'v71.0', 'lefthand', 'suppliers', 'wrongly', 'next', \"on's\", 'template', 'behavior', 'high-cpu', 'response', 'screen', 'emptied', 'mon1', 'frame', 'excluding', 'configure', 'nvidia', 'fix', 'enabled', 'widevine', 'forumcommunity', 'osx-10.10', 'homepage-hijacking', 'datacloud', 'leftclick', 'attached', 'codehs', 'party', 'usb', 'letters', 'permission', 'operation', 'non', 'file-folder', 'flash', 'addkeyboardsupport', 'jqurey', 'closes', 'fatdo64', 'restricted', 'authetication', 'IBM-Aspera-Connect', '7-zip', ' devices', 'teamviewer', 'external-link', 'blocking-content', 'area', 'app\\n', 'dyslexic', 'royal', 'activating', 'full-screen', 'delelop', 'cart', 'shortsighted', 'russian', 'Debian-10', 'duplicate-tabs', 'beginner', 'dumped', 'Suspension-mode', 'passport', 'recognized', 'title-bar-not-displaying-text', 'homedepot', 'browning', 'interactive', 'authenticity', 'embed', 'lucky', 'warnings', 'breaking-keyboard', 'right-click-new-tab', 'full', 'duplicates', 'slash', 'location.', 'evernote', 'scroll-buttons', 'pop-ups', 'fill', 'f4', 'rmm', 'sliderbar', 'two-pdfs', 'suggestions', 'ff69', 'ff65', 'maximize', ' webcompatibility', 'gositedeal', 'bookmarks-duplicate', 'catalina', 'insert', 'delete', 'PDF-viewer', 'mice', 'widevinecdm', 'http://www.aatw.com/tv/clubland/the', 'gadget', 'portal?', 'read-locked', 'card', 'trust', 'ddos', ' printing', '63.0', \"it's\", 'mouse-wheel', 'amiunique.com', 'refreshed', 'thread', 'troubleshooting-details-missing', 'flaw', 'thinkpad', 'alternatesolutions', 'rebooted', 'server-side', 'youtube-redirect', 'Mac-Catalina-10.15.1', 'limitless', 'i-icon', 'results', 'languages', 'attachments', 'saved-logins', 'Add-on', 'entryfglrx', 'refuses', 'filesize', 'deleted-accounts-visible', 'search-in-page', 'errors', 'abnormal', 'audio-issue', 'usage', 'back', 'log-in', 'visit', 'pickupdate', 'toolbars', 'fips', 'notplaying', 'paragraph', 'releases', \"'thinner'\", 'region', 'deceptive', 'news', 'excess', 'footer', 'across-devices', 'pingpong', 'failing', 'thumbnail', 'redirects', '2/3', 'reinstalled', '\"a', 'terabytes', 'revising', 'organizing', 'amtrak.com', 'doesnt-start', 'signature', 'conserve', 'large', 'dvr', 'frefox', 'abort', 'macosmojave', 'mac-Mavericks-10.9.5', 'ctts', 'section', 'notopening', 'workpc', 'window-size', 'self-inflicted', 'extends', 'preferances', '3.9', 'Kubuntu', 'bugs', 'flickering', 'openfiledialog', 'leave', '=g', 'retrieved', 'cant', 'vudu', 'webdata', 'acct', 'tag', 'auto-scroll', 'processor', 'inaccessible', 'seem', ' webgl', 'buttons', ' upgrade', 'glitching', 'dom2-', 'set', 'sim', 'rant', 'firefox-70.0', 'disability.gov', ' color', 'privatemode', 'firefox71.0', 'task-manager', 'within', 'instgram', 'timezone', 'sccm', 'registration', 'authenticate', ' adobe flash', ' profile', 'wascl', 'macOS-71.0', '60.7.0esr', 'anime', 'top-sites', 'authenticator', 'sale', 'sent', 'all.', 'half', 'linkerror', 'grid-like', 'translation', 'gmail.com', 'personal', 'firefox-68.0', 'monitors', 'open/notopen', 'normalmode', 'sending', 'add-in', 'safari/chrome/brave-work', 'cors', 'fishing', 'bundledsearch', 'incompletely', 'thumbnails', 'internet-connection', 'aol.com', 'instagram', 'pop', 'firefox64bit', '52.2', 'autofilled', 'geoip', 'visiblity', 'Reset', 'green', 'works-in-ie', 'storing', 'newversion', 'team', 'commends', ' web store', 'domain', 'intermittently', 'nsfw', 'create', 'forwarding', 'external', 'percha', 'protect', 'logo-broken', 'form-fill', 'filter', 'captive-portal', 'jre', 'sassieshop', '18.3', 'updatae', 'new-window-size', 'colored', 'earthlink-email', '65.01', 'older-icon', 'copy', 'disable-dns', 'gnome', 'mediaplayer', 'themes', ' windows 10', 'latvian', 'uppercase', '(add', 'hyperlink', 'downloader', 'rectangle', 'live-', 'windows-7', '72.01', 'bookmarks-dataloss', 'backwards', 'plug', '(63.x)', 'reduce', 'individualicons', 'logitech', 'text', 'induce', 'profilemanagwr', '71.0', 'old-about-config', 'time.', 'manage', 'spelling', 'titlebar', 'inadvertently', 'clutter', 'origin', 'esc-opens-firefox', 'ssl_error_internal_error_alert', 'kissanime.ac', 'linux', 'coruption', 'checkboxes', 'policies', 'monitoring', 'mbp', '60.8.0esr', 'centre', 'bookmark)', '0xc06d007e', 'customization', 'extended-display', 'reboot', ' private browsing', 'nested', 'selected', 'latest', 'deleted-all-data', '70.0.1', 'notification', 'Certificate-non-trusted', 'allow_zooming', 'runs', 'winning', 'tracker', 'twich', 'london', 'v70', 'mistakes', 'unformated', 'self-signed-certificates', 'security.', ' design', 'best', 'dotted', 'machines', 'fx72', ' search default', 'Data-lost', 'unsupported-customization', '\"one', 'unstyled', 'bad', 'win7pro', 'ne', 'near', 'w3x', 'carving', 'search-engine-hijacking', 'formats', 'windows-10-1903', 'edit-toolbar', 'much', 'dangerous', 'capitalone', 'position', 'wait', 'troubleshoot', 'Disable', 'firefox70', 'executing', 'language', '5.2.0', 'hestiation', 'wildcard', 'spellcheck\\n', 'deprecated', ' trackers', 'lexmark', 'site-specific', 'program?', 'redesign', 'double', '1e100.net', 'quality', 'value', 'dns', ' addons', 'javascriptonlineshopping', 'locked-cookies', 'shooting', 'att', 'stuck', 'crashing', 'manager', 'going', 'availability', 'running', 'england', 'discover', 'options/privacy', 'frezees', 'filled', 'mutesites', 'links-dont-work', 'sheets', 'well', 'programs-changing', 'longer-tabs', 'eps', 'us', 'Ultimate-Social-Media-Icons-Plus', 'utilities', ' display', 'icons', 'stable70.0', 'stick', 'issue.', 'privacy\\n', 'after-upgrade', 'late', 'orange', 'tab-height', 'searh', 'turn', 'plug-ins', 'reply', 'controls', 'defauly', 'bookmarks\\n', 'refresh', 'undo', 'inactive', 'internet-explorer-faster', 'recycle', 'noscript', 'mail.live.com', 'MacOs', 'increase', 'fit', 'xx596d', 'add-ons-updates', 'visual-bug', 'call', 'googleforms', 'laser-printer\\n', 'microsoft', 'quicken', 'visiting', 'management', ' cursor focus', 'store', 'null', 'nopreferences', 'regular', 'shortcuts.', 'paiement', 'voice', 'enterprise', 'detect', 'change-button', '.cssfile', 'pdf', 'resfresh', 'opensuse', 'bookmark-menu-lint', 'customizefunctionality', 'dropping', 'loss', 'darkmode', 'adblockers', 'authorization', 'tried', 'sign-in', 'sort', 'version72', 'okular', 'current/original', 'how-to-recover-profiles', 'cache', 'trying', 'variables', 'attach', ' info', 'turns', 'pen', 'broken', 'nnot', 'wrapped', 'errorcode', 'http', 'technology', 'hompage', 'started', 'windowsxlive', 'firefox-72', 'clickbot', 'about:policiesactive', 'securityerror', 'discard', 'halt', 'mailid', '10n', 'appreciate.', 'location', 'cicso', 'crashes.', 'speedtest', 'libxul.so', 'orders', 'unusual', 'tablet', 'tech', 'bank', 'review', 'chromeless', 'citrix', 'unregistered', 'reactivation', 'youtubetv', 'many', 'tracking-protection', 'howtosetupfirefoxpasswordautofill', 'c:', ' blank', 'download-firefox', 'mars', 'malwarebytes', 'defender', 'line', 'notavailable', 'pref.js', 'usernames', 'question-deleted\\n', 'file://///', 'conflicts', 'login.json', 'New-feature', 'japanese', 'print-out', 'Firewall', 'firefox65.0.1', 'comes', 'importing', 'disappears', 'virgin', 'stuck-in-private-browsing', 'Linux', 'w/', '10.14.3', '1080p', 'java', 'width-tabs', ' title bar', 'main', 'configuring', 'model', 'viasat', 'sescurity-key', 'tsn.ca', 'configuration', 'browsing', 'logins.json', '70.01(32bits)', 'stop-refresh', '68.0.1', ' bookmark', 'refresh-button', 'entry', 'website-data', 'quickly', 'savefrom', 'unaccessible', 'installment', 'split', 'begins', 'toolkit.tabbox.switchbyscrolling', 'language??', ' linux', 'wforwindow', 'mouse-functionality', 'page-load', ' highlight', ' web render', 'recaptcha', 'exclude', 'life', 'similar', 'xps13', 'itrade', ' cert error', 'not-available', 'recently-bookmarked', 'not-a-firefox-problem', 'plain', 'lost', 'drag-and-drop', 'loading-page', 'able', 'gwd', 'remember', 'windows10(1803)', ' emoticons', 'row', 'why', 'version73.0.1', 'firefox-71.0', 'ad-on', 'grammarly', 'information-question', 'Fireforx 70', 'Download', 'direction', 'keyboard-shortcut', 'generator', 'divide', 'properties', 'intel', 'unfixed', 'westernjournal.com', 'homescreen', 'YoutubeHD', 'ray', 'rate', 'exiting', 'https://support.mozilla.org/en-us/questions/1092572', ' UI', 'starts', 'player/banners', 'oops', ' session', '65.0.1', 'fills', 'reset', 'clickable', 'ticket', 'questions', 'delayed', 'logo', 'roll', 'continual', 'recently', 'opinion', 'real', 'printscreen', 'win10', 'solution', '8.1', 'expiry', 'win102', 'separators', 'add', 'lass', 'ideas', 'Lost-data', ' Moz Backup', 'seen', ' firefox desktop', 'cleaned', 'typography', 'Firefox-69', 'quando', 'resolution', 'usually', 'loads', 'properly:', 'works-on-mac', 'geforce', 'accountsync', 'new-window', 'previous', ' awesomebar', 'enable', 'tatoo', 'deleted-accounts', 'extenstions', 'jpeg', 'finish', 'noissue', 'x64', 'checked', 'harm', 'released', 'chooses'}\n",
      "{'beta', 'print', 'account', 'copy', 'bank', 'upload', 'permission', 'safari', 'load', 'certificate', 'speed', 'mac', 'sign', 'play', 'flash', 'username', 'memory', 'blank', 'explorer', 'export', 'save', 'block', 'printer', 'audio', 'zoom', 'home', 'bing', 'sidebar', 'youtube', 'image', 'scroll', 'microsoft', 'theme', 'ubuntu', 'player', 'mail', 'paste', 'network', 'profile', 'restart', 'search', 'connect', 'startup', 'reset', 'button', 'bookmark', 'toolbar', 'password', 'script', 'google', 'dialog', 'dropdown', 'content', 'security', 'restore', 'form', 'file', 'pdf', 'open', 'crash', 'background', 'yahoo', 'exception', 'downgrade', 'log', 'java', 'window', 'history', 'login', 'drag', 'virus', 'setup', 'navigation', 'ebay', 'import', 'upgrade', 'reboot', 'cache', 'sound', 'email', 'default', 'attachment', 'reinstall', 'freeze', 'error', 'javascript', 'install', 'cookie', 'uninstall', 'send', 'icon', 'proxy', 'private', 'plugin', 'library', 'website', 'disable', 'tab', 'connection', 'reload', 'outlook', 'aol', 'download', 'enable', 'mouse', 'gmail', 'sync', 'font', 'launch', 'slow', 'format', 'frame', 'keyboard', 'session', 'facebook', 'recover', 'redirect', 'norton', 'reader', 'shortcut', 'display', 'popup', 'video', 'refresh', 'update', 'homepage', 'adobe'}\n",
      "set()\n"
     ]
    }
   ],
   "source": [
    "tag_set = set(candidate_tags)\n",
    "all_set = set()\n",
    "\n",
    "for ticket in ticket_dict.values():\n",
    "    for tagger, tags in ticket[\"tags\"].items():\n",
    "        if tagger != \"0\":\n",
    "            for tag in tags:\n",
    "                all_set.add(tag)\n",
    "\n",
    "print(all_set)\n",
    "print(tag_set)\n",
    "print(tag_set - all_set)"
   ]
  },
  {
   "cell_type": "code",
   "execution_count": null,
   "metadata": {},
   "outputs": [],
   "source": []
  }
 ],
 "metadata": {
  "kernelspec": {
   "display_name": "Python 3",
   "language": "python",
   "name": "python3"
  },
  "language_info": {
   "codemirror_mode": {
    "name": "ipython",
    "version": 3
   },
   "file_extension": ".py",
   "mimetype": "text/x-python",
   "name": "python",
   "nbconvert_exporter": "python",
   "pygments_lexer": "ipython3",
   "version": "3.7.6"
  }
 },
 "nbformat": 4,
 "nbformat_minor": 4
}
