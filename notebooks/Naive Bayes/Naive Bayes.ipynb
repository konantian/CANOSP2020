{
 "cells": [
  {
   "cell_type": "code",
   "execution_count": 1,
   "metadata": {},
   "outputs": [
    {
     "name": "stderr",
     "output_type": "stream",
     "text": [
      "[nltk_data] Downloading package stopwords to\n",
      "[nltk_data]     /usr/local/share/nltk_data...\n",
      "[nltk_data]   Package stopwords is already up-to-date!\n"
     ]
    }
   ],
   "source": [
    "import re\n",
    "import json\n",
    "import nltk\n",
    "import pandas as pd\n",
    "from collections import Counter\n",
    "from nltk.stem.snowball import SnowballStemmer\n",
    "nltk.download('stopwords')\n",
    "from nltk.corpus import stopwords"
   ]
  },
  {
   "cell_type": "markdown",
   "metadata": {},
   "source": [
    "### Loading Data"
   ]
  },
  {
   "cell_type": "code",
   "execution_count": 2,
   "metadata": {},
   "outputs": [],
   "source": [
    "with open('ticket_data.json','r') as json_file:\n",
    "    allTickets = json.load(json_file)[:4000]"
   ]
  },
  {
   "cell_type": "code",
   "execution_count": 3,
   "metadata": {},
   "outputs": [],
   "source": [
    "# Get all the tags from all the tickets\n",
    "allTags = []\n",
    "for ticket in allTickets:\n",
    "  tags = ticket['tags']\n",
    "  for index in tags:\n",
    "    for tag in tags[index]:\n",
    "      allTags.append(tag)\n",
    "    \n",
    "cleanTags = []\n",
    "for tag in allTags:\n",
    "    if 'firefox' not in tag and 'windows' not in tag and 'mac' not in tag and 'linux' not in tag:\n",
    "        cleanTags.append(tag)\n",
    "# Get the frequency of each tag\n",
    "tag_fre = Counter(cleanTags)\n",
    "\n",
    "# We select most common 50 tags to train the model\n",
    "df_tags = [stat[0] for stat in tag_fre.most_common(20)]"
   ]
  },
  {
   "cell_type": "code",
   "execution_count": 4,
   "metadata": {},
   "outputs": [],
   "source": [
    "# build the inital dataframe\n",
    "ticket_ids = [ticket['ticket_id'] for ticket in allTickets]\n",
    "contents = [ticket['content'] for ticket in allTickets]\n",
    "titles = [ticket['title'] for ticket in allTickets]\n",
    "data = pd.DataFrame(data = ticket_ids, columns=['Ticket ID'])\n",
    "data['content'] = contents\n",
    "data['title'] = titles"
   ]
  },
  {
   "cell_type": "code",
   "execution_count": 5,
   "metadata": {},
   "outputs": [],
   "source": [
    "# determine if a single ticket has specific tag\n",
    "def if_label(ticket,label):\n",
    "  temp_tags = []\n",
    "  tags = ticket['tags']\n",
    "  for index in tags:\n",
    "    temp_tags.extend(tags[index])\n",
    "  return 1 if label in temp_tags else 0"
   ]
  },
  {
   "cell_type": "code",
   "execution_count": 6,
   "metadata": {},
   "outputs": [],
   "source": [
    "# extend the dataframe\n",
    "for label in df_tags:\n",
    "  temp = [if_label(ticket,label) for ticket in allTickets]\n",
    "  data[label] = temp"
   ]
  },
  {
   "cell_type": "markdown",
   "metadata": {},
   "source": [
    "### Data cleaning"
   ]
  },
  {
   "cell_type": "code",
   "execution_count": 7,
   "metadata": {},
   "outputs": [],
   "source": [
    "def cleanHtml(sentence):\n",
    "    cleanr = re.compile('<.*?>')\n",
    "    cleantext = re.sub(cleanr, ' ', str(sentence))\n",
    "    return cleantext\n",
    "\n",
    "\n",
    "def cleanPunc(sentence): #function to clean the word of any punctuation or special characters\n",
    "    cleaned = re.sub(r'[?|!|\\'|\"|#]',r'',sentence)\n",
    "    cleaned = re.sub(r'[.|,|)|(|\\|/]',r' ',cleaned)\n",
    "    cleaned = cleaned.strip()\n",
    "    cleaned = cleaned.replace(\"\\n\",\" \")\n",
    "    return cleaned\n",
    "\n",
    "\n",
    "def keepAlpha(sentence):\n",
    "    alpha_sent = \"\"\n",
    "    for word in sentence.split():\n",
    "        alpha_word = re.sub('[^a-z A-Z]+', ' ', word)\n",
    "        alpha_sent += alpha_word\n",
    "        alpha_sent += \" \"\n",
    "    alpha_sent = alpha_sent.strip()\n",
    "    return alpha_sent"
   ]
  },
  {
   "cell_type": "code",
   "execution_count": 8,
   "metadata": {},
   "outputs": [],
   "source": [
    "data['content'] = data['content'].str.lower()\n",
    "data['content'] = data['content'].apply(cleanHtml)\n",
    "data['content'] = data['content'].apply(cleanPunc)\n",
    "data['content'] = data['content'].apply(keepAlpha)"
   ]
  },
  {
   "cell_type": "code",
   "execution_count": 9,
   "metadata": {},
   "outputs": [],
   "source": [
    "stop_words = stopwords.words('english')\n",
    "contents = []\n",
    "for content in data.content:\n",
    "  temp = []\n",
    "  for word in content.strip().split():\n",
    "    if word not in stop_words:\n",
    "      temp.append(word)\n",
    "  contents.append(\" \".join(temp))\n",
    "data.content = contents"
   ]
  },
  {
   "cell_type": "code",
   "execution_count": 10,
   "metadata": {},
   "outputs": [
    {
     "data": {
      "text/html": [
       "<div>\n",
       "<style scoped>\n",
       "    .dataframe tbody tr th:only-of-type {\n",
       "        vertical-align: middle;\n",
       "    }\n",
       "\n",
       "    .dataframe tbody tr th {\n",
       "        vertical-align: top;\n",
       "    }\n",
       "\n",
       "    .dataframe thead th {\n",
       "        text-align: right;\n",
       "    }\n",
       "</style>\n",
       "<table border=\"1\" class=\"dataframe\">\n",
       "  <thead>\n",
       "    <tr style=\"text-align: right;\">\n",
       "      <th></th>\n",
       "      <th>Ticket ID</th>\n",
       "      <th>content</th>\n",
       "      <th>title</th>\n",
       "      <th>desktop</th>\n",
       "      <th>other</th>\n",
       "      <th>websites</th>\n",
       "      <th>features</th>\n",
       "      <th>data</th>\n",
       "      <th>crash</th>\n",
       "      <th>addon</th>\n",
       "      <th>...</th>\n",
       "      <th>sync</th>\n",
       "      <th>privacy-and-security_1</th>\n",
       "      <th>escalate</th>\n",
       "      <th>download-and-install_1</th>\n",
       "      <th>bookmarks</th>\n",
       "      <th>tabs</th>\n",
       "      <th>needsinfo</th>\n",
       "      <th>android</th>\n",
       "      <th>tips</th>\n",
       "      <th>mobile</th>\n",
       "    </tr>\n",
       "  </thead>\n",
       "  <tbody>\n",
       "    <tr>\n",
       "      <th>0</th>\n",
       "      <td>1277553</td>\n",
       "      <td>os else recently firefox keeps going back prev...</td>\n",
       "      <td>firefox keeps going back to previous page rand...</td>\n",
       "      <td>1</td>\n",
       "      <td>0</td>\n",
       "      <td>0</td>\n",
       "      <td>0</td>\n",
       "      <td>0</td>\n",
       "      <td>0</td>\n",
       "      <td>0</td>\n",
       "      <td>...</td>\n",
       "      <td>0</td>\n",
       "      <td>0</td>\n",
       "      <td>0</td>\n",
       "      <td>0</td>\n",
       "      <td>0</td>\n",
       "      <td>0</td>\n",
       "      <td>0</td>\n",
       "      <td>0</td>\n",
       "      <td>0</td>\n",
       "      <td>0</td>\n",
       "    </tr>\n",
       "    <tr>\n",
       "      <th>1</th>\n",
       "      <td>1277548</td>\n",
       "      <td>ho turn fucking safe search fucking computer t...</td>\n",
       "      <td>How do I turn off Safesearch?</td>\n",
       "      <td>1</td>\n",
       "      <td>0</td>\n",
       "      <td>0</td>\n",
       "      <td>0</td>\n",
       "      <td>0</td>\n",
       "      <td>0</td>\n",
       "      <td>0</td>\n",
       "      <td>...</td>\n",
       "      <td>0</td>\n",
       "      <td>1</td>\n",
       "      <td>0</td>\n",
       "      <td>0</td>\n",
       "      <td>0</td>\n",
       "      <td>0</td>\n",
       "      <td>0</td>\n",
       "      <td>0</td>\n",
       "      <td>0</td>\n",
       "      <td>0</td>\n",
       "    </tr>\n",
       "    <tr>\n",
       "      <th>2</th>\n",
       "      <td>1277546</td>\n",
       "      <td>experiencing problems running html interaction...</td>\n",
       "      <td>Problem running Adobe Animate CC HTML5 interac...</td>\n",
       "      <td>1</td>\n",
       "      <td>0</td>\n",
       "      <td>0</td>\n",
       "      <td>0</td>\n",
       "      <td>0</td>\n",
       "      <td>0</td>\n",
       "      <td>0</td>\n",
       "      <td>...</td>\n",
       "      <td>0</td>\n",
       "      <td>0</td>\n",
       "      <td>0</td>\n",
       "      <td>0</td>\n",
       "      <td>0</td>\n",
       "      <td>0</td>\n",
       "      <td>0</td>\n",
       "      <td>0</td>\n",
       "      <td>0</td>\n",
       "      <td>0</td>\n",
       "    </tr>\n",
       "    <tr>\n",
       "      <th>3</th>\n",
       "      <td>1277543</td>\n",
       "      <td>im trying get firefox pdf viewer work reason e...</td>\n",
       "      <td>Firefox pdf viewer is not working even when it...</td>\n",
       "      <td>1</td>\n",
       "      <td>0</td>\n",
       "      <td>0</td>\n",
       "      <td>0</td>\n",
       "      <td>0</td>\n",
       "      <td>0</td>\n",
       "      <td>0</td>\n",
       "      <td>...</td>\n",
       "      <td>0</td>\n",
       "      <td>0</td>\n",
       "      <td>0</td>\n",
       "      <td>0</td>\n",
       "      <td>0</td>\n",
       "      <td>0</td>\n",
       "      <td>0</td>\n",
       "      <td>0</td>\n",
       "      <td>0</td>\n",
       "      <td>0</td>\n",
       "    </tr>\n",
       "    <tr>\n",
       "      <th>4</th>\n",
       "      <td>1277540</td>\n",
       "      <td>im trying sync firefox account everytime appea...</td>\n",
       "      <td>Sorry. We’ve locked your account.</td>\n",
       "      <td>1</td>\n",
       "      <td>0</td>\n",
       "      <td>0</td>\n",
       "      <td>0</td>\n",
       "      <td>0</td>\n",
       "      <td>0</td>\n",
       "      <td>0</td>\n",
       "      <td>...</td>\n",
       "      <td>1</td>\n",
       "      <td>0</td>\n",
       "      <td>0</td>\n",
       "      <td>0</td>\n",
       "      <td>0</td>\n",
       "      <td>0</td>\n",
       "      <td>0</td>\n",
       "      <td>0</td>\n",
       "      <td>0</td>\n",
       "      <td>0</td>\n",
       "    </tr>\n",
       "  </tbody>\n",
       "</table>\n",
       "<p>5 rows × 23 columns</p>\n",
       "</div>"
      ],
      "text/plain": [
       "   Ticket ID                                            content  \\\n",
       "0    1277553  os else recently firefox keeps going back prev...   \n",
       "1    1277548  ho turn fucking safe search fucking computer t...   \n",
       "2    1277546  experiencing problems running html interaction...   \n",
       "3    1277543  im trying get firefox pdf viewer work reason e...   \n",
       "4    1277540  im trying sync firefox account everytime appea...   \n",
       "\n",
       "                                               title  desktop  other  \\\n",
       "0  firefox keeps going back to previous page rand...        1      0   \n",
       "1                      How do I turn off Safesearch?        1      0   \n",
       "2  Problem running Adobe Animate CC HTML5 interac...        1      0   \n",
       "3  Firefox pdf viewer is not working even when it...        1      0   \n",
       "4                  Sorry. We’ve locked your account.        1      0   \n",
       "\n",
       "   websites  features  data  crash  addon  ...  sync  privacy-and-security_1  \\\n",
       "0         0         0     0      0      0  ...     0                       0   \n",
       "1         0         0     0      0      0  ...     0                       1   \n",
       "2         0         0     0      0      0  ...     0                       0   \n",
       "3         0         0     0      0      0  ...     0                       0   \n",
       "4         0         0     0      0      0  ...     1                       0   \n",
       "\n",
       "   escalate  download-and-install_1  bookmarks  tabs  needsinfo  android  \\\n",
       "0         0                       0          0     0          0        0   \n",
       "1         0                       0          0     0          0        0   \n",
       "2         0                       0          0     0          0        0   \n",
       "3         0                       0          0     0          0        0   \n",
       "4         0                       0          0     0          0        0   \n",
       "\n",
       "   tips  mobile  \n",
       "0     0       0  \n",
       "1     0       0  \n",
       "2     0       0  \n",
       "3     0       0  \n",
       "4     0       0  \n",
       "\n",
       "[5 rows x 23 columns]"
      ]
     },
     "execution_count": 10,
     "metadata": {},
     "output_type": "execute_result"
    }
   ],
   "source": [
    "data.head()"
   ]
  },
  {
   "cell_type": "markdown",
   "metadata": {},
   "source": [
    "### Training and predict"
   ]
  },
  {
   "cell_type": "code",
   "execution_count": 11,
   "metadata": {},
   "outputs": [
    {
     "name": "stdout",
     "output_type": "stream",
     "text": [
      "(2800, 23)\n",
      "(1200, 23)\n"
     ]
    }
   ],
   "source": [
    "# split the dataset to train and test part\n",
    "from sklearn.model_selection import train_test_split\n",
    "\n",
    "train, test = train_test_split(data, random_state=42, test_size=0.30, shuffle=True)\n",
    "\n",
    "print(train.shape)\n",
    "print(test.shape)\n",
    "train_text = train['content']\n",
    "test_text = test['content']"
   ]
  },
  {
   "cell_type": "code",
   "execution_count": 12,
   "metadata": {},
   "outputs": [],
   "source": [
    "# convert all the text to vector\n",
    "from sklearn.feature_extraction.text import TfidfVectorizer\n",
    "vectorizer = TfidfVectorizer(strip_accents='unicode', analyzer='word', ngram_range=(1,3), norm='l2')\n",
    "vectorizer.fit(train_text)\n",
    "vectorizer.fit(test_text)\n",
    "x_train = vectorizer.transform(train_text)\n",
    "y_train = train.drop(labels = ['Ticket ID','content','title'], axis=1)\n",
    "\n",
    "x_test = vectorizer.transform(test_text)\n",
    "y_test = test.drop(labels = ['Ticket ID','content','title'], axis=1)"
   ]
  },
  {
   "cell_type": "markdown",
   "metadata": {},
   "source": [
    "### Problem transofrm"
   ]
  },
  {
   "cell_type": "code",
   "execution_count": 13,
   "metadata": {},
   "outputs": [
    {
     "name": "stdout",
     "output_type": "stream",
     "text": [
      "Processing desktop tags...\n",
      "Test accuracy is 0.9991666666666666\n",
      "\n",
      "Processing other tags...\n",
      "Test accuracy is 0.6091666666666666\n",
      "\n",
      "Processing websites tags...\n",
      "Test accuracy is 0.8466666666666667\n",
      "\n",
      "Processing features tags...\n",
      "Test accuracy is 0.8716666666666667\n",
      "\n",
      "Processing data tags...\n",
      "Test accuracy is 0.9008333333333334\n",
      "\n",
      "Processing crash tags...\n",
      "Test accuracy is 0.9291666666666667\n",
      "\n",
      "Processing addon tags...\n",
      "Test accuracy is 0.9258333333333333\n",
      "\n",
      "Processing fix-problems tags...\n",
      "Test accuracy is 0.9725\n",
      "\n",
      "Processing beta tags...\n",
      "Test accuracy is 0.9783333333333334\n",
      "\n",
      "Processing customize tags...\n",
      "Test accuracy is 0.9833333333333333\n",
      "\n",
      "Processing sync tags...\n",
      "Test accuracy is 0.9866666666666667\n",
      "\n",
      "Processing privacy-and-security_1 tags...\n",
      "Test accuracy is 0.995\n",
      "\n",
      "Processing escalate tags...\n",
      "Test accuracy is 0.9966666666666667\n",
      "\n",
      "Processing download-and-install_1 tags...\n",
      "Test accuracy is 0.9958333333333333\n",
      "\n",
      "Processing bookmarks tags...\n",
      "Test accuracy is 0.9958333333333333\n",
      "\n",
      "Processing tabs tags...\n",
      "Test accuracy is 0.9966666666666667\n",
      "\n",
      "Processing needsinfo tags...\n",
      "Test accuracy is 0.9958333333333333\n",
      "\n",
      "Processing android tags...\n",
      "Test accuracy is 0.9983333333333333\n",
      "\n",
      "Processing tips tags...\n",
      "Test accuracy is 0.9991666666666666\n",
      "\n",
      "Processing mobile tags...\n",
      "Test accuracy is 0.9991666666666666\n",
      "\n",
      "CPU times: user 261 ms, sys: 186 ms, total: 446 ms\n",
      "Wall time: 6.53 s\n"
     ]
    }
   ],
   "source": [
    "%%time\n",
    "# train the model with one vs rest classifier and logistic regression model\n",
    "from sklearn.linear_model import LogisticRegression\n",
    "from sklearn.pipeline import Pipeline\n",
    "from sklearn.metrics import accuracy_score\n",
    "from sklearn.multiclass import OneVsRestClassifier\n",
    "LogReg_pipeline = Pipeline([('clf', OneVsRestClassifier(LogisticRegression(solver='sag'), n_jobs=-1)),])\n",
    "for tag in df_tags:\n",
    "    print('Processing {} tags...'.format(tag))\n",
    "    \n",
    "    # Training logistic regression model on train data\n",
    "    LogReg_pipeline.fit(x_train, train[tag])\n",
    "    \n",
    "    # calculating test accuracy\n",
    "    prediction = LogReg_pipeline.predict(x_test)\n",
    "    print('Test accuracy is {}\\n'.format(accuracy_score(test[tag], prediction)))"
   ]
  },
  {
   "cell_type": "code",
   "execution_count": 14,
   "metadata": {},
   "outputs": [
    {
     "name": "stdout",
     "output_type": "stream",
     "text": [
      "Accuracy =  0.4266666666666667\n",
      "CPU times: user 9min 13s, sys: 48 s, total: 10min 1s\n",
      "Wall time: 1min 50s\n"
     ]
    }
   ],
   "source": [
    "%%time\n",
    "from skmultilearn.problem_transform import LabelPowerset\n",
    "# initialize Label Powerset multi-label classifier\n",
    "# with a Logistic Regression classifier\n",
    "classifier = LabelPowerset(LogisticRegression(solver='lbfgs',multi_class='auto'))\n",
    "\n",
    "# train\n",
    "classifier.fit(x_train, y_train)\n",
    "\n",
    "# predict\n",
    "predictions = classifier.predict(x_test)\n",
    "\n",
    "print(\"Accuracy = \",accuracy_score(y_test,predictions))"
   ]
  },
  {
   "cell_type": "code",
   "execution_count": 15,
   "metadata": {},
   "outputs": [
    {
     "name": "stdout",
     "output_type": "stream",
     "text": [
      "Accuracy =  0.175\n",
      "CPU times: user 2min 52s, sys: 1min 8s, total: 4min 1s\n",
      "Wall time: 4min 2s\n"
     ]
    }
   ],
   "source": [
    "%%time\n",
    "# using classifier chains\n",
    "from skmultilearn.problem_transform import ClassifierChain\n",
    "from sklearn.naive_bayes import GaussianNB\n",
    "# initialize classifier chains multi-label classifier\n",
    "classifier = ClassifierChain(GaussianNB())\n",
    "classifier.fit(x_train, y_train)\n",
    "# predict\n",
    "predictions = classifier.predict(x_test)\n",
    "# accuracy\n",
    "print(\"Accuracy = \",accuracy_score(y_test,predictions))"
   ]
  },
  {
   "cell_type": "code",
   "execution_count": 16,
   "metadata": {},
   "outputs": [
    {
     "name": "stdout",
     "output_type": "stream",
     "text": [
      "Accuracy =  0.2625\n",
      "CPU times: user 23min 47s, sys: 3.49 s, total: 23min 50s\n",
      "Wall time: 23min 53s\n"
     ]
    }
   ],
   "source": [
    "%%time\n",
    "from skmultilearn.adapt import MLkNN\n",
    "from scipy.sparse import csr_matrix, lil_matrix\n",
    "\n",
    "# k for 20 tags\n",
    "classifier = MLkNN(k = 20)\n",
    "\n",
    "x_train = lil_matrix(x_train).toarray()\n",
    "y_train = lil_matrix(y_train).toarray()\n",
    "x_test = lil_matrix(x_test).toarray()\n",
    "\n",
    "# train\n",
    "classifier.fit(x_train, y_train)\n",
    "\n",
    "# predict\n",
    "predictions = classifier.predict(x_test)\n",
    "\n",
    "# accuracy\n",
    "print(\"Accuracy = \",accuracy_score(y_test,predictions))"
   ]
  },
  {
   "cell_type": "code",
   "execution_count": 17,
   "metadata": {},
   "outputs": [
    {
     "name": "stdout",
     "output_type": "stream",
     "text": [
      "Accuracy =  0.16583333333333333\n",
      "CPU times: user 1min 23s, sys: 50.4 s, total: 2min 13s\n",
      "Wall time: 2min 14s\n"
     ]
    }
   ],
   "source": [
    "%%time\n",
    "# using binary relevance\n",
    "from skmultilearn.problem_transform import BinaryRelevance\n",
    "# initialize binary relevance multi-label classifier\n",
    "# with a gaussian naive bayes base classifier\n",
    "classifier = BinaryRelevance(GaussianNB())\n",
    "# train\n",
    "classifier.fit(x_train, y_train)\n",
    "# predict\n",
    "predictions = classifier.predict(x_test)\n",
    "# accuracy\n",
    "print(\"Accuracy = \",accuracy_score(y_test,predictions))"
   ]
  },
  {
   "cell_type": "code",
   "execution_count": 18,
   "metadata": {},
   "outputs": [
    {
     "name": "stdout",
     "output_type": "stream",
     "text": [
      "Accuracy =  0.30333333333333334\n",
      "CPU times: user 24.8 s, sys: 556 ms, total: 25.4 s\n",
      "Wall time: 25.5 s\n"
     ]
    }
   ],
   "source": [
    "%%time\n",
    "# using random forest \n",
    "from sklearn.ensemble import RandomForestClassifier\n",
    "classifier = RandomForestClassifier(n_estimators = 20, criterion = 'gini', random_state = 42)\n",
    "\n",
    "# train\n",
    "classifier.fit(x_train, y_train)\n",
    "\n",
    "# predict\n",
    "predictions = classifier.predict(x_test)\n",
    "# accuracy\n",
    "print(\"Accuracy = \",accuracy_score(y_test,predictions))"
   ]
  },
  {
   "cell_type": "code",
   "execution_count": 19,
   "metadata": {},
   "outputs": [
    {
     "name": "stdout",
     "output_type": "stream",
     "text": [
      "Accuracy =  0.4058333333333333\n",
      "CPU times: user 33.2 s, sys: 399 ms, total: 33.6 s\n",
      "Wall time: 33.7 s\n"
     ]
    }
   ],
   "source": [
    "%%time\n",
    "# using decision tree\n",
    "from sklearn.tree import DecisionTreeClassifier\n",
    "\n",
    "classifier = DecisionTreeClassifier(criterion=\"gini\", max_depth = 100)\n",
    "\n",
    "# train\n",
    "classifier.fit(x_train, y_train)\n",
    "\n",
    "# predict\n",
    "predictions = classifier.predict(x_test)\n",
    "# accuracy\n",
    "print(\"Accuracy = \",accuracy_score(y_test,predictions))"
   ]
  },
  {
   "cell_type": "code",
   "execution_count": null,
   "metadata": {},
   "outputs": [],
   "source": []
  }
 ],
 "metadata": {
  "kernelspec": {
   "display_name": "Python 3",
   "language": "python",
   "name": "python3"
  },
  "language_info": {
   "codemirror_mode": {
    "name": "ipython",
    "version": 3
   },
   "file_extension": ".py",
   "mimetype": "text/x-python",
   "name": "python",
   "nbconvert_exporter": "python",
   "pygments_lexer": "ipython3",
   "version": "3.7.5"
  }
 },
 "nbformat": 4,
 "nbformat_minor": 4
}
