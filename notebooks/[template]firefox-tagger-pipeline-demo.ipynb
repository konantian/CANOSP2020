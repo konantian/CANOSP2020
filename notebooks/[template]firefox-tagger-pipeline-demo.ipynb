{
 "cells": [
  {
   "cell_type": "markdown",
   "metadata": {},
   "source": [
    "### Ingest Data\n",
    "Describes the Data ingestions strategy\n",
    "- What subset of the available corpus is used?\n",
    "- What are the criteria defined for measuring performance?\n",
    "- Is filtering on date, version, tags employed?\n",
    "- Size of the data being used in this demo"
   ]
  },
  {
   "cell_type": "code",
   "execution_count": 5,
   "metadata": {},
   "outputs": [
    {
     "data": {
      "text/plain": [
       "'code executing the data ingestions steps'"
      ]
     },
     "execution_count": 5,
     "metadata": {},
     "output_type": "execute_result"
    }
   ],
   "source": [
    "\"\"\"code executing the data ingestions steps\"\"\""
   ]
  },
  {
   "cell_type": "markdown",
   "metadata": {},
   "source": [
    "### Preprocessing and Feature Engineering steps\n",
    "\n",
    "Inlcude the series of data cleaning steps that are included in your workflow\n",
    "\n",
    "- stopword removal strategy\n",
    "- tokenization/stemming strategy\n",
    "- normalization"
   ]
  },
  {
   "cell_type": "code",
   "execution_count": 6,
   "metadata": {
    "scrolled": true
   },
   "outputs": [
    {
     "data": {
      "text/plain": [
       "'code performing data cleaning and data preprocessing tasks'"
      ]
     },
     "execution_count": 6,
     "metadata": {},
     "output_type": "execute_result"
    }
   ],
   "source": [
    "\"\"\"code performing data cleaning and data preprocessing tasks\"\"\""
   ]
  },
  {
   "cell_type": "markdown",
   "metadata": {},
   "source": [
    "### Tag lexicon definition description\n",
    "\n",
    "Define the set of tags that are defined for the task"
   ]
  },
  {
   "cell_type": "code",
   "execution_count": 7,
   "metadata": {},
   "outputs": [
    {
     "data": {
      "text/plain": [
       "'code that performes the tag selection and/or any data manipulation that prefaces the classification/annotation task'"
      ]
     },
     "execution_count": 7,
     "metadata": {},
     "output_type": "execute_result"
    }
   ],
   "source": [
    "\"\"\"code that performes the tag selection and/or any data manipulation that prefaces the classification/annotation task\"\"\""
   ]
  },
  {
   "cell_type": "markdown",
   "metadata": {},
   "source": [
    "### Classifier/Annontator Training step\n",
    "\n",
    "Describe the model and the model training step\n",
    "\n",
    "- Include a description the feature space used\n",
    "- Include a description of the selected classification or annotation model\n",
    "- Describe the training process and expected runtime for training"
   ]
  },
  {
   "cell_type": "code",
   "execution_count": 8,
   "metadata": {},
   "outputs": [
    {
     "data": {
      "text/plain": [
       "'code that executes model training step'"
      ]
     },
     "execution_count": 8,
     "metadata": {},
     "output_type": "execute_result"
    }
   ],
   "source": [
    "\"\"\"code that executes model training step\"\"\""
   ]
  },
  {
   "cell_type": "markdown",
   "metadata": {},
   "source": [
    "### Classifier/Annotator Testing step\n",
    "\n",
    "Describe the testing of the trained model's performace against a defined test set.\n",
    "\n",
    "- Include the raw performance\n",
    "- Include the source of ground truth for the evaluation\n",
    "- Include figures for FP/FN/ROC type metrics describing the model performance."
   ]
  },
  {
   "cell_type": "code",
   "execution_count": 9,
   "metadata": {},
   "outputs": [
    {
     "data": {
      "text/plain": [
       "'code that executes the model testing step'"
      ]
     },
     "execution_count": 9,
     "metadata": {},
     "output_type": "execute_result"
    }
   ],
   "source": [
    "\"\"\"code that executes the model testing step\"\"\""
   ]
  },
  {
   "cell_type": "markdown",
   "metadata": {},
   "source": [
    "### Interpretation\n",
    "Sumamrize the model performance and findings related to specific misclassified items also a breif description of the findings as they correpsonde to generalizability."
   ]
  },
  {
   "cell_type": "code",
   "execution_count": null,
   "metadata": {},
   "outputs": [],
   "source": []
  }
 ],
 "metadata": {
  "kernelspec": {
   "display_name": "Python 3",
   "language": "python",
   "name": "python3"
  },
  "language_info": {
   "codemirror_mode": {
    "name": "ipython",
    "version": 3
   },
   "file_extension": ".py",
   "mimetype": "text/x-python",
   "name": "python",
   "nbconvert_exporter": "python",
   "pygments_lexer": "ipython3",
   "version": "3.7.2"
  }
 },
 "nbformat": 4,
 "nbformat_minor": 2
}
