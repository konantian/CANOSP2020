{
 "cells": [
  {
   "cell_type": "markdown",
   "metadata": {},
   "source": [
    "# Computing CrowdTruth metrics for SUMO ticket annotations\n",
    "\n",
    "This notebook computes CrowdTruth metrics for our SUMO ticket annotations. \n",
    "\n",
    "It is based on `Free Input Task - Person Annotation in Video.ipynb` from the CrowdTruth repo. \n",
    "<br><br><br>\n",
    "**Input**: Ticket annotation JSON containing only annotated tickets\n",
    "\n",
    "**Output**: CrowdTruth quality metrics for workers (taggers), tickets, and tags\n",
    "<br><br><br>\n",
    "Make sure you install from `requirements.txt` before running this notebook\n",
    "\n",
    "`pip install -r requirements.txt`"
   ]
  },
  {
   "cell_type": "code",
   "execution_count": 1,
   "metadata": {},
   "outputs": [
    {
     "name": "stderr",
     "output_type": "stream",
     "text": [
      "[nltk_data] Downloading package stopwords to\n",
      "[nltk_data]     /home/wfenton/nltk_data...\n",
      "[nltk_data]   Package stopwords is already up-to-date!\n",
      "[nltk_data] Downloading package punkt to /home/wfenton/nltk_data...\n",
      "[nltk_data]   Package punkt is already up-to-date!\n",
      "[nltk_data] Downloading package averaged_perceptron_tagger to\n",
      "[nltk_data]     /home/wfenton/nltk_data...\n",
      "[nltk_data]   Package averaged_perceptron_tagger is already up-to-\n",
      "[nltk_data]       date!\n",
      "[nltk_data] Downloading package wordnet to /home/wfenton/nltk_data...\n",
      "[nltk_data]   Package wordnet is already up-to-date!\n"
     ]
    }
   ],
   "source": [
    "import crowdtruth\n",
    "from crowdtruth.configuration import DefaultConfig\n",
    "\n",
    "import nltk\n",
    "nltk.download('stopwords')\n",
    "nltk.download('punkt')\n",
    "nltk.download('averaged_perceptron_tagger')\n",
    "nltk.download('wordnet')\n",
    "from nltk.corpus import stopwords\n",
    "from nltk.stem import WordNetLemmatizer\n",
    "from nltk.corpus import wordnet\n",
    "from autocorrect import spell"
   ]
  },
  {
   "cell_type": "markdown",
   "metadata": {},
   "source": [
    "## Data Preprocessing"
   ]
  },
  {
   "cell_type": "markdown",
   "metadata": {},
   "source": [
    "Take a JSON file containing annotated tickets, convert it to a CSV so that we can import it using pandas"
   ]
  },
  {
   "cell_type": "code",
   "execution_count": 2,
   "metadata": {},
   "outputs": [
    {
     "name": "stdout",
     "output_type": "stream",
     "text": [
      "Taggers: ['1', '2', '3', '4', '5', '6', '7', '8', '9', '0']\n",
      "Finished writing annotations to ../data/crowdtruth_tickets.csv\n",
      "317940 tickets (0 duplicates)\n",
      "784 annotations (0 duplicates)\n"
     ]
    }
   ],
   "source": [
    "from pathlib import Path\n",
    "\n",
    "# this adds the CANOSP root to the path, so we can import from there\n",
    "import sys\n",
    "sys.path.append('../')\n",
    "\n",
    "from json_to_crowdtruth_csv import ticket_to_csv\n",
    "\n",
    "# root of the repository\n",
    "canosp_root_path = Path(\"./..\")\n",
    "\n",
    "# tickets.csv is the 200MB ticket JSON from Google Drive\n",
    "input_json_path = canosp_root_path / \"data/tickets.json\"\n",
    "output_csv_path = canosp_root_path / \"data/crowdtruth_tickets.csv\"\n",
    "\n",
    "ticket_to_csv(input_json_path, output_csv_path)"
   ]
  },
  {
   "cell_type": "markdown",
   "metadata": {},
   "source": [
    "Load the CSV into a pandas dataframe and display the format"
   ]
  },
  {
   "cell_type": "code",
   "execution_count": 3,
   "metadata": {},
   "outputs": [
    {
     "data": {
      "text/html": [
       "<div>\n",
       "<style scoped>\n",
       "    .dataframe tbody tr th:only-of-type {\n",
       "        vertical-align: middle;\n",
       "    }\n",
       "\n",
       "    .dataframe tbody tr th {\n",
       "        vertical-align: top;\n",
       "    }\n",
       "\n",
       "    .dataframe thead th {\n",
       "        text-align: right;\n",
       "    }\n",
       "</style>\n",
       "<table border=\"1\" class=\"dataframe\">\n",
       "  <thead>\n",
       "    <tr style=\"text-align: right;\">\n",
       "      <th></th>\n",
       "      <th>_unit_id</th>\n",
       "      <th>_created_at</th>\n",
       "      <th>_id</th>\n",
       "      <th>_started_at</th>\n",
       "      <th>_worker_id</th>\n",
       "      <th>keywords</th>\n",
       "    </tr>\n",
       "  </thead>\n",
       "  <tbody>\n",
       "    <tr>\n",
       "      <th>0</th>\n",
       "      <td>1271340</td>\n",
       "      <td>1/1/2020 00:02:00</td>\n",
       "      <td>0</td>\n",
       "      <td>1/1/2020 00:00:00</td>\n",
       "      <td>2</td>\n",
       "      <td>[\"firefox70\",\"css\"]</td>\n",
       "    </tr>\n",
       "    <tr>\n",
       "      <th>1</th>\n",
       "      <td>1271340</td>\n",
       "      <td>1/1/2020 00:02:00</td>\n",
       "      <td>1</td>\n",
       "      <td>1/1/2020 00:00:00</td>\n",
       "      <td>6</td>\n",
       "      <td>[\"completely-disable-enhanced-tracking-protect...</td>\n",
       "    </tr>\n",
       "    <tr>\n",
       "      <th>2</th>\n",
       "      <td>1271334</td>\n",
       "      <td>1/1/2020 00:02:00</td>\n",
       "      <td>2</td>\n",
       "      <td>1/1/2020 00:00:00</td>\n",
       "      <td>2</td>\n",
       "      <td>[\"downgrade\",\"ubuntu\"]</td>\n",
       "    </tr>\n",
       "    <tr>\n",
       "      <th>3</th>\n",
       "      <td>1271334</td>\n",
       "      <td>1/1/2020 00:02:00</td>\n",
       "      <td>3</td>\n",
       "      <td>1/1/2020 00:00:00</td>\n",
       "      <td>6</td>\n",
       "      <td>[\"downgrade\",\"firefox\",\"discard\",\"go-back-to-p...</td>\n",
       "    </tr>\n",
       "    <tr>\n",
       "      <th>4</th>\n",
       "      <td>1271333</td>\n",
       "      <td>1/1/2020 00:02:00</td>\n",
       "      <td>4</td>\n",
       "      <td>1/1/2020 00:00:00</td>\n",
       "      <td>2</td>\n",
       "      <td>[\"restart\",\"windows 10\",\"firefox-69.0.3\",\"rest...</td>\n",
       "    </tr>\n",
       "  </tbody>\n",
       "</table>\n",
       "</div>"
      ],
      "text/plain": [
       "   _unit_id        _created_at  _id        _started_at  _worker_id  \\\n",
       "0   1271340  1/1/2020 00:02:00    0  1/1/2020 00:00:00           2   \n",
       "1   1271340  1/1/2020 00:02:00    1  1/1/2020 00:00:00           6   \n",
       "2   1271334  1/1/2020 00:02:00    2  1/1/2020 00:00:00           2   \n",
       "3   1271334  1/1/2020 00:02:00    3  1/1/2020 00:00:00           6   \n",
       "4   1271333  1/1/2020 00:02:00    4  1/1/2020 00:00:00           2   \n",
       "\n",
       "                                            keywords  \n",
       "0                                [\"firefox70\",\"css\"]  \n",
       "1  [\"completely-disable-enhanced-tracking-protect...  \n",
       "2                             [\"downgrade\",\"ubuntu\"]  \n",
       "3  [\"downgrade\",\"firefox\",\"discard\",\"go-back-to-p...  \n",
       "4  [\"restart\",\"windows 10\",\"firefox-69.0.3\",\"rest...  "
      ]
     },
     "execution_count": 3,
     "metadata": {},
     "output_type": "execute_result"
    }
   ],
   "source": [
    "import pandas as pd\n",
    "\n",
    "input_data = pd.read_csv(output_csv_path)\n",
    "input_data.head()"
   ]
  },
  {
   "cell_type": "markdown",
   "metadata": {},
   "source": [
    "CrowdTruth config"
   ]
  },
  {
   "cell_type": "code",
   "execution_count": 4,
   "metadata": {},
   "outputs": [],
   "source": [
    "class CanospConfig(DefaultConfig):\n",
    "    inputColumns = []\n",
    "    outputColumns = [\"keywords\"]\n",
    "    customPlatformColumns = []\n",
    "    \n",
    "    # processing of a closed task\n",
    "    open_ended_task = True\n",
    "    annotation_vector = []\n",
    "    \n",
    "    def processJudgments(self, judgments):\n",
    "        # pre-process output to match the values in annotation_vector\n",
    "        for col in self.outputColumns:\n",
    "            # transform to lowercase\n",
    "            judgments[col] = judgments[col].apply(lambda x: str(x).lower())\n",
    "            # remove square brackets from annotations\n",
    "            judgments[col] = judgments[col].apply(lambda x: str(x).replace('[]','no tags'))\n",
    "            judgments[col] = judgments[col].apply(lambda x: str(x).replace('[',''))\n",
    "            judgments[col] = judgments[col].apply(lambda x: str(x).replace(']',''))\n",
    "            # remove the quotes around the annotations\n",
    "            judgments[col] = judgments[col].apply(lambda x: str(x).replace('\"',''))\n",
    "\n",
    "        return judgments\n"
   ]
  },
  {
   "cell_type": "markdown",
   "metadata": {},
   "source": [
    "Load the data"
   ]
  },
  {
   "cell_type": "code",
   "execution_count": 5,
   "metadata": {},
   "outputs": [
    {
     "name": "stderr",
     "output_type": "stream",
     "text": [
      "WARNING:root:39 Media Units that were annotated by only 1 Worker were omitted, since agreement cannot be calculated.\n"
     ]
    },
    {
     "data": {
      "text/html": [
       "<div>\n",
       "<style scoped>\n",
       "    .dataframe tbody tr th:only-of-type {\n",
       "        vertical-align: middle;\n",
       "    }\n",
       "\n",
       "    .dataframe tbody tr th {\n",
       "        vertical-align: top;\n",
       "    }\n",
       "\n",
       "    .dataframe thead th {\n",
       "        text-align: right;\n",
       "    }\n",
       "</style>\n",
       "<table border=\"1\" class=\"dataframe\">\n",
       "  <thead>\n",
       "    <tr style=\"text-align: right;\">\n",
       "      <th></th>\n",
       "      <th>output.keywords</th>\n",
       "      <th>output.keywords.count</th>\n",
       "      <th>output.keywords.unique</th>\n",
       "      <th>unit</th>\n",
       "      <th>worker</th>\n",
       "      <th>started</th>\n",
       "      <th>submitted</th>\n",
       "      <th>duration</th>\n",
       "      <th>job</th>\n",
       "    </tr>\n",
       "    <tr>\n",
       "      <th>judgment</th>\n",
       "      <th></th>\n",
       "      <th></th>\n",
       "      <th></th>\n",
       "      <th></th>\n",
       "      <th></th>\n",
       "      <th></th>\n",
       "      <th></th>\n",
       "      <th></th>\n",
       "      <th></th>\n",
       "    </tr>\n",
       "  </thead>\n",
       "  <tbody>\n",
       "    <tr>\n",
       "      <th>0</th>\n",
       "      <td>{'firefox70': 1, 'css': 1}</td>\n",
       "      <td>2</td>\n",
       "      <td>2</td>\n",
       "      <td>1271340</td>\n",
       "      <td>2</td>\n",
       "      <td>2020-01-01</td>\n",
       "      <td>2020-01-01 00:02:00</td>\n",
       "      <td>120</td>\n",
       "      <td>../data/crowdtruth_tickets</td>\n",
       "    </tr>\n",
       "    <tr>\n",
       "      <th>1</th>\n",
       "      <td>{'completely-disable-enhanced-tracking-protect...</td>\n",
       "      <td>7</td>\n",
       "      <td>7</td>\n",
       "      <td>1271340</td>\n",
       "      <td>6</td>\n",
       "      <td>2020-01-01</td>\n",
       "      <td>2020-01-01 00:02:00</td>\n",
       "      <td>120</td>\n",
       "      <td>../data/crowdtruth_tickets</td>\n",
       "    </tr>\n",
       "    <tr>\n",
       "      <th>2</th>\n",
       "      <td>{'downgrade': 1, 'ubuntu': 1}</td>\n",
       "      <td>2</td>\n",
       "      <td>2</td>\n",
       "      <td>1271334</td>\n",
       "      <td>2</td>\n",
       "      <td>2020-01-01</td>\n",
       "      <td>2020-01-01 00:02:00</td>\n",
       "      <td>120</td>\n",
       "      <td>../data/crowdtruth_tickets</td>\n",
       "    </tr>\n",
       "    <tr>\n",
       "      <th>3</th>\n",
       "      <td>{'downgrade': 1, 'firefox': 1, 'discard': 1, '...</td>\n",
       "      <td>8</td>\n",
       "      <td>8</td>\n",
       "      <td>1271334</td>\n",
       "      <td>6</td>\n",
       "      <td>2020-01-01</td>\n",
       "      <td>2020-01-01 00:02:00</td>\n",
       "      <td>120</td>\n",
       "      <td>../data/crowdtruth_tickets</td>\n",
       "    </tr>\n",
       "    <tr>\n",
       "      <th>4</th>\n",
       "      <td>{'restart': 1, 'windows 10': 1, 'firefox-69.0....</td>\n",
       "      <td>4</td>\n",
       "      <td>4</td>\n",
       "      <td>1271333</td>\n",
       "      <td>2</td>\n",
       "      <td>2020-01-01</td>\n",
       "      <td>2020-01-01 00:02:00</td>\n",
       "      <td>120</td>\n",
       "      <td>../data/crowdtruth_tickets</td>\n",
       "    </tr>\n",
       "  </tbody>\n",
       "</table>\n",
       "</div>"
      ],
      "text/plain": [
       "                                            output.keywords  \\\n",
       "judgment                                                      \n",
       "0                                {'firefox70': 1, 'css': 1}   \n",
       "1         {'completely-disable-enhanced-tracking-protect...   \n",
       "2                             {'downgrade': 1, 'ubuntu': 1}   \n",
       "3         {'downgrade': 1, 'firefox': 1, 'discard': 1, '...   \n",
       "4         {'restart': 1, 'windows 10': 1, 'firefox-69.0....   \n",
       "\n",
       "          output.keywords.count  output.keywords.unique     unit  worker  \\\n",
       "judgment                                                                   \n",
       "0                             2                       2  1271340       2   \n",
       "1                             7                       7  1271340       6   \n",
       "2                             2                       2  1271334       2   \n",
       "3                             8                       8  1271334       6   \n",
       "4                             4                       4  1271333       2   \n",
       "\n",
       "            started           submitted  duration                         job  \n",
       "judgment                                                                       \n",
       "0        2020-01-01 2020-01-01 00:02:00       120  ../data/crowdtruth_tickets  \n",
       "1        2020-01-01 2020-01-01 00:02:00       120  ../data/crowdtruth_tickets  \n",
       "2        2020-01-01 2020-01-01 00:02:00       120  ../data/crowdtruth_tickets  \n",
       "3        2020-01-01 2020-01-01 00:02:00       120  ../data/crowdtruth_tickets  \n",
       "4        2020-01-01 2020-01-01 00:02:00       120  ../data/crowdtruth_tickets  "
      ]
     },
     "execution_count": 5,
     "metadata": {},
     "output_type": "execute_result"
    }
   ],
   "source": [
    "data, config = crowdtruth.load(\n",
    "    file = str(output_csv_path),\n",
    "    config = CanospConfig()\n",
    ")\n",
    "\n",
    "data['judgments'].head()"
   ]
  },
  {
   "cell_type": "markdown",
   "metadata": {},
   "source": [
    "## Compute CrowdTruth metrics"
   ]
  },
  {
   "cell_type": "code",
   "execution_count": 6,
   "metadata": {},
   "outputs": [
    {
     "data": {
      "text/plain": [
       "dict_keys(['jobs', 'units', 'workers', 'judgments', 'annotations'])"
      ]
     },
     "execution_count": 6,
     "metadata": {},
     "output_type": "execute_result"
    }
   ],
   "source": [
    "results = crowdtruth.run(data, config)\n",
    "\n",
    "results.keys()"
   ]
  },
  {
   "cell_type": "code",
   "execution_count": 7,
   "metadata": {},
   "outputs": [],
   "source": [
    "taggers = {\n",
    "    0 : \"SUMO\",\n",
    "    1 : \"Martin\",\n",
    "    2 : \"Yuan\",\n",
    "    3 : \"Will\",\n",
    "    4 : \"Ana\",\n",
    "    5 : \"Michael\",\n",
    "    6 : \"Eve\",\n",
    "    7 : \"Brady\",\n",
    "    8 : \"Joni\",\n",
    "    9 : \"Roland\"\n",
    "}"
   ]
  },
  {
   "cell_type": "markdown",
   "metadata": {},
   "source": [
    "# Results"
   ]
  },
  {
   "cell_type": "markdown",
   "metadata": {},
   "source": [
    "## Ticket and Tag Quality"
   ]
  },
  {
   "cell_type": "markdown",
   "metadata": {},
   "source": [
    "### Tag quality scores\n",
    "\n",
    "**worker**: tagger ID\n",
    "\n",
    "**unit**: number of tickets annotated by the tagger\n",
    "\n",
    "**uqs**: unit quality score (0-1) - expresses the overall worker agreement over one ticket"
   ]
  },
  {
   "cell_type": "code",
   "execution_count": 8,
   "metadata": {},
   "outputs": [
    {
     "data": {
      "text/html": [
       "<div>\n",
       "<style scoped>\n",
       "    .dataframe tbody tr th:only-of-type {\n",
       "        vertical-align: middle;\n",
       "    }\n",
       "\n",
       "    .dataframe tbody tr th {\n",
       "        vertical-align: top;\n",
       "    }\n",
       "\n",
       "    .dataframe thead th {\n",
       "        text-align: right;\n",
       "    }\n",
       "</style>\n",
       "<table border=\"1\" class=\"dataframe\">\n",
       "  <thead>\n",
       "    <tr style=\"text-align: right;\">\n",
       "      <th></th>\n",
       "      <th>worker</th>\n",
       "      <th>name</th>\n",
       "      <th>uqs</th>\n",
       "      <th>tags</th>\n",
       "      <th>tag_quality</th>\n",
       "    </tr>\n",
       "    <tr>\n",
       "      <th>unit</th>\n",
       "      <th></th>\n",
       "      <th></th>\n",
       "      <th></th>\n",
       "      <th></th>\n",
       "      <th></th>\n",
       "    </tr>\n",
       "  </thead>\n",
       "  <tbody>\n",
       "    <tr>\n",
       "      <th>1274645</th>\n",
       "      <td>3</td>\n",
       "      <td>Will</td>\n",
       "      <td>0.863824</td>\n",
       "      <td>{'off-topic': 3, 'email': 1}</td>\n",
       "      <td>{'off-topic': 1.0, 'email': 0.17809501225752017}</td>\n",
       "    </tr>\n",
       "    <tr>\n",
       "      <th>1271137</th>\n",
       "      <td>2</td>\n",
       "      <td>Yuan</td>\n",
       "      <td>0.816497</td>\n",
       "      <td>{'firefox': 2, 'password': 2, 'sync': 2, '': 2...</td>\n",
       "      <td>{'firefox': 1.0, 'password': 1.0, 'sync': 1.0,...</td>\n",
       "    </tr>\n",
       "    <tr>\n",
       "      <th>1276763</th>\n",
       "      <td>3</td>\n",
       "      <td>Will</td>\n",
       "      <td>0.609124</td>\n",
       "      <td>{' deleted': 1, 'profile': 3, 'windows7': 2, '...</td>\n",
       "      <td>{' deleted': 0.3769301327267123, 'profile': 1....</td>\n",
       "    </tr>\n",
       "    <tr>\n",
       "      <th>1276809</th>\n",
       "      <td>2</td>\n",
       "      <td>Yuan</td>\n",
       "      <td>0.566947</td>\n",
       "      <td>{'upload': 2, 'quit': 2, 'warning': 2, 'add-fe...</td>\n",
       "      <td>{'upload': 1.0, 'quit': 1.0, 'warning': 1.0, '...</td>\n",
       "    </tr>\n",
       "    <tr>\n",
       "      <th>1271065</th>\n",
       "      <td>2</td>\n",
       "      <td>Yuan</td>\n",
       "      <td>0.566947</td>\n",
       "      <td>{'windows-8.1': 1, 'firefox': 2, 'thunderbird'...</td>\n",
       "      <td>{'windows-8.1': 0.5165612626291611, 'firefox':...</td>\n",
       "    </tr>\n",
       "    <tr>\n",
       "      <th>...</th>\n",
       "      <td>...</td>\n",
       "      <td>...</td>\n",
       "      <td>...</td>\n",
       "      <td>...</td>\n",
       "      <td>...</td>\n",
       "    </tr>\n",
       "    <tr>\n",
       "      <th>1274678</th>\n",
       "      <td>3</td>\n",
       "      <td>Will</td>\n",
       "      <td>0.000000</td>\n",
       "      <td>{'': 1, 'desktop': 1, '71': 1, 'addon': 1, 'pr...</td>\n",
       "      <td>{'': 0.41041291588409706, 'desktop': 0.4114920...</td>\n",
       "    </tr>\n",
       "    <tr>\n",
       "      <th>1271218</th>\n",
       "      <td>2</td>\n",
       "      <td>Yuan</td>\n",
       "      <td>0.000000</td>\n",
       "      <td>{'firefox 70': 1, 'tabs-width': 1, '70': 1, 'w...</td>\n",
       "      <td>{'firefox 70': 0.48842971215859265, 'tabs-widt...</td>\n",
       "    </tr>\n",
       "    <tr>\n",
       "      <th>1274684</th>\n",
       "      <td>3</td>\n",
       "      <td>Will</td>\n",
       "      <td>0.000000</td>\n",
       "      <td>{'opening-documents': 1, '': 1, 'desktop': 1, ...</td>\n",
       "      <td>{'opening-documents': 0.41041291588409706, '':...</td>\n",
       "    </tr>\n",
       "    <tr>\n",
       "      <th>1271212</th>\n",
       "      <td>2</td>\n",
       "      <td>Yuan</td>\n",
       "      <td>0.000000</td>\n",
       "      <td>{'firefox-70': 1, 'new-version': 1, 'lost-data...</td>\n",
       "      <td>{'firefox-70': 0.48842971215859265, 'new-versi...</td>\n",
       "    </tr>\n",
       "    <tr>\n",
       "      <th>1276843</th>\n",
       "      <td>2</td>\n",
       "      <td>Yuan</td>\n",
       "      <td>0.000000</td>\n",
       "      <td>{'ssr': 1, 'css': 1, 'rendering': 1, 'report':...</td>\n",
       "      <td>{'ssr': 0.46552509530979885, 'css': 0.46552509...</td>\n",
       "    </tr>\n",
       "  </tbody>\n",
       "</table>\n",
       "<p>315 rows × 5 columns</p>\n",
       "</div>"
      ],
      "text/plain": [
       "         worker  name       uqs  \\\n",
       "unit                              \n",
       "1274645       3  Will  0.863824   \n",
       "1271137       2  Yuan  0.816497   \n",
       "1276763       3  Will  0.609124   \n",
       "1276809       2  Yuan  0.566947   \n",
       "1271065       2  Yuan  0.566947   \n",
       "...         ...   ...       ...   \n",
       "1274678       3  Will  0.000000   \n",
       "1271218       2  Yuan  0.000000   \n",
       "1274684       3  Will  0.000000   \n",
       "1271212       2  Yuan  0.000000   \n",
       "1276843       2  Yuan  0.000000   \n",
       "\n",
       "                                                      tags  \\\n",
       "unit                                                         \n",
       "1274645                       {'off-topic': 3, 'email': 1}   \n",
       "1271137  {'firefox': 2, 'password': 2, 'sync': 2, '': 2...   \n",
       "1276763  {' deleted': 1, 'profile': 3, 'windows7': 2, '...   \n",
       "1276809  {'upload': 2, 'quit': 2, 'warning': 2, 'add-fe...   \n",
       "1271065  {'windows-8.1': 1, 'firefox': 2, 'thunderbird'...   \n",
       "...                                                    ...   \n",
       "1274678  {'': 1, 'desktop': 1, '71': 1, 'addon': 1, 'pr...   \n",
       "1271218  {'firefox 70': 1, 'tabs-width': 1, '70': 1, 'w...   \n",
       "1274684  {'opening-documents': 1, '': 1, 'desktop': 1, ...   \n",
       "1271212  {'firefox-70': 1, 'new-version': 1, 'lost-data...   \n",
       "1276843  {'ssr': 1, 'css': 1, 'rendering': 1, 'report':...   \n",
       "\n",
       "                                               tag_quality  \n",
       "unit                                                        \n",
       "1274645   {'off-topic': 1.0, 'email': 0.17809501225752017}  \n",
       "1271137  {'firefox': 1.0, 'password': 1.0, 'sync': 1.0,...  \n",
       "1276763  {' deleted': 0.3769301327267123, 'profile': 1....  \n",
       "1276809  {'upload': 1.0, 'quit': 1.0, 'warning': 1.0, '...  \n",
       "1271065  {'windows-8.1': 0.5165612626291611, 'firefox':...  \n",
       "...                                                    ...  \n",
       "1274678  {'': 0.41041291588409706, 'desktop': 0.4114920...  \n",
       "1271218  {'firefox 70': 0.48842971215859265, 'tabs-widt...  \n",
       "1274684  {'opening-documents': 0.41041291588409706, '':...  \n",
       "1271212  {'firefox-70': 0.48842971215859265, 'new-versi...  \n",
       "1276843  {'ssr': 0.46552509530979885, 'css': 0.46552509...  \n",
       "\n",
       "[315 rows x 5 columns]"
      ]
     },
     "execution_count": 8,
     "metadata": {},
     "output_type": "execute_result"
    }
   ],
   "source": [
    "unit_results = results[\"units\"]\n",
    "\n",
    "unit_results[\"name\"] = unit_results[\"worker\"].map(taggers)\n",
    "\n",
    "unit_results.rename(columns={'output.keywords': 'tags', 'unit_annotation_score': 'tag_quality'}, inplace=True)\n",
    "\n",
    "unit_results[[\"worker\", \"name\", \"uqs\", \"tags\", \"tag_quality\"]].sort_values(\"uqs\", ascending=False)"
   ]
  },
  {
   "cell_type": "code",
   "execution_count": 9,
   "metadata": {},
   "outputs": [],
   "source": [
    "import matplotlib.pyplot as plt\n",
    "%matplotlib inline\n",
    "\n",
    "# set plot size\n",
    "plt.rcParams['figure.figsize'] = [8, 5]"
   ]
  },
  {
   "cell_type": "code",
   "execution_count": 10,
   "metadata": {},
   "outputs": [
    {
     "data": {
      "text/plain": [
       "Text(0, 0.5, 'Count')"
      ]
     },
     "execution_count": 10,
     "metadata": {},
     "output_type": "execute_result"
    },
    {
     "data": {
      "image/png": "[encoded data removed]",
      "text/plain": [
       "<Figure size 576x360 with 1 Axes>"
      ]
     },
     "metadata": {
      "needs_background": "light"
     },
     "output_type": "display_data"
    }
   ],
   "source": [
    "plt.hist(unit_results[\"uqs\"])\n",
    "plt.xlabel(\"Ticket Quality Score\")\n",
    "plt.ylabel(\"Count\")"
   ]
  },
  {
   "cell_type": "markdown",
   "metadata": {},
   "source": [
    "## Tagger Quality"
   ]
  },
  {
   "cell_type": "markdown",
   "metadata": {},
   "source": [
    "### Tagger quality scores\n",
    "\n",
    "**worker**: tagger ID\n",
    "\n",
    "**unit**: number of tickets annotated by the tagger\n",
    "\n",
    "**wqs**: worker quality score (0-1) - measures the overall agreement of one tagger with the other taggers. function of `wwa` and `wsa`\n",
    "\n",
    "**wwa**: worker-worker agreement (0-1) - measures the average pairwise agreement between a tagger and all other taggers, indicating how close a tagger performs compared to taggers solving the same task\n",
    "\n",
    "**wsa**: worker-sentence agreement (0-1) - the agreement of a tagger with all the taggers that annotated the same ticket"
   ]
  },
  {
   "cell_type": "code",
   "execution_count": 11,
   "metadata": {},
   "outputs": [
    {
     "data": {
      "text/html": [
       "<div>\n",
       "<style scoped>\n",
       "    .dataframe tbody tr th:only-of-type {\n",
       "        vertical-align: middle;\n",
       "    }\n",
       "\n",
       "    .dataframe tbody tr th {\n",
       "        vertical-align: top;\n",
       "    }\n",
       "\n",
       "    .dataframe thead th {\n",
       "        text-align: right;\n",
       "    }\n",
       "</style>\n",
       "<table border=\"1\" class=\"dataframe\">\n",
       "  <thead>\n",
       "    <tr style=\"text-align: right;\">\n",
       "      <th></th>\n",
       "      <th>name</th>\n",
       "      <th>tickets</th>\n",
       "      <th>average_unique_tags</th>\n",
       "      <th>wqs</th>\n",
       "      <th>wwa</th>\n",
       "      <th>wsa</th>\n",
       "    </tr>\n",
       "    <tr>\n",
       "      <th>worker</th>\n",
       "      <th></th>\n",
       "      <th></th>\n",
       "      <th></th>\n",
       "      <th></th>\n",
       "      <th></th>\n",
       "      <th></th>\n",
       "    </tr>\n",
       "  </thead>\n",
       "  <tbody>\n",
       "    <tr>\n",
       "      <th>8</th>\n",
       "      <td>Joni</td>\n",
       "      <td>54</td>\n",
       "      <td>4.240741</td>\n",
       "      <td>0.224123</td>\n",
       "      <td>0.433214</td>\n",
       "      <td>0.517351</td>\n",
       "    </tr>\n",
       "    <tr>\n",
       "      <th>4</th>\n",
       "      <td>Ana</td>\n",
       "      <td>52</td>\n",
       "      <td>1.750000</td>\n",
       "      <td>0.223536</td>\n",
       "      <td>0.435931</td>\n",
       "      <td>0.512777</td>\n",
       "    </tr>\n",
       "    <tr>\n",
       "      <th>1</th>\n",
       "      <td>Martin</td>\n",
       "      <td>63</td>\n",
       "      <td>5.349206</td>\n",
       "      <td>0.135712</td>\n",
       "      <td>0.333303</td>\n",
       "      <td>0.407174</td>\n",
       "    </tr>\n",
       "    <tr>\n",
       "      <th>7</th>\n",
       "      <td>Brady</td>\n",
       "      <td>100</td>\n",
       "      <td>4.040000</td>\n",
       "      <td>0.119901</td>\n",
       "      <td>0.321353</td>\n",
       "      <td>0.373113</td>\n",
       "    </tr>\n",
       "    <tr>\n",
       "      <th>5</th>\n",
       "      <td>Michael</td>\n",
       "      <td>80</td>\n",
       "      <td>2.812500</td>\n",
       "      <td>0.111606</td>\n",
       "      <td>0.334075</td>\n",
       "      <td>0.334075</td>\n",
       "    </tr>\n",
       "    <tr>\n",
       "      <th>6</th>\n",
       "      <td>Eve</td>\n",
       "      <td>161</td>\n",
       "      <td>7.378882</td>\n",
       "      <td>0.104450</td>\n",
       "      <td>0.323435</td>\n",
       "      <td>0.322939</td>\n",
       "    </tr>\n",
       "    <tr>\n",
       "      <th>3</th>\n",
       "      <td>Will</td>\n",
       "      <td>100</td>\n",
       "      <td>3.840000</td>\n",
       "      <td>0.104433</td>\n",
       "      <td>0.302577</td>\n",
       "      <td>0.345145</td>\n",
       "    </tr>\n",
       "    <tr>\n",
       "      <th>2</th>\n",
       "      <td>Yuan</td>\n",
       "      <td>81</td>\n",
       "      <td>2.555556</td>\n",
       "      <td>0.099725</td>\n",
       "      <td>0.315793</td>\n",
       "      <td>0.315793</td>\n",
       "    </tr>\n",
       "    <tr>\n",
       "      <th>9</th>\n",
       "      <td>Roland</td>\n",
       "      <td>54</td>\n",
       "      <td>2.703704</td>\n",
       "      <td>0.097001</td>\n",
       "      <td>0.289279</td>\n",
       "      <td>0.335321</td>\n",
       "    </tr>\n",
       "  </tbody>\n",
       "</table>\n",
       "</div>"
      ],
      "text/plain": [
       "           name  tickets  average_unique_tags       wqs       wwa       wsa\n",
       "worker                                                                     \n",
       "8          Joni       54             4.240741  0.224123  0.433214  0.517351\n",
       "4           Ana       52             1.750000  0.223536  0.435931  0.512777\n",
       "1        Martin       63             5.349206  0.135712  0.333303  0.407174\n",
       "7         Brady      100             4.040000  0.119901  0.321353  0.373113\n",
       "5       Michael       80             2.812500  0.111606  0.334075  0.334075\n",
       "6           Eve      161             7.378882  0.104450  0.323435  0.322939\n",
       "3          Will      100             3.840000  0.104433  0.302577  0.345145\n",
       "2          Yuan       81             2.555556  0.099725  0.315793  0.315793\n",
       "9        Roland       54             2.703704  0.097001  0.289279  0.335321"
      ]
     },
     "execution_count": 11,
     "metadata": {},
     "output_type": "execute_result"
    }
   ],
   "source": [
    "worker_results = results[\"workers\"]\n",
    "worker_results[\"name\"] = worker_results.index.to_series().map(taggers)\n",
    "\n",
    "# average number of unique tags per annotation, per worker\n",
    "num_tags_results = results[\"judgments\"][[\"worker\", \"output.keywords.unique\"]]\n",
    "average_num_tags = num_tags_results.groupby(['worker'], as_index=True).mean()\n",
    "\n",
    "worker_results = worker_results.join(average_num_tags)\n",
    "\n",
    "worker_results.rename(columns={'output.keywords.unique': 'average_unique_tags', 'unit': 'tickets'}, inplace=True)\n",
    "\n",
    "# wqs sorted by wqs, descending order \n",
    "worker_results.sort_values(\"wqs\", ascending=False)[[\"name\", \"tickets\", \"average_unique_tags\", \"wqs\", \"wwa\", \"wsa\"]]"
   ]
  },
  {
   "cell_type": "markdown",
   "metadata": {},
   "source": [
    "Histogram of tagger quality scores"
   ]
  },
  {
   "cell_type": "code",
   "execution_count": 12,
   "metadata": {},
   "outputs": [
    {
     "data": {
      "text/plain": [
       "Text(0, 0.5, 'Count')"
      ]
     },
     "execution_count": 12,
     "metadata": {},
     "output_type": "execute_result"
    },
    {
     "data": {
      "image/png": "[encoded data removed]",
      "text/plain": [
       "<Figure size 576x360 with 1 Axes>"
      ]
     },
     "metadata": {
      "needs_background": "light"
     },
     "output_type": "display_data"
    }
   ],
   "source": [
    "plt.hist(worker_results[\"wqs\"])\n",
    "plt.xlabel(\"Tagger Quality Score\")\n",
    "plt.ylabel(\"Count\")"
   ]
  },
  {
   "cell_type": "markdown",
   "metadata": {},
   "source": [
    "Plot tagger quality metrics based on number of tags per ticket\n",
    "\n",
    "With such a low sample size I don't know how much this actually tells us, but it's kinda interesting"
   ]
  },
  {
   "cell_type": "code",
   "execution_count": 13,
   "metadata": {},
   "outputs": [
    {
     "data": {
      "text/plain": [
       "[<matplotlib.lines.Line2D at 0x7f9a9a74b110>]"
      ]
     },
     "execution_count": 13,
     "metadata": {},
     "output_type": "execute_result"
    },
    {
     "data": {
      "image/png": "[encoded data removed]",
      "text/plain": [
       "<Figure size 576x360 with 1 Axes>"
      ]
     },
     "metadata": {
      "needs_background": "light"
     },
     "output_type": "display_data"
    }
   ],
   "source": [
    "import numpy as np\n",
    "\n",
    "x = worker_results[\"average_unique_tags\"]\n",
    "y = worker_results[\"wqs\"]\n",
    "\n",
    "plt.scatter(x, y)\n",
    "plt.xlabel(\"Average # of tags per ticket\")\n",
    "plt.ylabel(\"Tagger quality metric\")\n",
    "\n",
    "z = np.polyfit(x, y, 1)\n",
    "p = np.poly1d(z)\n",
    "plt.plot(x, p(x), \"r\")"
   ]
  }
 ],
 "metadata": {
  "kernelspec": {
   "display_name": "Python 3",
   "language": "python",
   "name": "python3"
  },
  "language_info": {
   "codemirror_mode": {
    "name": "ipython",
    "version": 3
   },
   "file_extension": ".py",
   "mimetype": "text/x-python",
   "name": "python",
   "nbconvert_exporter": "python",
   "pygments_lexer": "ipython3",
   "version": "3.7.6"
  }
 },
 "nbformat": 4,
 "nbformat_minor": 2
}
