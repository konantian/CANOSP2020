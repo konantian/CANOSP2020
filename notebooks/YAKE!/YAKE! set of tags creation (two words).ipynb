{
 "cells": [
  {
   "cell_type": "markdown",
   "metadata": {},
   "source": [
    "Information about YAKE!: https://github.com/LIAAD/yake\n",
    "\n",
    "The lower the score, the more relevant the keyword is."
   ]
  },
  {
   "cell_type": "code",
   "execution_count": 1,
   "metadata": {},
   "outputs": [],
   "source": [
    "\"\"\"\n",
    "To-do:\n",
    "\n",
    " [+] Add preprocessing that Michael created\n",
    " [+] Create a csv/json file that has ticket_id and tags assigned to it\n",
    " [+] Do analysis with one word only (not two)\n",
    " \n",
    "\"\"\"\n",
    "\n",
    "import yake\n",
    "import json\n",
    "import re\n",
    "import operator\n",
    "import csv"
   ]
  },
  {
   "cell_type": "markdown",
   "metadata": {},
   "source": [
    "## Get data from csv and put it into the dictionary"
   ]
  },
  {
   "cell_type": "code",
   "execution_count": 2,
   "metadata": {},
   "outputs": [],
   "source": [
    "csv_file_path = 'Data/tickets_clean.csv'\n",
    "json_file_path = 'data/ticket_data.json'\n",
    "\n",
    "data = []\n",
    "with open(csv_file_path, encoding=\"utf8\") as csv_file:\n",
    "    csv_reader = csv.DictReader(csv_file)\n",
    "    \n",
    "    for rows in csv_reader:\n",
    "        ticket = {}\n",
    "        \n",
    "        ticket[\"id\"] = rows['id']\n",
    "        ticket[\"title\"] = rows['title']\n",
    "        ticket[\"content\"] = rows['content']\n",
    "        \n",
    "        data.append(ticket)\n",
    "        \n",
    "with open(json_file_path, 'w') as json_file:\n",
    "    json_file.write(json.dumps(data))"
   ]
  },
  {
   "cell_type": "markdown",
   "metadata": {},
   "source": [
    "## Function that implements YAKE!"
   ]
  },
  {
   "cell_type": "code",
   "execution_count": 3,
   "metadata": {},
   "outputs": [],
   "source": [
    "def get_keywords(text):\n",
    "    \n",
    "    language = \"en\"\n",
    "    max_ngram_size = 2\n",
    "    deduplication_thresold = 0.9\n",
    "    deduplication_algo = 'seqm'\n",
    "    windowSize = 1\n",
    "    numOfKeywords = 20\n",
    "\n",
    "    custom_kw_extractor = yake.KeywordExtractor(lan=language, n=max_ngram_size, dedupLim=deduplication_thresold, dedupFunc=deduplication_algo, windowsSize=windowSize, top=numOfKeywords, features=None)\n",
    "    keywords = custom_kw_extractor.extract_keywords(text)\n",
    "    \n",
    "    return keywords"
   ]
  },
  {
   "cell_type": "markdown",
   "metadata": {},
   "source": [
    "## Get keywords, create 2 files: file with ticket id and it's tags and file that has a set of teh most common tags"
   ]
  },
  {
   "cell_type": "code",
   "execution_count": 4,
   "metadata": {},
   "outputs": [],
   "source": [
    "\"\"\"\n",
    "for each ticket in the json file:\n",
    "    - Combine title and content\n",
    "    - Get tags\n",
    "    - Add to the dict\n",
    "\"\"\"\n",
    "tags_dict = {}\n",
    "tickets_with_tags = {}\n",
    "\n",
    "for i in range(20000):\n",
    "    text = data[i]['title'] + ' ' + data[i]['content']\n",
    "    \n",
    "    #print(text)\n",
    "    try:\n",
    "        tags_list = get_keywords(text)\n",
    "    except:\n",
    "        print('An error occurred.')\n",
    "        continue\n",
    "    #print(tags_list)\n",
    "    \n",
    "    tags_for_ticket = []\n",
    "    for tag_value_pair in tags_list:\n",
    "        tag = tag_value_pair[0]\n",
    "        value = tag_value_pair[1]\n",
    "         \n",
    "        if value <= 0.1:\n",
    "            tags_for_ticket.append(tag)\n",
    "            \n",
    "            if tag in tags_dict:\n",
    "                tags_dict[tag] += 1\n",
    "            else:\n",
    "                tags_dict[tag] = 1\n",
    "            \n",
    "    \n",
    "    tickets_with_tags[data[i]['id']] = tags_for_ticket\n",
    "\n",
    "#print(tickets_with_tags)\n"
   ]
  },
  {
   "cell_type": "code",
   "execution_count": null,
   "metadata": {},
   "outputs": [],
   "source": [
    "for i in range(20000):\n",
    "    text = data[i]['title'] + ' ' + data[i]['content']\n",
    "    \n",
    "    #print(text)\n",
    "    try:\n",
    "        tags_list = get_keywords(text)\n",
    "    except:\n",
    "        print('An error occurred.')\n",
    "        continue\n",
    "    #print(tags_list)\n",
    "    \n",
    "    tags_for_ticket = []\n",
    "    for tag_value_pair in tags_list:\n",
    "        tag = tag_value_pair[0]\n",
    "        value = tag_value_pair[1]\n",
    "         \n",
    "        if value <= 0.1:\n",
    "            tags_for_ticket.append(tag)\n",
    "            \n",
    "            if tag in tags_dict:\n",
    "                tags_dict[tag] += 1\n",
    "            else:\n",
    "                tags_dict[tag] = 1\n",
    "            \n",
    "    \n",
    "    tickets_with_tags[data[i]['id']] = tags_for_ticket"
   ]
  },
  {
   "cell_type": "code",
   "execution_count": null,
   "metadata": {},
   "outputs": [],
   "source": [
    "with open('Two words/YAKE_tickets-tags_two_words.json', 'w') as file:\n",
    "    file.write(json.dumps(tickets_with_tags))"
   ]
  },
  {
   "cell_type": "markdown",
   "metadata": {},
   "source": [
    "## Show all data "
   ]
  },
  {
   "cell_type": "code",
   "execution_count": null,
   "metadata": {},
   "outputs": [],
   "source": [
    "sorted_list = sorted(tags_dict.items(), key=operator.itemgetter(1), reverse = True)\n",
    "\n",
    "print(\"{:<35} {:<7}\".format('tag', 'count'))\n",
    "\n",
    "for k, v in sorted_list:\n",
    "    print(\"{:<35} {:<7}\".format(k, v))"
   ]
  },
  {
   "cell_type": "markdown",
   "metadata": {},
   "source": [
    "## Show the most useful tags only"
   ]
  },
  {
   "cell_type": "code",
   "execution_count": null,
   "metadata": {},
   "outputs": [],
   "source": [
    "with open('Two words/YAKE_ALL_tags_two_words.txt', 'w') as file:\n",
    "    file.write(json.dumps(tags_dict))\n",
    "    \n",
    "\n",
    "usefull_tag_dict = {}\n",
    "\n",
    "for key, value in tags_dict.items():\n",
    "    if value > 10:\n",
    "        usefull_tag_dict[key] = value\n",
    "\n",
    "print(len(usefull_tag_dict))\n",
    "        \n",
    "with open('Two words/YAKE_tags_two_words.txt', 'w') as file:\n",
    "    file.write(json.dumps(usefull_tag_dict))"
   ]
  },
  {
   "cell_type": "code",
   "execution_count": null,
   "metadata": {},
   "outputs": [],
   "source": [
    "sorted_list = sorted(usefull_tag_dict.items(), key=operator.itemgetter(1), reverse = True)\n",
    "\n",
    "print(\"{:<35} {:<7}\".format('tag', 'count'))\n",
    "\n",
    "for k, v in sorted_list:\n",
    "    print(\"{:<35} {:<7}\".format(k, v))"
   ]
  },
  {
   "cell_type": "code",
   "execution_count": null,
   "metadata": {},
   "outputs": [],
   "source": []
  }
 ],
 "metadata": {
  "kernelspec": {
   "display_name": "Python 3",
   "language": "python",
   "name": "python3"
  },
  "language_info": {
   "codemirror_mode": {
    "name": "ipython",
    "version": 3
   },
   "file_extension": ".py",
   "mimetype": "text/x-python",
   "name": "python",
   "nbconvert_exporter": "python",
   "pygments_lexer": "ipython3",
   "version": "3.7.4"
  }
 },
 "nbformat": 4,
 "nbformat_minor": 2
}
