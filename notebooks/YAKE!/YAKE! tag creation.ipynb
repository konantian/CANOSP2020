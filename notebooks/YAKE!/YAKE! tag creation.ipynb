{
 "cells": [
  {
   "cell_type": "markdown",
   "metadata": {},
   "source": [
    "Information about YAKE!: https://github.com/LIAAD/yake\n",
    "\n",
    "The lower the score, the more relevant the keyword is."
   ]
  },
  {
   "cell_type": "code",
   "execution_count": 1,
   "metadata": {},
   "outputs": [],
   "source": [
    "import yake"
   ]
  },
  {
   "cell_type": "code",
   "execution_count": 2,
   "metadata": {},
   "outputs": [
    {
     "name": "stdout",
     "output_type": "stream",
     "text": [
      "Firefox crashes. I am having crashes in FF 15.0.1 when I use Outlook Web Access. It usually happens when I change folders or have an item open and go back to the main OWA screen. This is happening many times a day and I always submit a crash report. I have put the latest crash report ID below. Please help as I rely on OWA for my work email.\n",
      "('outlook web access', 0.009210684836432378)\n",
      "('firefox crashes', 0.03861401304577926)\n",
      "('web access', 0.04035202063283081)\n",
      "('outlook web', 0.047179436359135705)\n",
      "('main owa screen', 0.11856554073480315)\n",
      "('firefox', 0.1347860392753769)\n",
      "('crash report', 0.13558494004011987)\n",
      "('crashes', 0.13791638142398546)\n",
      "('owa', 0.16263935961359602)\n",
      "('owa screen', 0.16738271819299103)\n",
      "('access', 0.18273391146629941)\n",
      "('main owa', 0.1976183363765956)\n",
      "('outlook', 0.21225885708708805)\n",
      "('web', 0.21225885708708805)\n",
      "('crash', 0.23093456040939322)\n",
      "('report', 0.23093456040939322)\n",
      "('latest crash report', 0.25524061194013764)\n",
      "('change folders', 0.346510120742742)\n",
      "('item open', 0.346510120742742)\n",
      "('latest crash', 0.3747635184533266)\n"
     ]
    }
   ],
   "source": [
    "text = \"Firefox crashes. I am having crashes in FF 15.0.1 when I use Outlook Web Access. It usually happens when I change folders or have an item open and go back to the main OWA screen. This is happening many times a day and I always submit a crash report. I have put the latest crash report ID below. Please help as I rely on OWA for my work email.\"\n",
    "\n",
    "print(text)\n",
    "\n",
    "language = \"en\"\n",
    "max_ngram_size = 3\n",
    "deduplication_thresold = 0.9\n",
    "deduplication_algo = 'seqm'\n",
    "windowSize = 1\n",
    "numOfKeywords = 20\n",
    "\n",
    "custom_kw_extractor = yake.KeywordExtractor(lan=language, n=max_ngram_size, dedupLim=deduplication_thresold, dedupFunc=deduplication_algo, windowsSize=windowSize, top=numOfKeywords, features=None)\n",
    "keywords = custom_kw_extractor.extract_keywords(text)\n",
    "\n",
    "for kw in keywords:\n",
    "    print(kw)"
   ]
  }
 ],
 "metadata": {
  "kernelspec": {
   "display_name": "Python 3",
   "language": "python",
   "name": "python3"
  },
  "language_info": {
   "codemirror_mode": {
    "name": "ipython",
    "version": 3
   },
   "file_extension": ".py",
   "mimetype": "text/x-python",
   "name": "python",
   "nbconvert_exporter": "python",
   "pygments_lexer": "ipython3",
   "version": "3.7.4"
  }
 },
 "nbformat": 4,
 "nbformat_minor": 2
}
