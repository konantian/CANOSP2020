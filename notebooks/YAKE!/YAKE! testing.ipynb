{
 "cells": [
  {
   "cell_type": "markdown",
   "metadata": {},
   "source": [
    "Information about YAKE!: https://github.com/LIAAD/yake\n",
    "\n",
    "The lower the score, the more relevant the keyword is."
   ]
  },
  {
   "cell_type": "code",
   "execution_count": 1,
   "metadata": {},
   "outputs": [],
   "source": [
    "import yake"
   ]
  },
  {
   "cell_type": "code",
   "execution_count": 2,
   "metadata": {},
   "outputs": [
    {
     "name": "stdout",
     "output_type": "stream",
     "text": [
      "Firefox crashes. I am having crashes in FF 15.0.1 when I use Outlook Web Access. It usually happens when I change folders or have an item open and go back to the main OWA screen. This is happening many times a day and I always submit a crash report. I have put the latest crash report ID below. Please help as I rely on OWA for my work email.\n",
      "('outlook web access', 0.009210684836432378)\n",
      "('firefox crashes', 0.03861401304577926)\n",
      "('web access', 0.04035202063283081)\n",
      "('outlook web', 0.047179436359135705)\n",
      "('main owa screen', 0.11856554073480315)\n",
      "('firefox', 0.1347860392753769)\n",
      "('crash report', 0.13558494004011987)\n",
      "('crashes', 0.13791638142398546)\n",
      "('owa', 0.16263935961359602)\n",
      "('owa screen', 0.16738271819299103)\n",
      "('access', 0.18273391146629941)\n",
      "('main owa', 0.1976183363765956)\n",
      "('outlook', 0.21225885708708805)\n",
      "('web', 0.21225885708708805)\n",
      "('crash', 0.23093456040939322)\n",
      "('report', 0.23093456040939322)\n",
      "('latest crash report', 0.25524061194013764)\n",
      "('change folders', 0.346510120742742)\n",
      "('item open', 0.346510120742742)\n",
      "('latest crash', 0.3747635184533266)\n"
     ]
    }
   ],
   "source": [
    "text = \"Firefox crashes. I am having crashes in FF 15.0.1 when I use Outlook Web Access. It usually happens when I change folders or have an item open and go back to the main OWA screen. This is happening many times a day and I always submit a crash report. I have put the latest crash report ID below. Please help as I rely on OWA for my work email.\"\n",
    "\n",
    "print(text)\n",
    "\n",
    "language = \"en\"\n",
    "max_ngram_size = 3\n",
    "deduplication_thresold = 0.9\n",
    "deduplication_algo = 'seqm'\n",
    "windowSize = 1\n",
    "numOfKeywords = 20\n",
    "\n",
    "custom_kw_extractor = yake.KeywordExtractor(lan=language, n=max_ngram_size, dedupLim=deduplication_thresold, dedupFunc=deduplication_algo, windowsSize=windowSize, top=numOfKeywords, features=None)\n",
    "keywords = custom_kw_extractor.extract_keywords(text)\n",
    "\n",
    "for kw in keywords:\n",
    "    print(kw)"
   ]
  },
  {
   "cell_type": "code",
   "execution_count": 3,
   "metadata": {},
   "outputs": [
    {
     "name": "stdout",
     "output_type": "stream",
     "text": [
      "unable to send any pictures or anything except text through my email. when I try to forward an email I receive that includes pictures, drawings, or video's the persons I send them to only receive a square with something in the square, but even if you try to open the picture you are unable.  thanks   ken\n",
      "('unable', 0.17967317767082244)\n",
      "('send', 0.17967317767082244)\n",
      "('email', 0.17967317767082244)\n",
      "('pictures', 0.20203244949828958)\n",
      "('text', 0.20845275825334178)\n",
      "('includes pictures', 0.239193901932502)\n",
      "('receive', 0.25317956142586984)\n",
      "('square', 0.25317956142586984)\n",
      "('drawings', 0.2890156196648842)\n",
      "('video the persons', 0.2956757897527596)\n",
      "('forward an email', 0.389529936671075)\n",
      "('persons i send', 0.389529936671075)\n",
      "('unable to send', 0.40135017258684347)\n",
      "('picture', 0.40406489899657916)\n",
      "('forward', 0.4777049162590322)\n",
      "('includes', 0.4777049162590322)\n",
      "('video', 0.4777049162590322)\n",
      "('persons', 0.4777049162590322)\n",
      "('open', 0.4777049162590322)\n",
      "('ken', 0.4806228396478434)\n"
     ]
    }
   ],
   "source": [
    "text = \"unable to send any pictures or anything except text through my email. when I try to forward an email I receive that includes pictures, drawings, or video's the persons I send them to only receive a square with something in the square, but even if you try to open the picture you are unable.  thanks   ken\"\n",
    "\n",
    "print(text)\n",
    "\n",
    "language = \"en\"\n",
    "max_ngram_size = 3\n",
    "deduplication_thresold = 0.9\n",
    "deduplication_algo = 'seqm'\n",
    "windowSize = 1\n",
    "numOfKeywords = 20\n",
    "\n",
    "custom_kw_extractor = yake.KeywordExtractor(lan=language, n=max_ngram_size, dedupLim=deduplication_thresold, dedupFunc=deduplication_algo, windowsSize=windowSize, top=numOfKeywords, features=None)\n",
    "keywords = custom_kw_extractor.extract_keywords(text)\n",
    "\n",
    "for kw in keywords:\n",
    "    print(kw)"
   ]
  },
  {
   "cell_type": "code",
   "execution_count": 6,
   "metadata": {},
   "outputs": [
    {
     "name": "stdout",
     "output_type": "stream",
     "text": [
      "Bookmarks in fullscreenWhen I go to fullscreen mode in Youtube, Mozilla hides my bookmarks pane, which is what I want. When I exit fullscreen however, the pane doesn't come back, I have to set it to show manually every time. Is there a way to change this so that it hides for fullscreen but is back in regular mode?\n",
      "('mozilla hides', 0.03021365138219789)\n",
      "('mode in youtube', 0.0619126137366893)\n",
      "('youtube', 0.06622696903001422)\n",
      "('mozilla', 0.06622696903001422)\n",
      "('bookmarks pane', 0.08576041560737233)\n",
      "('bookmarks in fullscreenwhen', 0.10613023780428484)\n",
      "('bookmarks', 0.11151566801511245)\n",
      "('fullscreen', 0.15097610893813476)\n",
      "('pane', 0.17707489427997622)\n",
      "('fullscreenwhen', 0.20474093114853417)\n",
      "('manually every time', 0.22075129273822072)\n",
      "('mode', 0.22141703882789482)\n",
      "('hides', 0.22141703882789482)\n",
      "('back', 0.24914981372463793)\n",
      "('fullscreen mode', 0.25089454259648913)\n",
      "('exit fullscreen', 0.271954578601176)\n",
      "('show manually', 0.28673413719274166)\n",
      "('hides my bookmarks', 0.29977912013224334)\n",
      "('regular mode', 0.33426642904537807)\n",
      "('time', 0.38307232151948584)\n"
     ]
    }
   ],
   "source": [
    "text = \"Bookmarks in fullscreenWhen I go to fullscreen mode in Youtube, Mozilla hides my bookmarks pane, which is what I want. When I exit fullscreen however, the pane doesn't come back, I have to set it to show manually every time. Is there a way to change this so that it hides for fullscreen but is back in regular mode?\"\n",
    "\n",
    "print(text)\n",
    "\n",
    "language = \"en\"\n",
    "max_ngram_size = 3\n",
    "deduplication_thresold = 0.9\n",
    "deduplication_algo = 'seqm'\n",
    "windowSize = 1\n",
    "numOfKeywords = 20\n",
    "\n",
    "custom_kw_extractor = yake.KeywordExtractor(lan=language, n=max_ngram_size, dedupLim=deduplication_thresold, dedupFunc=deduplication_algo, windowsSize=windowSize, top=numOfKeywords, features=None)\n",
    "keywords = custom_kw_extractor.extract_keywords(text)\n",
    "\n",
    "for kw in keywords:\n",
    "    print(kw)"
   ]
  }
 ],
 "metadata": {
  "kernelspec": {
   "display_name": "Python 3",
   "language": "python",
   "name": "python3"
  },
  "language_info": {
   "codemirror_mode": {
    "name": "ipython",
    "version": 3
   },
   "file_extension": ".py",
   "mimetype": "text/x-python",
   "name": "python",
   "nbconvert_exporter": "python",
   "pygments_lexer": "ipython3",
   "version": "3.7.4"
  }
 },
 "nbformat": 4,
 "nbformat_minor": 2
}
