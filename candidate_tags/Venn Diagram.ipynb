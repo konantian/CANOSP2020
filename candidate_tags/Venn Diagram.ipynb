{
 "cells": [
  {
   "cell_type": "code",
   "execution_count": null,
   "metadata": {},
   "outputs": [],
   "source": [
    "\"\"\"\n",
    "TO-DO:\n",
    "[ ] - Intersection of all methods\n",
    "    [ ] - t-Sne + TF-IDF + YAKE! + CrowdTruth\n",
    "[ ] - Intersection of 3 methods\n",
    "    [ ] - t-Sne + TF-IDF + YAKE!\n",
    "    [ ] - t-Sne + TF-IDF + CrowdTruth\n",
    "    [ ] - t-Sne + YAKE! + CrowdTruth\n",
    "    [ ] - TF-IDF + YAKE! + CrowdTruth\n",
    "[ ] - Intersection of 2 methods\n",
    "    [ ] - t-Sne + TF-IDF\n",
    "    [ ] - t-Sne + YAKE!\n",
    "    [ ] - t-Sne + CrowdTruth\n",
    "    \n",
    "    [ ] - TF-IDF + YAKE!\n",
    "    [ ] - t-Sne + TF-IDF\n",
    "    [ ] - TF-IDF + CrowdTruth\n",
    "    \n",
    "    [ ] - t-Sne + YAKE!\n",
    "    [ ] - TF-IDF + YAKE!\n",
    "    [ ] - YAKE! + CrowdTruth\n",
    "    \n",
    "    [ ] - YAKE! + CrowdTruth\n",
    "    [ ] - t-Sne + CrowdTruth\n",
    "    [ ] - TF-IDF + CrowdTruth\n",
    "    \n",
    "[ ] - tags unique to only one method.\n",
    "    [ ] - t-Sne\n",
    "    [ ] - TF-IDF\n",
    "    [ ] - YAKE!\n",
    "    [ ] - CrowdTruth\n",
    "\"\"\""
   ]
  },
  {
   "cell_type": "code",
   "execution_count": null,
   "metadata": {},
   "outputs": [],
   "source": [
    "import csv"
   ]
  },
  {
   "cell_type": "code",
   "execution_count": null,
   "metadata": {},
   "outputs": [],
   "source": [
    "file_paths = ['crowdtruth.csv', 'TF-IDF.csv', 't-sne.csv', 'YAKE.csv']\n"
   ]
  }
 ],
 "metadata": {
  "kernelspec": {
   "display_name": "Python 3",
   "language": "python",
   "name": "python3"
  },
  "language_info": {
   "codemirror_mode": {
    "name": "ipython",
    "version": 3
   },
   "file_extension": ".py",
   "mimetype": "text/x-python",
   "name": "python",
   "nbconvert_exporter": "python",
   "pygments_lexer": "ipython3",
   "version": "3.7.4"
  }
 },
 "nbformat": 4,
 "nbformat_minor": 2
}
